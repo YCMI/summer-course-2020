{
  "nbformat": 4,
  "nbformat_minor": 0,
  "metadata": {
    "colab": {
      "name": "Copy of [YCMI_CBDS Summer Course] Summative Activity and Applying Methods Learned - solutions",
      "provenance": [],
      "collapsed_sections": []
    },
    "kernelspec": {
      "name": "python3",
      "display_name": "Python 3"
    }
  },
  "cells": [
    {
      "cell_type": "markdown",
      "metadata": {
        "id": "o6k1iS6FNJq9",
        "colab_type": "text"
      },
      "source": [
        "For this exercise, we'll need several things from `sklearn`:"
      ]
    },
    {
      "cell_type": "code",
      "metadata": {
        "id": "GEUNfyJoNKtq",
        "colab_type": "code",
        "colab": {}
      },
      "source": [
        "from sklearn import decomposition\n",
        "from sklearn.preprocessing import StandardScaler\n",
        "from sklearn.model_selection import cross_val_score\n",
        "from sklearn.ensemble import RandomForestClassifier\n",
        "from sklearn.model_selection import train_test_split\n",
        "from sklearn.metrics import confusion_matrix"
      ],
      "execution_count": 0,
      "outputs": []
    },
    {
      "cell_type": "markdown",
      "metadata": {
        "id": "t_nXgPU4rbK8",
        "colab_type": "text"
      },
      "source": [
        "We'll also need three other modules: `pandas`, `plotnine`, `sqlite3`."
      ]
    },
    {
      "cell_type": "code",
      "metadata": {
        "id": "zwtfi4AQr4jO",
        "colab_type": "code",
        "colab": {}
      },
      "source": [
        "import pandas as pd\n",
        "import plotnine as p9\n",
        "import sqlite3"
      ],
      "execution_count": 0,
      "outputs": []
    },
    {
      "cell_type": "markdown",
      "metadata": {
        "id": "lFUYGCwrr6PA",
        "colab_type": "text"
      },
      "source": [
        "Run the following cell.\n",
        "\n",
        "It copies a database file called `friday.db` from the web into the file system hosting this notebook. This data is modified from that used in [Smith et al, 1988](https://www.ncbi.nlm.nih.gov/pmc/articles/PMC2245318/)."
      ]
    },
    {
      "cell_type": "code",
      "metadata": {
        "id": "pw3nPPSjPbG-",
        "colab_type": "code",
        "outputId": "657bc0b8-3fe9-452a-9a06-0a33dd73384d",
        "colab": {
          "base_uri": "https://localhost:8080/",
          "height": 295
        }
      },
      "source": [
        "!wget https://github.com/YCMI/summer-course-2020/raw/master/friday.db"
      ],
      "execution_count": 0,
      "outputs": [
        {
          "output_type": "stream",
          "text": [
            "--2020-06-12 06:57:56--  https://github.com/YCMI/summer-course-2020/raw/master/friday.db\n",
            "Resolving github.com (github.com)... 192.30.255.112\n",
            "Connecting to github.com (github.com)|192.30.255.112|:443... connected.\n",
            "HTTP request sent, awaiting response... 302 Found\n",
            "Location: https://raw.githubusercontent.com/YCMI/summer-course-2020/master/friday.db [following]\n",
            "--2020-06-12 06:57:56--  https://raw.githubusercontent.com/YCMI/summer-course-2020/master/friday.db\n",
            "Resolving raw.githubusercontent.com (raw.githubusercontent.com)... 151.101.0.133, 151.101.64.133, 151.101.128.133, ...\n",
            "Connecting to raw.githubusercontent.com (raw.githubusercontent.com)|151.101.0.133|:443... connected.\n",
            "HTTP request sent, awaiting response... 200 OK\n",
            "Length: 172032 (168K) [application/octet-stream]\n",
            "Saving to: ‘friday.db.1’\n",
            "\n",
            "\rfriday.db.1           0%[                    ]       0  --.-KB/s               \rfriday.db.1         100%[===================>] 168.00K  --.-KB/s    in 0.03s   \n",
            "\n",
            "2020-06-12 06:57:56 (6.55 MB/s) - ‘friday.db.1’ saved [172032/172032]\n",
            "\n"
          ],
          "name": "stdout"
        }
      ]
    },
    {
      "cell_type": "markdown",
      "metadata": {
        "id": "pT5-G-3MP0xg",
        "colab_type": "text"
      },
      "source": [
        "The database contains three tables, with columns as below:\n",
        "\n",
        "**demographics**: patient_id, dob, gender, children, state\n",
        "\n",
        "**patienthistory**: patient_id, diabetespedigree, diagnoses\n",
        "\n",
        "**testresults**: patient_id, diastolic, systolic, bicepskinthickness, seruminsulin, glucose, bmi\n"
      ]
    },
    {
      "cell_type": "markdown",
      "metadata": {
        "id": "FjsR2GJUVoPQ",
        "colab_type": "text"
      },
      "source": [
        "Connect to the `friday.db` database and look at a sample of each table to see how the data is structured."
      ]
    },
    {
      "cell_type": "code",
      "metadata": {
        "id": "QxMKHFLTV46N",
        "colab_type": "code",
        "outputId": "bd20d7ff-aef1-4a29-82ad-6e495d0ba2a7",
        "colab": {
          "base_uri": "https://localhost:8080/",
          "height": 424
        }
      },
      "source": [
        "conn = sqlite3.connect('friday.db')\n",
        "demographics = pd.read_sql('SELECT * from demographics', conn)\n",
        "demographics"
      ],
      "execution_count": 0,
      "outputs": [
        {
          "output_type": "execute_result",
          "data": {
            "text/html": [
              "<div>\n",
              "<style scoped>\n",
              "    .dataframe tbody tr th:only-of-type {\n",
              "        vertical-align: middle;\n",
              "    }\n",
              "\n",
              "    .dataframe tbody tr th {\n",
              "        vertical-align: top;\n",
              "    }\n",
              "\n",
              "    .dataframe thead th {\n",
              "        text-align: right;\n",
              "    }\n",
              "</style>\n",
              "<table border=\"1\" class=\"dataframe\">\n",
              "  <thead>\n",
              "    <tr style=\"text-align: right;\">\n",
              "      <th></th>\n",
              "      <th>patient_id</th>\n",
              "      <th>dob</th>\n",
              "      <th>gender</th>\n",
              "      <th>children</th>\n",
              "      <th>state</th>\n",
              "    </tr>\n",
              "  </thead>\n",
              "  <tbody>\n",
              "    <tr>\n",
              "      <th>0</th>\n",
              "      <td>20935</td>\n",
              "      <td>Sep 01, 1973</td>\n",
              "      <td>F</td>\n",
              "      <td>1</td>\n",
              "      <td>Rhode Island</td>\n",
              "    </tr>\n",
              "    <tr>\n",
              "      <th>1</th>\n",
              "      <td>26574</td>\n",
              "      <td>Nov 07, 1994</td>\n",
              "      <td>F</td>\n",
              "      <td>3</td>\n",
              "      <td>Massachussetts</td>\n",
              "    </tr>\n",
              "    <tr>\n",
              "      <th>2</th>\n",
              "      <td>12718</td>\n",
              "      <td>Aug 01, 1998</td>\n",
              "      <td>F</td>\n",
              "      <td>1</td>\n",
              "      <td>New York</td>\n",
              "    </tr>\n",
              "    <tr>\n",
              "      <th>3</th>\n",
              "      <td>36959</td>\n",
              "      <td>Aug 20, 1996</td>\n",
              "      <td>F</td>\n",
              "      <td>0</td>\n",
              "      <td>Connecticut</td>\n",
              "    </tr>\n",
              "    <tr>\n",
              "      <th>4</th>\n",
              "      <td>92337</td>\n",
              "      <td>Jun 01, 1992</td>\n",
              "      <td>F</td>\n",
              "      <td>3</td>\n",
              "      <td>Rhode Island</td>\n",
              "    </tr>\n",
              "    <tr>\n",
              "      <th>...</th>\n",
              "      <td>...</td>\n",
              "      <td>...</td>\n",
              "      <td>...</td>\n",
              "      <td>...</td>\n",
              "      <td>...</td>\n",
              "    </tr>\n",
              "    <tr>\n",
              "      <th>1463</th>\n",
              "      <td>66247</td>\n",
              "      <td>Jan 30, 1979</td>\n",
              "      <td>F</td>\n",
              "      <td>10</td>\n",
              "      <td>Massachussetts</td>\n",
              "    </tr>\n",
              "    <tr>\n",
              "      <th>1464</th>\n",
              "      <td>27385</td>\n",
              "      <td>Jul 19, 1998</td>\n",
              "      <td>M</td>\n",
              "      <td>0</td>\n",
              "      <td>Massachussetts</td>\n",
              "    </tr>\n",
              "    <tr>\n",
              "      <th>1465</th>\n",
              "      <td>14989</td>\n",
              "      <td>Oct 07, 1968</td>\n",
              "      <td>F</td>\n",
              "      <td>2</td>\n",
              "      <td>Massachussetts</td>\n",
              "    </tr>\n",
              "    <tr>\n",
              "      <th>1466</th>\n",
              "      <td>86520</td>\n",
              "      <td>May 02, 1987</td>\n",
              "      <td>M</td>\n",
              "      <td>0</td>\n",
              "      <td>New York</td>\n",
              "    </tr>\n",
              "    <tr>\n",
              "      <th>1467</th>\n",
              "      <td>75807</td>\n",
              "      <td>Aug 05, 1970</td>\n",
              "      <td>F</td>\n",
              "      <td>9</td>\n",
              "      <td>Rhode Island</td>\n",
              "    </tr>\n",
              "  </tbody>\n",
              "</table>\n",
              "<p>1468 rows × 5 columns</p>\n",
              "</div>"
            ],
            "text/plain": [
              "      patient_id           dob gender  children           state\n",
              "0          20935  Sep 01, 1973      F         1    Rhode Island\n",
              "1          26574  Nov 07, 1994      F         3  Massachussetts\n",
              "2          12718  Aug 01, 1998      F         1        New York\n",
              "3          36959  Aug 20, 1996      F         0     Connecticut\n",
              "4          92337  Jun 01, 1992      F         3    Rhode Island\n",
              "...          ...           ...    ...       ...             ...\n",
              "1463       66247  Jan 30, 1979      F        10  Massachussetts\n",
              "1464       27385  Jul 19, 1998      M         0  Massachussetts\n",
              "1465       14989  Oct 07, 1968      F         2  Massachussetts\n",
              "1466       86520  May 02, 1987      M         0        New York\n",
              "1467       75807  Aug 05, 1970      F         9    Rhode Island\n",
              "\n",
              "[1468 rows x 5 columns]"
            ]
          },
          "metadata": {
            "tags": []
          },
          "execution_count": 4
        }
      ]
    },
    {
      "cell_type": "code",
      "metadata": {
        "id": "qVBip2kOV5Ch",
        "colab_type": "code",
        "outputId": "88ee9115-985b-4814-984b-5389e5ed353b",
        "colab": {
          "base_uri": "https://localhost:8080/",
          "height": 424
        }
      },
      "source": [
        "pd.read_sql('SELECT * from patienthistory', conn)"
      ],
      "execution_count": 0,
      "outputs": [
        {
          "output_type": "execute_result",
          "data": {
            "text/html": [
              "<div>\n",
              "<style scoped>\n",
              "    .dataframe tbody tr th:only-of-type {\n",
              "        vertical-align: middle;\n",
              "    }\n",
              "\n",
              "    .dataframe tbody tr th {\n",
              "        vertical-align: top;\n",
              "    }\n",
              "\n",
              "    .dataframe thead th {\n",
              "        text-align: right;\n",
              "    }\n",
              "</style>\n",
              "<table border=\"1\" class=\"dataframe\">\n",
              "  <thead>\n",
              "    <tr style=\"text-align: right;\">\n",
              "      <th></th>\n",
              "      <th>patient_id</th>\n",
              "      <th>diabetespedigree</th>\n",
              "      <th>diagnoses</th>\n",
              "    </tr>\n",
              "  </thead>\n",
              "  <tbody>\n",
              "    <tr>\n",
              "      <th>0</th>\n",
              "      <td>20935</td>\n",
              "      <td>0.349</td>\n",
              "      <td>Diabetes, Cancer, Influenza</td>\n",
              "    </tr>\n",
              "    <tr>\n",
              "      <th>1</th>\n",
              "      <td>26574</td>\n",
              "      <td>0.279</td>\n",
              "      <td>Influenza</td>\n",
              "    </tr>\n",
              "    <tr>\n",
              "      <th>2</th>\n",
              "      <td>12718</td>\n",
              "      <td>1.394</td>\n",
              "      <td>Diabetes, Influenza</td>\n",
              "    </tr>\n",
              "    <tr>\n",
              "      <th>3</th>\n",
              "      <td>36959</td>\n",
              "      <td>0.431</td>\n",
              "      <td>Diabetes</td>\n",
              "    </tr>\n",
              "    <tr>\n",
              "      <th>4</th>\n",
              "      <td>92337</td>\n",
              "      <td>0.268</td>\n",
              "      <td>Diabetes, Influenza, Depression</td>\n",
              "    </tr>\n",
              "    <tr>\n",
              "      <th>...</th>\n",
              "      <td>...</td>\n",
              "      <td>...</td>\n",
              "      <td>...</td>\n",
              "    </tr>\n",
              "    <tr>\n",
              "      <th>1463</th>\n",
              "      <td>66247</td>\n",
              "      <td>0.205</td>\n",
              "      <td>Diabetes</td>\n",
              "    </tr>\n",
              "    <tr>\n",
              "      <th>1464</th>\n",
              "      <td>27385</td>\n",
              "      <td>0.355</td>\n",
              "      <td>Diabetes, Influenza</td>\n",
              "    </tr>\n",
              "    <tr>\n",
              "      <th>1465</th>\n",
              "      <td>14989</td>\n",
              "      <td>0.259</td>\n",
              "      <td>Diabetes, Arthritis, Influenza, Depression</td>\n",
              "    </tr>\n",
              "    <tr>\n",
              "      <th>1466</th>\n",
              "      <td>86520</td>\n",
              "      <td>1.162</td>\n",
              "      <td>Cancer</td>\n",
              "    </tr>\n",
              "    <tr>\n",
              "      <th>1467</th>\n",
              "      <td>75807</td>\n",
              "      <td>1.282</td>\n",
              "      <td>Diabetes</td>\n",
              "    </tr>\n",
              "  </tbody>\n",
              "</table>\n",
              "<p>1468 rows × 3 columns</p>\n",
              "</div>"
            ],
            "text/plain": [
              "      patient_id  diabetespedigree                                   diagnoses\n",
              "0          20935             0.349                 Diabetes, Cancer, Influenza\n",
              "1          26574             0.279                                   Influenza\n",
              "2          12718             1.394                         Diabetes, Influenza\n",
              "3          36959             0.431                                    Diabetes\n",
              "4          92337             0.268             Diabetes, Influenza, Depression\n",
              "...          ...               ...                                         ...\n",
              "1463       66247             0.205                                    Diabetes\n",
              "1464       27385             0.355                         Diabetes, Influenza\n",
              "1465       14989             0.259  Diabetes, Arthritis, Influenza, Depression\n",
              "1466       86520             1.162                                      Cancer\n",
              "1467       75807             1.282                                    Diabetes\n",
              "\n",
              "[1468 rows x 3 columns]"
            ]
          },
          "metadata": {
            "tags": []
          },
          "execution_count": 5
        }
      ]
    },
    {
      "cell_type": "code",
      "metadata": {
        "id": "VPG9Yf2nV5JB",
        "colab_type": "code",
        "outputId": "a062fc3f-74ed-46bb-ff1b-210ac209d80b",
        "colab": {
          "base_uri": "https://localhost:8080/",
          "height": 424
        }
      },
      "source": [
        "pd.read_sql('SELECT * from testresults', conn)"
      ],
      "execution_count": 0,
      "outputs": [
        {
          "output_type": "execute_result",
          "data": {
            "text/html": [
              "<div>\n",
              "<style scoped>\n",
              "    .dataframe tbody tr th:only-of-type {\n",
              "        vertical-align: middle;\n",
              "    }\n",
              "\n",
              "    .dataframe tbody tr th {\n",
              "        vertical-align: top;\n",
              "    }\n",
              "\n",
              "    .dataframe thead th {\n",
              "        text-align: right;\n",
              "    }\n",
              "</style>\n",
              "<table border=\"1\" class=\"dataframe\">\n",
              "  <thead>\n",
              "    <tr style=\"text-align: right;\">\n",
              "      <th></th>\n",
              "      <th>patient_id</th>\n",
              "      <th>diastolic</th>\n",
              "      <th>systolic</th>\n",
              "      <th>bicepskinthickness</th>\n",
              "      <th>seruminsulin</th>\n",
              "      <th>glucose</th>\n",
              "      <th>bmi</th>\n",
              "    </tr>\n",
              "  </thead>\n",
              "  <tbody>\n",
              "    <tr>\n",
              "      <th>0</th>\n",
              "      <td>20935</td>\n",
              "      <td>60</td>\n",
              "      <td>NaN</td>\n",
              "      <td>3.3 cm</td>\n",
              "      <td>156</td>\n",
              "      <td>126</td>\n",
              "      <td>30.1</td>\n",
              "    </tr>\n",
              "    <tr>\n",
              "      <th>1</th>\n",
              "      <td>26574</td>\n",
              "      <td>62</td>\n",
              "      <td>NaN</td>\n",
              "      <td>19 mm</td>\n",
              "      <td>74</td>\n",
              "      <td>99</td>\n",
              "      <td>21.8</td>\n",
              "    </tr>\n",
              "    <tr>\n",
              "      <th>2</th>\n",
              "      <td>12718</td>\n",
              "      <td>76</td>\n",
              "      <td>NaN</td>\n",
              "      <td>4.3 cm</td>\n",
              "      <td>210</td>\n",
              "      <td>199</td>\n",
              "      <td>42.9</td>\n",
              "    </tr>\n",
              "    <tr>\n",
              "      <th>3</th>\n",
              "      <td>36959</td>\n",
              "      <td>65</td>\n",
              "      <td>91.214016</td>\n",
              "      <td>26 mm</td>\n",
              "      <td>130</td>\n",
              "      <td>140</td>\n",
              "      <td>42.6</td>\n",
              "    </tr>\n",
              "    <tr>\n",
              "      <th>4</th>\n",
              "      <td>92337</td>\n",
              "      <td>70</td>\n",
              "      <td>NaN</td>\n",
              "      <td>18 mm</td>\n",
              "      <td>105</td>\n",
              "      <td>163</td>\n",
              "      <td>31.6</td>\n",
              "    </tr>\n",
              "    <tr>\n",
              "      <th>...</th>\n",
              "      <td>...</td>\n",
              "      <td>...</td>\n",
              "      <td>...</td>\n",
              "      <td>...</td>\n",
              "      <td>...</td>\n",
              "      <td>...</td>\n",
              "      <td>...</td>\n",
              "    </tr>\n",
              "    <tr>\n",
              "      <th>1463</th>\n",
              "      <td>66247</td>\n",
              "      <td>70</td>\n",
              "      <td>NaN</td>\n",
              "      <td>26 mm</td>\n",
              "      <td>115</td>\n",
              "      <td>125</td>\n",
              "      <td>31.1</td>\n",
              "    </tr>\n",
              "    <tr>\n",
              "      <th>1464</th>\n",
              "      <td>27385</td>\n",
              "      <td>72</td>\n",
              "      <td>NaN</td>\n",
              "      <td>32 mm</td>\n",
              "      <td>159</td>\n",
              "      <td>147</td>\n",
              "      <td>31.2</td>\n",
              "    </tr>\n",
              "    <tr>\n",
              "      <th>1465</th>\n",
              "      <td>14989</td>\n",
              "      <td>80</td>\n",
              "      <td>NaN</td>\n",
              "      <td>25 mm</td>\n",
              "      <td>210</td>\n",
              "      <td>108</td>\n",
              "      <td>27.0</td>\n",
              "    </tr>\n",
              "    <tr>\n",
              "      <th>1466</th>\n",
              "      <td>86520</td>\n",
              "      <td>84</td>\n",
              "      <td>112.768350</td>\n",
              "      <td>22 mm</td>\n",
              "      <td>200</td>\n",
              "      <td>167</td>\n",
              "      <td>29.3</td>\n",
              "    </tr>\n",
              "    <tr>\n",
              "      <th>1467</th>\n",
              "      <td>75807</td>\n",
              "      <td>82</td>\n",
              "      <td>NaN</td>\n",
              "      <td>24 mm</td>\n",
              "      <td>150</td>\n",
              "      <td>112</td>\n",
              "      <td>28.2</td>\n",
              "    </tr>\n",
              "  </tbody>\n",
              "</table>\n",
              "<p>1468 rows × 7 columns</p>\n",
              "</div>"
            ],
            "text/plain": [
              "      patient_id  diastolic    systolic  ... seruminsulin  glucose   bmi\n",
              "0          20935         60         NaN  ...          156      126  30.1\n",
              "1          26574         62         NaN  ...           74       99  21.8\n",
              "2          12718         76         NaN  ...          210      199  42.9\n",
              "3          36959         65   91.214016  ...          130      140  42.6\n",
              "4          92337         70         NaN  ...          105      163  31.6\n",
              "...          ...        ...         ...  ...          ...      ...   ...\n",
              "1463       66247         70         NaN  ...          115      125  31.1\n",
              "1464       27385         72         NaN  ...          159      147  31.2\n",
              "1465       14989         80         NaN  ...          210      108  27.0\n",
              "1466       86520         84  112.768350  ...          200      167  29.3\n",
              "1467       75807         82         NaN  ...          150      112  28.2\n",
              "\n",
              "[1468 rows x 7 columns]"
            ]
          },
          "metadata": {
            "tags": []
          },
          "execution_count": 6
        }
      ]
    },
    {
      "cell_type": "markdown",
      "metadata": {
        "id": "st-kyRTOctp8",
        "colab_type": "text"
      },
      "source": [
        "Make a bar chart comparing the number of male and female patients per state in our dataset."
      ]
    },
    {
      "cell_type": "code",
      "metadata": {
        "id": "IL8gJlQJc_1z",
        "colab_type": "code",
        "outputId": "eaed6cab-a9d5-4626-e265-7dddbebdebba",
        "colab": {
          "base_uri": "https://localhost:8080/",
          "height": 464
        }
      },
      "source": [
        "p9.ggplot(demographics, p9.aes(x='state', fill='gender')) + p9.geom_bar(position='dodge')"
      ],
      "execution_count": 0,
      "outputs": [
        {
          "output_type": "display_data",
          "data": {
            "image/png": "[encoded data removed]",
            "text/plain": [
              "<Figure size 640x480 with 1 Axes>"
            ]
          },
          "metadata": {
            "tags": []
          }
        },
        {
          "output_type": "execute_result",
          "data": {
            "text/plain": [
              "<ggplot: (8788884189844)>"
            ]
          },
          "metadata": {
            "tags": []
          },
          "execution_count": 7
        }
      ]
    },
    {
      "cell_type": "markdown",
      "metadata": {
        "id": "xGBU8leSV5k7",
        "colab_type": "text"
      },
      "source": [
        "We wish to test the hypotheses that for women, age, number of children, diabetespedigree (family history), blood pressure, serum insulin, glucose levels, and BMI are predictive of whether or not they have diabetes.\n",
        "\n",
        "Use SQL to get a DataFrame of just the females with information on their: dob, number of children, diabetespedigree, diagnoses, diastolic, systolic, bicepskinthickness, seruminsulin, glucose, and bmi."
      ]
    },
    {
      "cell_type": "code",
      "metadata": {
        "id": "iiMt499fXiFS",
        "colab_type": "code",
        "outputId": "ec7534da-5a7f-4ea0-d643-2aa724ef1240",
        "colab": {
          "base_uri": "https://localhost:8080/",
          "height": 424
        }
      },
      "source": [
        "data = pd.read_sql('''\n",
        "  SELECT dob, children, diabetespedigree, diagnoses, diastolic, systolic, bicepskinthickness, seruminsulin, glucose, bmi\n",
        "  FROM demographics\n",
        "  INNER JOIN patienthistory ON demographics.patient_id = patienthistory.patient_id\n",
        "  INNER JOIN testresults on testresults.patient_id = demographics.patient_id\n",
        "  WHERE gender='F'\n",
        "''', conn)\n",
        "\n",
        "data"
      ],
      "execution_count": 0,
      "outputs": [
        {
          "output_type": "execute_result",
          "data": {
            "text/html": [
              "<div>\n",
              "<style scoped>\n",
              "    .dataframe tbody tr th:only-of-type {\n",
              "        vertical-align: middle;\n",
              "    }\n",
              "\n",
              "    .dataframe tbody tr th {\n",
              "        vertical-align: top;\n",
              "    }\n",
              "\n",
              "    .dataframe thead th {\n",
              "        text-align: right;\n",
              "    }\n",
              "</style>\n",
              "<table border=\"1\" class=\"dataframe\">\n",
              "  <thead>\n",
              "    <tr style=\"text-align: right;\">\n",
              "      <th></th>\n",
              "      <th>dob</th>\n",
              "      <th>children</th>\n",
              "      <th>diabetespedigree</th>\n",
              "      <th>diagnoses</th>\n",
              "      <th>diastolic</th>\n",
              "      <th>systolic</th>\n",
              "      <th>bicepskinthickness</th>\n",
              "      <th>seruminsulin</th>\n",
              "      <th>glucose</th>\n",
              "      <th>bmi</th>\n",
              "    </tr>\n",
              "  </thead>\n",
              "  <tbody>\n",
              "    <tr>\n",
              "      <th>0</th>\n",
              "      <td>Sep 01, 1973</td>\n",
              "      <td>1</td>\n",
              "      <td>0.349</td>\n",
              "      <td>Diabetes, Cancer, Influenza</td>\n",
              "      <td>60</td>\n",
              "      <td>NaN</td>\n",
              "      <td>3.3 cm</td>\n",
              "      <td>156</td>\n",
              "      <td>126</td>\n",
              "      <td>30.1</td>\n",
              "    </tr>\n",
              "    <tr>\n",
              "      <th>1</th>\n",
              "      <td>Nov 07, 1994</td>\n",
              "      <td>3</td>\n",
              "      <td>0.279</td>\n",
              "      <td>Influenza</td>\n",
              "      <td>62</td>\n",
              "      <td>NaN</td>\n",
              "      <td>19 mm</td>\n",
              "      <td>74</td>\n",
              "      <td>99</td>\n",
              "      <td>21.8</td>\n",
              "    </tr>\n",
              "    <tr>\n",
              "      <th>2</th>\n",
              "      <td>Aug 01, 1998</td>\n",
              "      <td>1</td>\n",
              "      <td>1.394</td>\n",
              "      <td>Diabetes, Influenza</td>\n",
              "      <td>76</td>\n",
              "      <td>NaN</td>\n",
              "      <td>4.3 cm</td>\n",
              "      <td>210</td>\n",
              "      <td>199</td>\n",
              "      <td>42.9</td>\n",
              "    </tr>\n",
              "    <tr>\n",
              "      <th>3</th>\n",
              "      <td>Aug 20, 1996</td>\n",
              "      <td>0</td>\n",
              "      <td>0.431</td>\n",
              "      <td>Diabetes</td>\n",
              "      <td>65</td>\n",
              "      <td>91.214016</td>\n",
              "      <td>26 mm</td>\n",
              "      <td>130</td>\n",
              "      <td>140</td>\n",
              "      <td>42.6</td>\n",
              "    </tr>\n",
              "    <tr>\n",
              "      <th>4</th>\n",
              "      <td>Jun 01, 1992</td>\n",
              "      <td>3</td>\n",
              "      <td>0.268</td>\n",
              "      <td>Diabetes, Influenza, Depression</td>\n",
              "      <td>70</td>\n",
              "      <td>NaN</td>\n",
              "      <td>18 mm</td>\n",
              "      <td>105</td>\n",
              "      <td>163</td>\n",
              "      <td>31.6</td>\n",
              "    </tr>\n",
              "    <tr>\n",
              "      <th>...</th>\n",
              "      <td>...</td>\n",
              "      <td>...</td>\n",
              "      <td>...</td>\n",
              "      <td>...</td>\n",
              "      <td>...</td>\n",
              "      <td>...</td>\n",
              "      <td>...</td>\n",
              "      <td>...</td>\n",
              "      <td>...</td>\n",
              "      <td>...</td>\n",
              "    </tr>\n",
              "    <tr>\n",
              "      <th>763</th>\n",
              "      <td>Jan 11, 1998</td>\n",
              "      <td>2</td>\n",
              "      <td>0.525</td>\n",
              "      <td>Influenza</td>\n",
              "      <td>62</td>\n",
              "      <td>117.558697</td>\n",
              "      <td>19 mm</td>\n",
              "      <td>100</td>\n",
              "      <td>91</td>\n",
              "      <td>27.3</td>\n",
              "    </tr>\n",
              "    <tr>\n",
              "      <th>764</th>\n",
              "      <td>Jul 14, 1999</td>\n",
              "      <td>1</td>\n",
              "      <td>0.559</td>\n",
              "      <td></td>\n",
              "      <td>24</td>\n",
              "      <td>NaN</td>\n",
              "      <td>1.9 cm</td>\n",
              "      <td>25</td>\n",
              "      <td>89</td>\n",
              "      <td>27.8</td>\n",
              "    </tr>\n",
              "    <tr>\n",
              "      <th>765</th>\n",
              "      <td>Jan 30, 1979</td>\n",
              "      <td>10</td>\n",
              "      <td>0.205</td>\n",
              "      <td>Diabetes</td>\n",
              "      <td>70</td>\n",
              "      <td>NaN</td>\n",
              "      <td>26 mm</td>\n",
              "      <td>115</td>\n",
              "      <td>125</td>\n",
              "      <td>31.1</td>\n",
              "    </tr>\n",
              "    <tr>\n",
              "      <th>766</th>\n",
              "      <td>Oct 07, 1968</td>\n",
              "      <td>2</td>\n",
              "      <td>0.259</td>\n",
              "      <td>Diabetes, Arthritis, Influenza, Depression</td>\n",
              "      <td>80</td>\n",
              "      <td>NaN</td>\n",
              "      <td>25 mm</td>\n",
              "      <td>210</td>\n",
              "      <td>108</td>\n",
              "      <td>27.0</td>\n",
              "    </tr>\n",
              "    <tr>\n",
              "      <th>767</th>\n",
              "      <td>Aug 05, 1970</td>\n",
              "      <td>9</td>\n",
              "      <td>1.282</td>\n",
              "      <td>Diabetes</td>\n",
              "      <td>82</td>\n",
              "      <td>NaN</td>\n",
              "      <td>24 mm</td>\n",
              "      <td>150</td>\n",
              "      <td>112</td>\n",
              "      <td>28.2</td>\n",
              "    </tr>\n",
              "  </tbody>\n",
              "</table>\n",
              "<p>768 rows × 10 columns</p>\n",
              "</div>"
            ],
            "text/plain": [
              "              dob  children  diabetespedigree  ... seruminsulin  glucose   bmi\n",
              "0    Sep 01, 1973         1             0.349  ...          156      126  30.1\n",
              "1    Nov 07, 1994         3             0.279  ...           74       99  21.8\n",
              "2    Aug 01, 1998         1             1.394  ...          210      199  42.9\n",
              "3    Aug 20, 1996         0             0.431  ...          130      140  42.6\n",
              "4    Jun 01, 1992         3             0.268  ...          105      163  31.6\n",
              "..            ...       ...               ...  ...          ...      ...   ...\n",
              "763  Jan 11, 1998         2             0.525  ...          100       91  27.3\n",
              "764  Jul 14, 1999         1             0.559  ...           25       89  27.8\n",
              "765  Jan 30, 1979        10             0.205  ...          115      125  31.1\n",
              "766  Oct 07, 1968         2             0.259  ...          210      108  27.0\n",
              "767  Aug 05, 1970         9             1.282  ...          150      112  28.2\n",
              "\n",
              "[768 rows x 10 columns]"
            ]
          },
          "metadata": {
            "tags": []
          },
          "execution_count": 8
        }
      ]
    },
    {
      "cell_type": "markdown",
      "metadata": {
        "id": "GMPYDdgsZIh5",
        "colab_type": "text"
      },
      "source": [
        "Let's clean up this data a bit."
      ]
    },
    {
      "cell_type": "markdown",
      "metadata": {
        "id": "XlGH3tcLXidq",
        "colab_type": "text"
      },
      "source": [
        "Create a new column `age` and estimate it from the date of birth by assuming that every year has exactly 365.25 days.\n",
        "\n",
        "Hint: You'll want to subtract dates and divide by `pd.to_timedelta('365.25 days')`"
      ]
    },
    {
      "cell_type": "code",
      "metadata": {
        "id": "fuKR35noRQyk",
        "colab_type": "code",
        "outputId": "f65bd45a-5ac8-405a-82bf-1c939af38caf",
        "colab": {
          "base_uri": "https://localhost:8080/",
          "height": 580
        }
      },
      "source": [
        "data['age'] = (pd.to_datetime('June 12, 2020') - pd.to_datetime(data['dob'])) / pd.to_timedelta('365.25 days')\n",
        "data"
      ],
      "execution_count": 0,
      "outputs": [
        {
          "output_type": "execute_result",
          "data": {
            "text/html": [
              "<div>\n",
              "<style scoped>\n",
              "    .dataframe tbody tr th:only-of-type {\n",
              "        vertical-align: middle;\n",
              "    }\n",
              "\n",
              "    .dataframe tbody tr th {\n",
              "        vertical-align: top;\n",
              "    }\n",
              "\n",
              "    .dataframe thead th {\n",
              "        text-align: right;\n",
              "    }\n",
              "</style>\n",
              "<table border=\"1\" class=\"dataframe\">\n",
              "  <thead>\n",
              "    <tr style=\"text-align: right;\">\n",
              "      <th></th>\n",
              "      <th>dob</th>\n",
              "      <th>children</th>\n",
              "      <th>diabetespedigree</th>\n",
              "      <th>diagnoses</th>\n",
              "      <th>diastolic</th>\n",
              "      <th>systolic</th>\n",
              "      <th>bicepskinthickness</th>\n",
              "      <th>seruminsulin</th>\n",
              "      <th>glucose</th>\n",
              "      <th>bmi</th>\n",
              "      <th>age</th>\n",
              "    </tr>\n",
              "  </thead>\n",
              "  <tbody>\n",
              "    <tr>\n",
              "      <th>0</th>\n",
              "      <td>Sep 01, 1973</td>\n",
              "      <td>1</td>\n",
              "      <td>0.349</td>\n",
              "      <td>Diabetes, Cancer, Influenza</td>\n",
              "      <td>60</td>\n",
              "      <td>NaN</td>\n",
              "      <td>3.3 cm</td>\n",
              "      <td>156</td>\n",
              "      <td>126</td>\n",
              "      <td>30.1</td>\n",
              "      <td>46.778919</td>\n",
              "    </tr>\n",
              "    <tr>\n",
              "      <th>1</th>\n",
              "      <td>Nov 07, 1994</td>\n",
              "      <td>3</td>\n",
              "      <td>0.279</td>\n",
              "      <td>Influenza</td>\n",
              "      <td>62</td>\n",
              "      <td>NaN</td>\n",
              "      <td>19 mm</td>\n",
              "      <td>74</td>\n",
              "      <td>99</td>\n",
              "      <td>21.8</td>\n",
              "      <td>25.596167</td>\n",
              "    </tr>\n",
              "    <tr>\n",
              "      <th>2</th>\n",
              "      <td>Aug 01, 1998</td>\n",
              "      <td>1</td>\n",
              "      <td>1.394</td>\n",
              "      <td>Diabetes, Influenza</td>\n",
              "      <td>76</td>\n",
              "      <td>NaN</td>\n",
              "      <td>4.3 cm</td>\n",
              "      <td>210</td>\n",
              "      <td>199</td>\n",
              "      <td>42.9</td>\n",
              "      <td>21.864476</td>\n",
              "    </tr>\n",
              "    <tr>\n",
              "      <th>3</th>\n",
              "      <td>Aug 20, 1996</td>\n",
              "      <td>0</td>\n",
              "      <td>0.431</td>\n",
              "      <td>Diabetes</td>\n",
              "      <td>65</td>\n",
              "      <td>91.214016</td>\n",
              "      <td>26 mm</td>\n",
              "      <td>130</td>\n",
              "      <td>140</td>\n",
              "      <td>42.6</td>\n",
              "      <td>23.811088</td>\n",
              "    </tr>\n",
              "    <tr>\n",
              "      <th>4</th>\n",
              "      <td>Jun 01, 1992</td>\n",
              "      <td>3</td>\n",
              "      <td>0.268</td>\n",
              "      <td>Diabetes, Influenza, Depression</td>\n",
              "      <td>70</td>\n",
              "      <td>NaN</td>\n",
              "      <td>18 mm</td>\n",
              "      <td>105</td>\n",
              "      <td>163</td>\n",
              "      <td>31.6</td>\n",
              "      <td>28.030116</td>\n",
              "    </tr>\n",
              "    <tr>\n",
              "      <th>...</th>\n",
              "      <td>...</td>\n",
              "      <td>...</td>\n",
              "      <td>...</td>\n",
              "      <td>...</td>\n",
              "      <td>...</td>\n",
              "      <td>...</td>\n",
              "      <td>...</td>\n",
              "      <td>...</td>\n",
              "      <td>...</td>\n",
              "      <td>...</td>\n",
              "      <td>...</td>\n",
              "    </tr>\n",
              "    <tr>\n",
              "      <th>763</th>\n",
              "      <td>Jan 11, 1998</td>\n",
              "      <td>2</td>\n",
              "      <td>0.525</td>\n",
              "      <td>Influenza</td>\n",
              "      <td>62</td>\n",
              "      <td>117.558697</td>\n",
              "      <td>19 mm</td>\n",
              "      <td>100</td>\n",
              "      <td>91</td>\n",
              "      <td>27.3</td>\n",
              "      <td>22.417522</td>\n",
              "    </tr>\n",
              "    <tr>\n",
              "      <th>764</th>\n",
              "      <td>Jul 14, 1999</td>\n",
              "      <td>1</td>\n",
              "      <td>0.559</td>\n",
              "      <td></td>\n",
              "      <td>24</td>\n",
              "      <td>NaN</td>\n",
              "      <td>1.9 cm</td>\n",
              "      <td>25</td>\n",
              "      <td>89</td>\n",
              "      <td>27.8</td>\n",
              "      <td>20.914442</td>\n",
              "    </tr>\n",
              "    <tr>\n",
              "      <th>765</th>\n",
              "      <td>Jan 30, 1979</td>\n",
              "      <td>10</td>\n",
              "      <td>0.205</td>\n",
              "      <td>Diabetes</td>\n",
              "      <td>70</td>\n",
              "      <td>NaN</td>\n",
              "      <td>26 mm</td>\n",
              "      <td>115</td>\n",
              "      <td>125</td>\n",
              "      <td>31.1</td>\n",
              "      <td>41.366188</td>\n",
              "    </tr>\n",
              "    <tr>\n",
              "      <th>766</th>\n",
              "      <td>Oct 07, 1968</td>\n",
              "      <td>2</td>\n",
              "      <td>0.259</td>\n",
              "      <td>Diabetes, Arthritis, Influenza, Depression</td>\n",
              "      <td>80</td>\n",
              "      <td>NaN</td>\n",
              "      <td>25 mm</td>\n",
              "      <td>210</td>\n",
              "      <td>108</td>\n",
              "      <td>27.0</td>\n",
              "      <td>51.679671</td>\n",
              "    </tr>\n",
              "    <tr>\n",
              "      <th>767</th>\n",
              "      <td>Aug 05, 1970</td>\n",
              "      <td>9</td>\n",
              "      <td>1.282</td>\n",
              "      <td>Diabetes</td>\n",
              "      <td>82</td>\n",
              "      <td>NaN</td>\n",
              "      <td>24 mm</td>\n",
              "      <td>150</td>\n",
              "      <td>112</td>\n",
              "      <td>28.2</td>\n",
              "      <td>49.853525</td>\n",
              "    </tr>\n",
              "  </tbody>\n",
              "</table>\n",
              "<p>768 rows × 11 columns</p>\n",
              "</div>"
            ],
            "text/plain": [
              "              dob  children  diabetespedigree  ... glucose   bmi        age\n",
              "0    Sep 01, 1973         1             0.349  ...     126  30.1  46.778919\n",
              "1    Nov 07, 1994         3             0.279  ...      99  21.8  25.596167\n",
              "2    Aug 01, 1998         1             1.394  ...     199  42.9  21.864476\n",
              "3    Aug 20, 1996         0             0.431  ...     140  42.6  23.811088\n",
              "4    Jun 01, 1992         3             0.268  ...     163  31.6  28.030116\n",
              "..            ...       ...               ...  ...     ...   ...        ...\n",
              "763  Jan 11, 1998         2             0.525  ...      91  27.3  22.417522\n",
              "764  Jul 14, 1999         1             0.559  ...      89  27.8  20.914442\n",
              "765  Jan 30, 1979        10             0.205  ...     125  31.1  41.366188\n",
              "766  Oct 07, 1968         2             0.259  ...     108  27.0  51.679671\n",
              "767  Aug 05, 1970         9             1.282  ...     112  28.2  49.853525\n",
              "\n",
              "[768 rows x 11 columns]"
            ]
          },
          "metadata": {
            "tags": []
          },
          "execution_count": 9
        }
      ]
    },
    {
      "cell_type": "markdown",
      "metadata": {
        "id": "NV7IbYd2Yyg8",
        "colab_type": "text"
      },
      "source": [
        "Derive a new column `has_diabetes` (with `True` or `False` values) based on the `diagnoses` column.\n",
        "\n",
        "Hint: you can do this in one line."
      ]
    },
    {
      "cell_type": "code",
      "metadata": {
        "id": "o4ivEraxZBbz",
        "colab_type": "code",
        "outputId": "e3fede15-a4f6-42cd-9394-3bbd3c28beda",
        "colab": {
          "base_uri": "https://localhost:8080/",
          "height": 597
        }
      },
      "source": [
        "data['has_diabetes'] = data['diagnoses'].str.contains('Diabetes')\n",
        "data"
      ],
      "execution_count": 0,
      "outputs": [
        {
          "output_type": "execute_result",
          "data": {
            "text/html": [
              "<div>\n",
              "<style scoped>\n",
              "    .dataframe tbody tr th:only-of-type {\n",
              "        vertical-align: middle;\n",
              "    }\n",
              "\n",
              "    .dataframe tbody tr th {\n",
              "        vertical-align: top;\n",
              "    }\n",
              "\n",
              "    .dataframe thead th {\n",
              "        text-align: right;\n",
              "    }\n",
              "</style>\n",
              "<table border=\"1\" class=\"dataframe\">\n",
              "  <thead>\n",
              "    <tr style=\"text-align: right;\">\n",
              "      <th></th>\n",
              "      <th>dob</th>\n",
              "      <th>children</th>\n",
              "      <th>diabetespedigree</th>\n",
              "      <th>diagnoses</th>\n",
              "      <th>diastolic</th>\n",
              "      <th>systolic</th>\n",
              "      <th>bicepskinthickness</th>\n",
              "      <th>seruminsulin</th>\n",
              "      <th>glucose</th>\n",
              "      <th>bmi</th>\n",
              "      <th>age</th>\n",
              "      <th>has_diabetes</th>\n",
              "    </tr>\n",
              "  </thead>\n",
              "  <tbody>\n",
              "    <tr>\n",
              "      <th>0</th>\n",
              "      <td>Sep 01, 1973</td>\n",
              "      <td>1</td>\n",
              "      <td>0.349</td>\n",
              "      <td>Diabetes, Cancer, Influenza</td>\n",
              "      <td>60</td>\n",
              "      <td>NaN</td>\n",
              "      <td>3.3 cm</td>\n",
              "      <td>156</td>\n",
              "      <td>126</td>\n",
              "      <td>30.1</td>\n",
              "      <td>46.778919</td>\n",
              "      <td>True</td>\n",
              "    </tr>\n",
              "    <tr>\n",
              "      <th>1</th>\n",
              "      <td>Nov 07, 1994</td>\n",
              "      <td>3</td>\n",
              "      <td>0.279</td>\n",
              "      <td>Influenza</td>\n",
              "      <td>62</td>\n",
              "      <td>NaN</td>\n",
              "      <td>19 mm</td>\n",
              "      <td>74</td>\n",
              "      <td>99</td>\n",
              "      <td>21.8</td>\n",
              "      <td>25.596167</td>\n",
              "      <td>False</td>\n",
              "    </tr>\n",
              "    <tr>\n",
              "      <th>2</th>\n",
              "      <td>Aug 01, 1998</td>\n",
              "      <td>1</td>\n",
              "      <td>1.394</td>\n",
              "      <td>Diabetes, Influenza</td>\n",
              "      <td>76</td>\n",
              "      <td>NaN</td>\n",
              "      <td>4.3 cm</td>\n",
              "      <td>210</td>\n",
              "      <td>199</td>\n",
              "      <td>42.9</td>\n",
              "      <td>21.864476</td>\n",
              "      <td>True</td>\n",
              "    </tr>\n",
              "    <tr>\n",
              "      <th>3</th>\n",
              "      <td>Aug 20, 1996</td>\n",
              "      <td>0</td>\n",
              "      <td>0.431</td>\n",
              "      <td>Diabetes</td>\n",
              "      <td>65</td>\n",
              "      <td>91.214016</td>\n",
              "      <td>26 mm</td>\n",
              "      <td>130</td>\n",
              "      <td>140</td>\n",
              "      <td>42.6</td>\n",
              "      <td>23.811088</td>\n",
              "      <td>True</td>\n",
              "    </tr>\n",
              "    <tr>\n",
              "      <th>4</th>\n",
              "      <td>Jun 01, 1992</td>\n",
              "      <td>3</td>\n",
              "      <td>0.268</td>\n",
              "      <td>Diabetes, Influenza, Depression</td>\n",
              "      <td>70</td>\n",
              "      <td>NaN</td>\n",
              "      <td>18 mm</td>\n",
              "      <td>105</td>\n",
              "      <td>163</td>\n",
              "      <td>31.6</td>\n",
              "      <td>28.030116</td>\n",
              "      <td>True</td>\n",
              "    </tr>\n",
              "    <tr>\n",
              "      <th>...</th>\n",
              "      <td>...</td>\n",
              "      <td>...</td>\n",
              "      <td>...</td>\n",
              "      <td>...</td>\n",
              "      <td>...</td>\n",
              "      <td>...</td>\n",
              "      <td>...</td>\n",
              "      <td>...</td>\n",
              "      <td>...</td>\n",
              "      <td>...</td>\n",
              "      <td>...</td>\n",
              "      <td>...</td>\n",
              "    </tr>\n",
              "    <tr>\n",
              "      <th>763</th>\n",
              "      <td>Jan 11, 1998</td>\n",
              "      <td>2</td>\n",
              "      <td>0.525</td>\n",
              "      <td>Influenza</td>\n",
              "      <td>62</td>\n",
              "      <td>117.558697</td>\n",
              "      <td>19 mm</td>\n",
              "      <td>100</td>\n",
              "      <td>91</td>\n",
              "      <td>27.3</td>\n",
              "      <td>22.417522</td>\n",
              "      <td>False</td>\n",
              "    </tr>\n",
              "    <tr>\n",
              "      <th>764</th>\n",
              "      <td>Jul 14, 1999</td>\n",
              "      <td>1</td>\n",
              "      <td>0.559</td>\n",
              "      <td></td>\n",
              "      <td>24</td>\n",
              "      <td>NaN</td>\n",
              "      <td>1.9 cm</td>\n",
              "      <td>25</td>\n",
              "      <td>89</td>\n",
              "      <td>27.8</td>\n",
              "      <td>20.914442</td>\n",
              "      <td>False</td>\n",
              "    </tr>\n",
              "    <tr>\n",
              "      <th>765</th>\n",
              "      <td>Jan 30, 1979</td>\n",
              "      <td>10</td>\n",
              "      <td>0.205</td>\n",
              "      <td>Diabetes</td>\n",
              "      <td>70</td>\n",
              "      <td>NaN</td>\n",
              "      <td>26 mm</td>\n",
              "      <td>115</td>\n",
              "      <td>125</td>\n",
              "      <td>31.1</td>\n",
              "      <td>41.366188</td>\n",
              "      <td>True</td>\n",
              "    </tr>\n",
              "    <tr>\n",
              "      <th>766</th>\n",
              "      <td>Oct 07, 1968</td>\n",
              "      <td>2</td>\n",
              "      <td>0.259</td>\n",
              "      <td>Diabetes, Arthritis, Influenza, Depression</td>\n",
              "      <td>80</td>\n",
              "      <td>NaN</td>\n",
              "      <td>25 mm</td>\n",
              "      <td>210</td>\n",
              "      <td>108</td>\n",
              "      <td>27.0</td>\n",
              "      <td>51.679671</td>\n",
              "      <td>True</td>\n",
              "    </tr>\n",
              "    <tr>\n",
              "      <th>767</th>\n",
              "      <td>Aug 05, 1970</td>\n",
              "      <td>9</td>\n",
              "      <td>1.282</td>\n",
              "      <td>Diabetes</td>\n",
              "      <td>82</td>\n",
              "      <td>NaN</td>\n",
              "      <td>24 mm</td>\n",
              "      <td>150</td>\n",
              "      <td>112</td>\n",
              "      <td>28.2</td>\n",
              "      <td>49.853525</td>\n",
              "      <td>True</td>\n",
              "    </tr>\n",
              "  </tbody>\n",
              "</table>\n",
              "<p>768 rows × 12 columns</p>\n",
              "</div>"
            ],
            "text/plain": [
              "              dob  children  diabetespedigree  ...   bmi        age  has_diabetes\n",
              "0    Sep 01, 1973         1             0.349  ...  30.1  46.778919          True\n",
              "1    Nov 07, 1994         3             0.279  ...  21.8  25.596167         False\n",
              "2    Aug 01, 1998         1             1.394  ...  42.9  21.864476          True\n",
              "3    Aug 20, 1996         0             0.431  ...  42.6  23.811088          True\n",
              "4    Jun 01, 1992         3             0.268  ...  31.6  28.030116          True\n",
              "..            ...       ...               ...  ...   ...        ...           ...\n",
              "763  Jan 11, 1998         2             0.525  ...  27.3  22.417522         False\n",
              "764  Jul 14, 1999         1             0.559  ...  27.8  20.914442         False\n",
              "765  Jan 30, 1979        10             0.205  ...  31.1  41.366188          True\n",
              "766  Oct 07, 1968         2             0.259  ...  27.0  51.679671          True\n",
              "767  Aug 05, 1970         9             1.282  ...  28.2  49.853525          True\n",
              "\n",
              "[768 rows x 12 columns]"
            ]
          },
          "metadata": {
            "tags": []
          },
          "execution_count": 10
        }
      ]
    },
    {
      "cell_type": "markdown",
      "metadata": {
        "id": "8nHLwKngZZFD",
        "colab_type": "text"
      },
      "source": [
        "The `bicepskinthickness` column has values with two different units -- cm and mm. Standardize this into a new column `bicepskinthickness_cm` measured in cm without units.\n",
        "\n",
        "Hints: you could do this with the `re` module, but you don't need it. You'll also want a for loop, and an if statement to build the new column one entry at a time, although you can. You can convert a string `my_numstr` to a number using e.g. `my_num = float(my_numstr)`"
      ]
    },
    {
      "cell_type": "code",
      "metadata": {
        "id": "_tQJ3RQvaVz5",
        "colab_type": "code",
        "outputId": "63771645-0fad-4ca8-8b0f-c113c819b66e",
        "colab": {
          "base_uri": "https://localhost:8080/",
          "height": 808
        }
      },
      "source": [
        "bicepskinthickness_cm = []\n",
        "for thickness in data['bicepskinthickness']:\n",
        "  num, units = thickness.split()\n",
        "  num = float(num)\n",
        "  if units == 'mm':\n",
        "    num = num / 10\n",
        "  else:\n",
        "    if units != 'cm':\n",
        "      print('unsupported unit')\n",
        "  bicepskinthickness_cm.append(num)\n",
        "\n",
        "data['bicepskinthickness_cm'] = bicepskinthickness_cm\n",
        "data\n",
        "  "
      ],
      "execution_count": 0,
      "outputs": [
        {
          "output_type": "execute_result",
          "data": {
            "text/html": [
              "<div>\n",
              "<style scoped>\n",
              "    .dataframe tbody tr th:only-of-type {\n",
              "        vertical-align: middle;\n",
              "    }\n",
              "\n",
              "    .dataframe tbody tr th {\n",
              "        vertical-align: top;\n",
              "    }\n",
              "\n",
              "    .dataframe thead th {\n",
              "        text-align: right;\n",
              "    }\n",
              "</style>\n",
              "<table border=\"1\" class=\"dataframe\">\n",
              "  <thead>\n",
              "    <tr style=\"text-align: right;\">\n",
              "      <th></th>\n",
              "      <th>dob</th>\n",
              "      <th>children</th>\n",
              "      <th>diabetespedigree</th>\n",
              "      <th>diagnoses</th>\n",
              "      <th>diastolic</th>\n",
              "      <th>systolic</th>\n",
              "      <th>bicepskinthickness</th>\n",
              "      <th>seruminsulin</th>\n",
              "      <th>glucose</th>\n",
              "      <th>bmi</th>\n",
              "      <th>age</th>\n",
              "      <th>has_diabetes</th>\n",
              "      <th>bicepskinthickness_cm</th>\n",
              "    </tr>\n",
              "  </thead>\n",
              "  <tbody>\n",
              "    <tr>\n",
              "      <th>0</th>\n",
              "      <td>Sep 01, 1973</td>\n",
              "      <td>1</td>\n",
              "      <td>0.349</td>\n",
              "      <td>Diabetes, Cancer, Influenza</td>\n",
              "      <td>60</td>\n",
              "      <td>NaN</td>\n",
              "      <td>3.3 cm</td>\n",
              "      <td>156</td>\n",
              "      <td>126</td>\n",
              "      <td>30.1</td>\n",
              "      <td>46.778919</td>\n",
              "      <td>True</td>\n",
              "      <td>3.3</td>\n",
              "    </tr>\n",
              "    <tr>\n",
              "      <th>1</th>\n",
              "      <td>Nov 07, 1994</td>\n",
              "      <td>3</td>\n",
              "      <td>0.279</td>\n",
              "      <td>Influenza</td>\n",
              "      <td>62</td>\n",
              "      <td>NaN</td>\n",
              "      <td>19 mm</td>\n",
              "      <td>74</td>\n",
              "      <td>99</td>\n",
              "      <td>21.8</td>\n",
              "      <td>25.596167</td>\n",
              "      <td>False</td>\n",
              "      <td>1.9</td>\n",
              "    </tr>\n",
              "    <tr>\n",
              "      <th>2</th>\n",
              "      <td>Aug 01, 1998</td>\n",
              "      <td>1</td>\n",
              "      <td>1.394</td>\n",
              "      <td>Diabetes, Influenza</td>\n",
              "      <td>76</td>\n",
              "      <td>NaN</td>\n",
              "      <td>4.3 cm</td>\n",
              "      <td>210</td>\n",
              "      <td>199</td>\n",
              "      <td>42.9</td>\n",
              "      <td>21.864476</td>\n",
              "      <td>True</td>\n",
              "      <td>4.3</td>\n",
              "    </tr>\n",
              "    <tr>\n",
              "      <th>3</th>\n",
              "      <td>Aug 20, 1996</td>\n",
              "      <td>0</td>\n",
              "      <td>0.431</td>\n",
              "      <td>Diabetes</td>\n",
              "      <td>65</td>\n",
              "      <td>91.214016</td>\n",
              "      <td>26 mm</td>\n",
              "      <td>130</td>\n",
              "      <td>140</td>\n",
              "      <td>42.6</td>\n",
              "      <td>23.811088</td>\n",
              "      <td>True</td>\n",
              "      <td>2.6</td>\n",
              "    </tr>\n",
              "    <tr>\n",
              "      <th>4</th>\n",
              "      <td>Jun 01, 1992</td>\n",
              "      <td>3</td>\n",
              "      <td>0.268</td>\n",
              "      <td>Diabetes, Influenza, Depression</td>\n",
              "      <td>70</td>\n",
              "      <td>NaN</td>\n",
              "      <td>18 mm</td>\n",
              "      <td>105</td>\n",
              "      <td>163</td>\n",
              "      <td>31.6</td>\n",
              "      <td>28.030116</td>\n",
              "      <td>True</td>\n",
              "      <td>1.8</td>\n",
              "    </tr>\n",
              "    <tr>\n",
              "      <th>...</th>\n",
              "      <td>...</td>\n",
              "      <td>...</td>\n",
              "      <td>...</td>\n",
              "      <td>...</td>\n",
              "      <td>...</td>\n",
              "      <td>...</td>\n",
              "      <td>...</td>\n",
              "      <td>...</td>\n",
              "      <td>...</td>\n",
              "      <td>...</td>\n",
              "      <td>...</td>\n",
              "      <td>...</td>\n",
              "      <td>...</td>\n",
              "    </tr>\n",
              "    <tr>\n",
              "      <th>763</th>\n",
              "      <td>Jan 11, 1998</td>\n",
              "      <td>2</td>\n",
              "      <td>0.525</td>\n",
              "      <td>Influenza</td>\n",
              "      <td>62</td>\n",
              "      <td>117.558697</td>\n",
              "      <td>19 mm</td>\n",
              "      <td>100</td>\n",
              "      <td>91</td>\n",
              "      <td>27.3</td>\n",
              "      <td>22.417522</td>\n",
              "      <td>False</td>\n",
              "      <td>1.9</td>\n",
              "    </tr>\n",
              "    <tr>\n",
              "      <th>764</th>\n",
              "      <td>Jul 14, 1999</td>\n",
              "      <td>1</td>\n",
              "      <td>0.559</td>\n",
              "      <td></td>\n",
              "      <td>24</td>\n",
              "      <td>NaN</td>\n",
              "      <td>1.9 cm</td>\n",
              "      <td>25</td>\n",
              "      <td>89</td>\n",
              "      <td>27.8</td>\n",
              "      <td>20.914442</td>\n",
              "      <td>False</td>\n",
              "      <td>1.9</td>\n",
              "    </tr>\n",
              "    <tr>\n",
              "      <th>765</th>\n",
              "      <td>Jan 30, 1979</td>\n",
              "      <td>10</td>\n",
              "      <td>0.205</td>\n",
              "      <td>Diabetes</td>\n",
              "      <td>70</td>\n",
              "      <td>NaN</td>\n",
              "      <td>26 mm</td>\n",
              "      <td>115</td>\n",
              "      <td>125</td>\n",
              "      <td>31.1</td>\n",
              "      <td>41.366188</td>\n",
              "      <td>True</td>\n",
              "      <td>2.6</td>\n",
              "    </tr>\n",
              "    <tr>\n",
              "      <th>766</th>\n",
              "      <td>Oct 07, 1968</td>\n",
              "      <td>2</td>\n",
              "      <td>0.259</td>\n",
              "      <td>Diabetes, Arthritis, Influenza, Depression</td>\n",
              "      <td>80</td>\n",
              "      <td>NaN</td>\n",
              "      <td>25 mm</td>\n",
              "      <td>210</td>\n",
              "      <td>108</td>\n",
              "      <td>27.0</td>\n",
              "      <td>51.679671</td>\n",
              "      <td>True</td>\n",
              "      <td>2.5</td>\n",
              "    </tr>\n",
              "    <tr>\n",
              "      <th>767</th>\n",
              "      <td>Aug 05, 1970</td>\n",
              "      <td>9</td>\n",
              "      <td>1.282</td>\n",
              "      <td>Diabetes</td>\n",
              "      <td>82</td>\n",
              "      <td>NaN</td>\n",
              "      <td>24 mm</td>\n",
              "      <td>150</td>\n",
              "      <td>112</td>\n",
              "      <td>28.2</td>\n",
              "      <td>49.853525</td>\n",
              "      <td>True</td>\n",
              "      <td>2.4</td>\n",
              "    </tr>\n",
              "  </tbody>\n",
              "</table>\n",
              "<p>768 rows × 13 columns</p>\n",
              "</div>"
            ],
            "text/plain": [
              "              dob  children  ...  has_diabetes bicepskinthickness_cm\n",
              "0    Sep 01, 1973         1  ...          True                   3.3\n",
              "1    Nov 07, 1994         3  ...         False                   1.9\n",
              "2    Aug 01, 1998         1  ...          True                   4.3\n",
              "3    Aug 20, 1996         0  ...          True                   2.6\n",
              "4    Jun 01, 1992         3  ...          True                   1.8\n",
              "..            ...       ...  ...           ...                   ...\n",
              "763  Jan 11, 1998         2  ...         False                   1.9\n",
              "764  Jul 14, 1999         1  ...         False                   1.9\n",
              "765  Jan 30, 1979        10  ...          True                   2.6\n",
              "766  Oct 07, 1968         2  ...          True                   2.5\n",
              "767  Aug 05, 1970         9  ...          True                   2.4\n",
              "\n",
              "[768 rows x 13 columns]"
            ]
          },
          "metadata": {
            "tags": []
          },
          "execution_count": 11
        }
      ]
    },
    {
      "cell_type": "markdown",
      "metadata": {
        "id": "03rM-F6ga4jG",
        "colab_type": "text"
      },
      "source": [
        "Are any of the columns missing data? Are they missing a little data or a lot of data? Should we keep the column(s) with missing data?"
      ]
    },
    {
      "cell_type": "code",
      "metadata": {
        "id": "f0L_72ocbo9u",
        "colab_type": "code",
        "outputId": "51ccfe83-f50d-441d-f1f8-cc31eb35709c",
        "colab": {
          "base_uri": "https://localhost:8080/",
          "height": 195
        }
      },
      "source": [
        "data.isnull().describe()\n",
        "# we see everything has no null entries EXCEPT systolic blood pressure, where\n",
        "# the majority are missing. Safe to drop the column so let's do it"
      ],
      "execution_count": 0,
      "outputs": [
        {
          "output_type": "execute_result",
          "data": {
            "text/html": [
              "<div>\n",
              "<style scoped>\n",
              "    .dataframe tbody tr th:only-of-type {\n",
              "        vertical-align: middle;\n",
              "    }\n",
              "\n",
              "    .dataframe tbody tr th {\n",
              "        vertical-align: top;\n",
              "    }\n",
              "\n",
              "    .dataframe thead th {\n",
              "        text-align: right;\n",
              "    }\n",
              "</style>\n",
              "<table border=\"1\" class=\"dataframe\">\n",
              "  <thead>\n",
              "    <tr style=\"text-align: right;\">\n",
              "      <th></th>\n",
              "      <th>dob</th>\n",
              "      <th>children</th>\n",
              "      <th>diabetespedigree</th>\n",
              "      <th>diagnoses</th>\n",
              "      <th>diastolic</th>\n",
              "      <th>systolic</th>\n",
              "      <th>bicepskinthickness</th>\n",
              "      <th>seruminsulin</th>\n",
              "      <th>glucose</th>\n",
              "      <th>bmi</th>\n",
              "      <th>age</th>\n",
              "      <th>has_diabetes</th>\n",
              "      <th>bicepskinthickness_cm</th>\n",
              "    </tr>\n",
              "  </thead>\n",
              "  <tbody>\n",
              "    <tr>\n",
              "      <th>count</th>\n",
              "      <td>768</td>\n",
              "      <td>768</td>\n",
              "      <td>768</td>\n",
              "      <td>768</td>\n",
              "      <td>768</td>\n",
              "      <td>768</td>\n",
              "      <td>768</td>\n",
              "      <td>768</td>\n",
              "      <td>768</td>\n",
              "      <td>768</td>\n",
              "      <td>768</td>\n",
              "      <td>768</td>\n",
              "      <td>768</td>\n",
              "    </tr>\n",
              "    <tr>\n",
              "      <th>unique</th>\n",
              "      <td>1</td>\n",
              "      <td>1</td>\n",
              "      <td>1</td>\n",
              "      <td>1</td>\n",
              "      <td>1</td>\n",
              "      <td>2</td>\n",
              "      <td>1</td>\n",
              "      <td>1</td>\n",
              "      <td>1</td>\n",
              "      <td>1</td>\n",
              "      <td>1</td>\n",
              "      <td>1</td>\n",
              "      <td>1</td>\n",
              "    </tr>\n",
              "    <tr>\n",
              "      <th>top</th>\n",
              "      <td>False</td>\n",
              "      <td>False</td>\n",
              "      <td>False</td>\n",
              "      <td>False</td>\n",
              "      <td>False</td>\n",
              "      <td>True</td>\n",
              "      <td>False</td>\n",
              "      <td>False</td>\n",
              "      <td>False</td>\n",
              "      <td>False</td>\n",
              "      <td>False</td>\n",
              "      <td>False</td>\n",
              "      <td>False</td>\n",
              "    </tr>\n",
              "    <tr>\n",
              "      <th>freq</th>\n",
              "      <td>768</td>\n",
              "      <td>768</td>\n",
              "      <td>768</td>\n",
              "      <td>768</td>\n",
              "      <td>768</td>\n",
              "      <td>538</td>\n",
              "      <td>768</td>\n",
              "      <td>768</td>\n",
              "      <td>768</td>\n",
              "      <td>768</td>\n",
              "      <td>768</td>\n",
              "      <td>768</td>\n",
              "      <td>768</td>\n",
              "    </tr>\n",
              "  </tbody>\n",
              "</table>\n",
              "</div>"
            ],
            "text/plain": [
              "          dob children  ... has_diabetes bicepskinthickness_cm\n",
              "count     768      768  ...          768                   768\n",
              "unique      1        1  ...            1                     1\n",
              "top     False    False  ...        False                 False\n",
              "freq      768      768  ...          768                   768\n",
              "\n",
              "[4 rows x 13 columns]"
            ]
          },
          "metadata": {
            "tags": []
          },
          "execution_count": 12
        }
      ]
    },
    {
      "cell_type": "code",
      "metadata": {
        "id": "Tn1r8YysGU0u",
        "colab_type": "code",
        "colab": {}
      },
      "source": [
        "data = data.drop(['systolic'], axis=1)"
      ],
      "execution_count": 0,
      "outputs": []
    },
    {
      "cell_type": "markdown",
      "metadata": {
        "id": "ukbzmzhweCqp",
        "colab_type": "text"
      },
      "source": [
        "While we're at it, drop the redundant columns: `dob`, `diagnoses`, and `bicepskinthickness`"
      ]
    },
    {
      "cell_type": "code",
      "metadata": {
        "id": "7X9_ohHPGUJG",
        "colab_type": "code",
        "colab": {}
      },
      "source": [
        "data = data.drop(['dob', 'diagnoses', 'bicepskinthickness'], axis=1)"
      ],
      "execution_count": 0,
      "outputs": []
    },
    {
      "cell_type": "code",
      "metadata": {
        "id": "-gAOPLdseZs1",
        "colab_type": "code",
        "outputId": "06681d6d-2435-4bb8-f07b-d033ea0b9dc9",
        "colab": {
          "base_uri": "https://localhost:8080/",
          "height": 424
        }
      },
      "source": [
        "data"
      ],
      "execution_count": 0,
      "outputs": [
        {
          "output_type": "execute_result",
          "data": {
            "text/html": [
              "<div>\n",
              "<style scoped>\n",
              "    .dataframe tbody tr th:only-of-type {\n",
              "        vertical-align: middle;\n",
              "    }\n",
              "\n",
              "    .dataframe tbody tr th {\n",
              "        vertical-align: top;\n",
              "    }\n",
              "\n",
              "    .dataframe thead th {\n",
              "        text-align: right;\n",
              "    }\n",
              "</style>\n",
              "<table border=\"1\" class=\"dataframe\">\n",
              "  <thead>\n",
              "    <tr style=\"text-align: right;\">\n",
              "      <th></th>\n",
              "      <th>children</th>\n",
              "      <th>diabetespedigree</th>\n",
              "      <th>diastolic</th>\n",
              "      <th>seruminsulin</th>\n",
              "      <th>glucose</th>\n",
              "      <th>bmi</th>\n",
              "      <th>age</th>\n",
              "      <th>has_diabetes</th>\n",
              "      <th>bicepskinthickness_cm</th>\n",
              "    </tr>\n",
              "  </thead>\n",
              "  <tbody>\n",
              "    <tr>\n",
              "      <th>0</th>\n",
              "      <td>1</td>\n",
              "      <td>0.349</td>\n",
              "      <td>60</td>\n",
              "      <td>156</td>\n",
              "      <td>126</td>\n",
              "      <td>30.1</td>\n",
              "      <td>46.778919</td>\n",
              "      <td>True</td>\n",
              "      <td>3.3</td>\n",
              "    </tr>\n",
              "    <tr>\n",
              "      <th>1</th>\n",
              "      <td>3</td>\n",
              "      <td>0.279</td>\n",
              "      <td>62</td>\n",
              "      <td>74</td>\n",
              "      <td>99</td>\n",
              "      <td>21.8</td>\n",
              "      <td>25.596167</td>\n",
              "      <td>False</td>\n",
              "      <td>1.9</td>\n",
              "    </tr>\n",
              "    <tr>\n",
              "      <th>2</th>\n",
              "      <td>1</td>\n",
              "      <td>1.394</td>\n",
              "      <td>76</td>\n",
              "      <td>210</td>\n",
              "      <td>199</td>\n",
              "      <td>42.9</td>\n",
              "      <td>21.864476</td>\n",
              "      <td>True</td>\n",
              "      <td>4.3</td>\n",
              "    </tr>\n",
              "    <tr>\n",
              "      <th>3</th>\n",
              "      <td>0</td>\n",
              "      <td>0.431</td>\n",
              "      <td>65</td>\n",
              "      <td>130</td>\n",
              "      <td>140</td>\n",
              "      <td>42.6</td>\n",
              "      <td>23.811088</td>\n",
              "      <td>True</td>\n",
              "      <td>2.6</td>\n",
              "    </tr>\n",
              "    <tr>\n",
              "      <th>4</th>\n",
              "      <td>3</td>\n",
              "      <td>0.268</td>\n",
              "      <td>70</td>\n",
              "      <td>105</td>\n",
              "      <td>163</td>\n",
              "      <td>31.6</td>\n",
              "      <td>28.030116</td>\n",
              "      <td>True</td>\n",
              "      <td>1.8</td>\n",
              "    </tr>\n",
              "    <tr>\n",
              "      <th>...</th>\n",
              "      <td>...</td>\n",
              "      <td>...</td>\n",
              "      <td>...</td>\n",
              "      <td>...</td>\n",
              "      <td>...</td>\n",
              "      <td>...</td>\n",
              "      <td>...</td>\n",
              "      <td>...</td>\n",
              "      <td>...</td>\n",
              "    </tr>\n",
              "    <tr>\n",
              "      <th>763</th>\n",
              "      <td>2</td>\n",
              "      <td>0.525</td>\n",
              "      <td>62</td>\n",
              "      <td>100</td>\n",
              "      <td>91</td>\n",
              "      <td>27.3</td>\n",
              "      <td>22.417522</td>\n",
              "      <td>False</td>\n",
              "      <td>1.9</td>\n",
              "    </tr>\n",
              "    <tr>\n",
              "      <th>764</th>\n",
              "      <td>1</td>\n",
              "      <td>0.559</td>\n",
              "      <td>24</td>\n",
              "      <td>25</td>\n",
              "      <td>89</td>\n",
              "      <td>27.8</td>\n",
              "      <td>20.914442</td>\n",
              "      <td>False</td>\n",
              "      <td>1.9</td>\n",
              "    </tr>\n",
              "    <tr>\n",
              "      <th>765</th>\n",
              "      <td>10</td>\n",
              "      <td>0.205</td>\n",
              "      <td>70</td>\n",
              "      <td>115</td>\n",
              "      <td>125</td>\n",
              "      <td>31.1</td>\n",
              "      <td>41.366188</td>\n",
              "      <td>True</td>\n",
              "      <td>2.6</td>\n",
              "    </tr>\n",
              "    <tr>\n",
              "      <th>766</th>\n",
              "      <td>2</td>\n",
              "      <td>0.259</td>\n",
              "      <td>80</td>\n",
              "      <td>210</td>\n",
              "      <td>108</td>\n",
              "      <td>27.0</td>\n",
              "      <td>51.679671</td>\n",
              "      <td>True</td>\n",
              "      <td>2.5</td>\n",
              "    </tr>\n",
              "    <tr>\n",
              "      <th>767</th>\n",
              "      <td>9</td>\n",
              "      <td>1.282</td>\n",
              "      <td>82</td>\n",
              "      <td>150</td>\n",
              "      <td>112</td>\n",
              "      <td>28.2</td>\n",
              "      <td>49.853525</td>\n",
              "      <td>True</td>\n",
              "      <td>2.4</td>\n",
              "    </tr>\n",
              "  </tbody>\n",
              "</table>\n",
              "<p>768 rows × 9 columns</p>\n",
              "</div>"
            ],
            "text/plain": [
              "     children  diabetespedigree  ...  has_diabetes  bicepskinthickness_cm\n",
              "0           1             0.349  ...          True                    3.3\n",
              "1           3             0.279  ...         False                    1.9\n",
              "2           1             1.394  ...          True                    4.3\n",
              "3           0             0.431  ...          True                    2.6\n",
              "4           3             0.268  ...          True                    1.8\n",
              "..        ...               ...  ...           ...                    ...\n",
              "763         2             0.525  ...         False                    1.9\n",
              "764         1             0.559  ...         False                    1.9\n",
              "765        10             0.205  ...          True                    2.6\n",
              "766         2             0.259  ...          True                    2.5\n",
              "767         9             1.282  ...          True                    2.4\n",
              "\n",
              "[768 rows x 9 columns]"
            ]
          },
          "metadata": {
            "tags": []
          },
          "execution_count": 15
        }
      ]
    },
    {
      "cell_type": "markdown",
      "metadata": {
        "id": "3ADk-BZhcIPI",
        "colab_type": "text"
      },
      "source": [
        "Standardize your numeric data (should be everything except the `has_diabetes` column) to have a mean of 0 and a standard deviation of 1.\n",
        "\n",
        "Hint: You can do this with simple arithmetic operations as we did on Wednesday or use a `StandardScaler` as you learned yesterday. The arithmetic solution can be done in two lines."
      ]
    },
    {
      "cell_type": "code",
      "metadata": {
        "id": "AXxXgno-dY5P",
        "colab_type": "code",
        "outputId": "01feda7c-9d52-48ee-b6a0-cd60eebf0b62",
        "colab": {
          "base_uri": "https://localhost:8080/",
          "height": 424
        }
      },
      "source": [
        "for column in ['children', 'diabetespedigree', 'diastolic', 'seruminsulin', 'glucose', 'bmi', 'age', 'bicepskinthickness_cm']:\n",
        "  data[column] = (data[column] - data[column].mean()) / data[column].std()\n",
        "data"
      ],
      "execution_count": 0,
      "outputs": [
        {
          "output_type": "execute_result",
          "data": {
            "text/html": [
              "<div>\n",
              "<style scoped>\n",
              "    .dataframe tbody tr th:only-of-type {\n",
              "        vertical-align: middle;\n",
              "    }\n",
              "\n",
              "    .dataframe tbody tr th {\n",
              "        vertical-align: top;\n",
              "    }\n",
              "\n",
              "    .dataframe thead th {\n",
              "        text-align: right;\n",
              "    }\n",
              "</style>\n",
              "<table border=\"1\" class=\"dataframe\">\n",
              "  <thead>\n",
              "    <tr style=\"text-align: right;\">\n",
              "      <th></th>\n",
              "      <th>children</th>\n",
              "      <th>diabetespedigree</th>\n",
              "      <th>diastolic</th>\n",
              "      <th>seruminsulin</th>\n",
              "      <th>glucose</th>\n",
              "      <th>bmi</th>\n",
              "      <th>age</th>\n",
              "      <th>has_diabetes</th>\n",
              "      <th>bicepskinthickness_cm</th>\n",
              "    </tr>\n",
              "  </thead>\n",
              "  <tbody>\n",
              "    <tr>\n",
              "      <th>0</th>\n",
              "      <td>-0.844335</td>\n",
              "      <td>-0.370859</td>\n",
              "      <td>-0.996820</td>\n",
              "      <td>-0.032535</td>\n",
              "      <td>0.141409</td>\n",
              "      <td>-0.343023</td>\n",
              "      <td>1.148553</td>\n",
              "      <td>True</td>\n",
              "      <td>0.324495</td>\n",
              "    </tr>\n",
              "    <tr>\n",
              "      <th>1</th>\n",
              "      <td>-0.250789</td>\n",
              "      <td>-0.582130</td>\n",
              "      <td>-0.835836</td>\n",
              "      <td>-0.715733</td>\n",
              "      <td>-0.745274</td>\n",
              "      <td>-1.540942</td>\n",
              "      <td>-0.651847</td>\n",
              "      <td>False</td>\n",
              "      <td>-0.990608</td>\n",
              "    </tr>\n",
              "    <tr>\n",
              "      <th>2</th>\n",
              "      <td>-0.844335</td>\n",
              "      <td>2.783109</td>\n",
              "      <td>0.291049</td>\n",
              "      <td>0.417376</td>\n",
              "      <td>2.538737</td>\n",
              "      <td>1.504372</td>\n",
              "      <td>-0.969017</td>\n",
              "      <td>True</td>\n",
              "      <td>1.263854</td>\n",
              "    </tr>\n",
              "    <tr>\n",
              "      <th>3</th>\n",
              "      <td>-1.141108</td>\n",
              "      <td>-0.123371</td>\n",
              "      <td>-0.594361</td>\n",
              "      <td>-0.249159</td>\n",
              "      <td>0.601171</td>\n",
              "      <td>1.461073</td>\n",
              "      <td>-0.803567</td>\n",
              "      <td>True</td>\n",
              "      <td>-0.333057</td>\n",
              "    </tr>\n",
              "    <tr>\n",
              "      <th>4</th>\n",
              "      <td>-0.250789</td>\n",
              "      <td>-0.615330</td>\n",
              "      <td>-0.191902</td>\n",
              "      <td>-0.457451</td>\n",
              "      <td>1.356493</td>\n",
              "      <td>-0.126531</td>\n",
              "      <td>-0.444977</td>\n",
              "      <td>True</td>\n",
              "      <td>-1.084544</td>\n",
              "    </tr>\n",
              "    <tr>\n",
              "      <th>...</th>\n",
              "      <td>...</td>\n",
              "      <td>...</td>\n",
              "      <td>...</td>\n",
              "      <td>...</td>\n",
              "      <td>...</td>\n",
              "      <td>...</td>\n",
              "      <td>...</td>\n",
              "      <td>...</td>\n",
              "      <td>...</td>\n",
              "    </tr>\n",
              "    <tr>\n",
              "      <th>763</th>\n",
              "      <td>-0.547562</td>\n",
              "      <td>0.160335</td>\n",
              "      <td>-0.835836</td>\n",
              "      <td>-0.499109</td>\n",
              "      <td>-1.007995</td>\n",
              "      <td>-0.747140</td>\n",
              "      <td>-0.922011</td>\n",
              "      <td>False</td>\n",
              "      <td>-0.990608</td>\n",
              "    </tr>\n",
              "    <tr>\n",
              "      <th>764</th>\n",
              "      <td>-0.844335</td>\n",
              "      <td>0.262953</td>\n",
              "      <td>-3.894525</td>\n",
              "      <td>-1.123985</td>\n",
              "      <td>-1.073675</td>\n",
              "      <td>-0.674976</td>\n",
              "      <td>-1.049764</td>\n",
              "      <td>False</td>\n",
              "      <td>-0.990608</td>\n",
              "    </tr>\n",
              "    <tr>\n",
              "      <th>765</th>\n",
              "      <td>1.826623</td>\n",
              "      <td>-0.805473</td>\n",
              "      <td>-0.191902</td>\n",
              "      <td>-0.374134</td>\n",
              "      <td>0.108569</td>\n",
              "      <td>-0.198695</td>\n",
              "      <td>0.688505</td>\n",
              "      <td>True</td>\n",
              "      <td>-0.333057</td>\n",
              "    </tr>\n",
              "    <tr>\n",
              "      <th>766</th>\n",
              "      <td>-0.547562</td>\n",
              "      <td>-0.642493</td>\n",
              "      <td>0.613016</td>\n",
              "      <td>0.417376</td>\n",
              "      <td>-0.449713</td>\n",
              "      <td>-0.790438</td>\n",
              "      <td>1.565086</td>\n",
              "      <td>True</td>\n",
              "      <td>-0.426993</td>\n",
              "    </tr>\n",
              "    <tr>\n",
              "      <th>767</th>\n",
              "      <td>1.529850</td>\n",
              "      <td>2.445076</td>\n",
              "      <td>0.774000</td>\n",
              "      <td>-0.082525</td>\n",
              "      <td>-0.318352</td>\n",
              "      <td>-0.617245</td>\n",
              "      <td>1.409875</td>\n",
              "      <td>True</td>\n",
              "      <td>-0.520929</td>\n",
              "    </tr>\n",
              "  </tbody>\n",
              "</table>\n",
              "<p>768 rows × 9 columns</p>\n",
              "</div>"
            ],
            "text/plain": [
              "     children  diabetespedigree  ...  has_diabetes  bicepskinthickness_cm\n",
              "0   -0.844335         -0.370859  ...          True               0.324495\n",
              "1   -0.250789         -0.582130  ...         False              -0.990608\n",
              "2   -0.844335          2.783109  ...          True               1.263854\n",
              "3   -1.141108         -0.123371  ...          True              -0.333057\n",
              "4   -0.250789         -0.615330  ...          True              -1.084544\n",
              "..        ...               ...  ...           ...                    ...\n",
              "763 -0.547562          0.160335  ...         False              -0.990608\n",
              "764 -0.844335          0.262953  ...         False              -0.990608\n",
              "765  1.826623         -0.805473  ...          True              -0.333057\n",
              "766 -0.547562         -0.642493  ...          True              -0.426993\n",
              "767  1.529850          2.445076  ...          True              -0.520929\n",
              "\n",
              "[768 rows x 9 columns]"
            ]
          },
          "metadata": {
            "tags": []
          },
          "execution_count": 16
        }
      ]
    },
    {
      "cell_type": "markdown",
      "metadata": {
        "colab_type": "text",
        "id": "aDBaU-E_fUZO"
      },
      "source": [
        "### PCA\n",
        "\n",
        "A good starting place when looking at a new dataset is running PCA and visualizing at a couple of the first principle components.\n",
        "\n",
        "Remember, PCA is simply a rotation of our data that allows us to visualize the axis with the greatest variation. This can elucidate some separation in our data if it exists on those axis, but it may not. \n",
        "\n",
        "**Adapt yesterday's PCA code to work with today's data and visualize the data in PCA space. Color-code by `has_diabetes`.** (For concreteness, plot all possible pairs from the first three principal components... that is, show three graphs PC1-PC2, PC1-PC3, and PC2-PC3.)"
      ]
    },
    {
      "cell_type": "code",
      "metadata": {
        "id": "uVilLlOKfuzy",
        "colab_type": "code",
        "outputId": "a571f1f8-7e1b-4fcf-a9ca-ea278bc4a7cd",
        "colab": {
          "base_uri": "https://localhost:8080/",
          "height": 464
        }
      },
      "source": [
        "y = data['has_diabetes']\n",
        "X = data.drop(['has_diabetes'], axis=1)\n",
        "\n",
        "pca = decomposition.PCA(n_components=3)\n",
        "X_reduced = pd.DataFrame(\n",
        "    pca.fit_transform(X),\n",
        "    columns=['PC1', 'PC2', 'PC3']\n",
        ")\n",
        "X_reduced['has_diabetes'] = y\n",
        "\n",
        "p9.ggplot(X_reduced, p9.aes(x='PC1', y='PC2', color='has_diabetes')) + p9.geom_point(alpha=0.7)\n",
        "\n"
      ],
      "execution_count": 0,
      "outputs": [
        {
          "output_type": "display_data",
          "data": {
            "image/png": "[encoded data removed]",
            "text/plain": [
              "<Figure size 640x480 with 1 Axes>"
            ]
          },
          "metadata": {
            "tags": []
          }
        },
        {
          "output_type": "execute_result",
          "data": {
            "text/plain": [
              "<ggplot: (8788880516209)>"
            ]
          },
          "metadata": {
            "tags": []
          },
          "execution_count": 17
        }
      ]
    },
    {
      "cell_type": "code",
      "metadata": {
        "id": "d5y9qxagJMQ-",
        "colab_type": "code",
        "outputId": "c85da387-741d-43bf-e828-5e1194b297fb",
        "colab": {
          "base_uri": "https://localhost:8080/",
          "height": 464
        }
      },
      "source": [
        "p9.ggplot(X_reduced, p9.aes(x='PC1', y='PC3', color='has_diabetes')) + p9.geom_point(alpha=0.7)\n"
      ],
      "execution_count": 0,
      "outputs": [
        {
          "output_type": "display_data",
          "data": {
            "image/png": "[encoded data removed]",
            "text/plain": [
              "<Figure size 640x480 with 1 Axes>"
            ]
          },
          "metadata": {
            "tags": []
          }
        },
        {
          "output_type": "execute_result",
          "data": {
            "text/plain": [
              "<ggplot: (-9223363247974272501)>"
            ]
          },
          "metadata": {
            "tags": []
          },
          "execution_count": 18
        }
      ]
    },
    {
      "cell_type": "code",
      "metadata": {
        "colab_type": "code",
        "outputId": "9f36c0db-cd7e-46b1-c2fb-2f317ea6d374",
        "id": "lCMakrs2JM4E",
        "colab": {
          "base_uri": "https://localhost:8080/",
          "height": 464
        }
      },
      "source": [
        "p9.ggplot(X_reduced, p9.aes(x='PC2', y='PC3', color='has_diabetes')) + p9.geom_point(alpha=0.7)\n",
        "\n"
      ],
      "execution_count": 0,
      "outputs": [
        {
          "output_type": "display_data",
          "data": {
            "image/png": "[encoded data removed]",
            "text/plain": [
              "<Figure size 640x480 with 1 Axes>"
            ]
          },
          "metadata": {
            "tags": []
          }
        },
        {
          "output_type": "execute_result",
          "data": {
            "text/plain": [
              "<ggplot: (8788880449800)>"
            ]
          },
          "metadata": {
            "tags": []
          },
          "execution_count": 19
        }
      ]
    },
    {
      "cell_type": "markdown",
      "metadata": {
        "id": "nNGlSBl8iPe0",
        "colab_type": "text"
      },
      "source": [
        "What do you make of the graphs?"
      ]
    },
    {
      "cell_type": "markdown",
      "metadata": {
        "id": "Ac04tEm2gC2j",
        "colab_type": "text"
      },
      "source": [
        "# Training and testing sets"
      ]
    },
    {
      "cell_type": "markdown",
      "metadata": {
        "id": "0K16fV3OfUBf",
        "colab_type": "text"
      },
      "source": [
        "Split your data into training and test sets with 20% of the data being used for the test set. To ensure we all work with the same random split, let's specify a `random_state`, namely `random_state=42`.\n",
        "\n",
        "If your predictor variables are in `X` and your outcome vector is in `y`, this can be done using:\n",
        "\n",
        "```\n",
        "X_train, X_test, y_train, y_test = train_test_split(X, y, test_size=0.2, random_state=42)\n",
        "```\n",
        "\n",
        "Hint: how can you split your DataFrame into a predictor matrix `X` and outcome vector `y`?"
      ]
    },
    {
      "cell_type": "code",
      "metadata": {
        "id": "W0TCdY1rhG51",
        "colab_type": "code",
        "colab": {}
      },
      "source": [
        "X_train, X_test, y_train, y_test = train_test_split(X, y, test_size=0.2, random_state=42)"
      ],
      "execution_count": 0,
      "outputs": []
    },
    {
      "cell_type": "markdown",
      "metadata": {
        "id": "8-bzGUNxlZHw",
        "colab_type": "text"
      },
      "source": [
        "# Cross-validation"
      ]
    },
    {
      "cell_type": "markdown",
      "metadata": {
        "id": "X6SSk_i6lbP2",
        "colab_type": "text"
      },
      "source": [
        "Using 5-fold cross-validation (`cross_val_score`) on your *training* data only, plot the relationship between the number of estimators (between 10 and 100 counting by 10s) with a max depth of 4 and the average regression score for a corresponding `RandomForest`.\n",
        "\n",
        "Hint: you did cross-validation yesterday in the disease classification exercises with logistic regression."
      ]
    },
    {
      "cell_type": "code",
      "metadata": {
        "id": "Yb9OntH7mX6P",
        "colab_type": "code",
        "outputId": "f56e5a39-3d74-4555-9adf-68998b6db5af",
        "colab": {
          "base_uri": "https://localhost:8080/",
          "height": 465
        }
      },
      "source": [
        "# performance of random forest, iterating number of estimators\n",
        "scores = []\n",
        "# number of estimators\n",
        "N = 110\n",
        "# maximum depth\n",
        "D = 4\n",
        "estimator_choices = [10, 20, 30, 40, 50, 60, 70, 80, 90, 100]\n",
        "for n_estimators in estimator_choices:\n",
        "    clf = RandomForestClassifier(n_estimators=n_estimators, max_depth=D, random_state=0)\n",
        "    # 5-fold cross validation\n",
        "    sc = cross_val_score(clf, X_train, y_train, cv=5)\n",
        "    scores.append(sc.mean())\n",
        "\n",
        "(\n",
        "    p9.ggplot(\n",
        "      pd.DataFrame({'n_estimators': estimator_choices, 'score': scores}),\n",
        "      p9.aes(x='n_estimators', y='score')\n",
        "    ) + p9.geom_line()\n",
        ")"
      ],
      "execution_count": 0,
      "outputs": [
        {
          "output_type": "display_data",
          "data": {
            "image/png": "[encoded data removed]",
            "text/plain": [
              "<Figure size 640x480 with 1 Axes>"
            ]
          },
          "metadata": {
            "tags": []
          }
        },
        {
          "output_type": "execute_result",
          "data": {
            "text/plain": [
              "<ggplot: (-9223363247975960106)>"
            ]
          },
          "metadata": {
            "tags": []
          },
          "execution_count": 21
        }
      ]
    },
    {
      "cell_type": "markdown",
      "metadata": {
        "id": "2MFjeFPZmYMB",
        "colab_type": "text"
      },
      "source": [
        "# Testing\n",
        "\n",
        "Using the number of estimators that gave the best score in the validation phase, train a `RandomForest` on your entire training set, and `.score` its performance with the test set."
      ]
    },
    {
      "cell_type": "code",
      "metadata": {
        "id": "kBa7Ec4vmtOk",
        "colab_type": "code",
        "outputId": "966d3bac-d604-4270-ba64-29e4e0fc93f1",
        "colab": {
          "base_uri": "https://localhost:8080/",
          "height": 34
        }
      },
      "source": [
        "best_n_estimators = 30  # by inspection of the graph above\n",
        "\n",
        "clf = RandomForestClassifier(n_estimators=best_n_estimators, max_depth=D, random_state=0)\n",
        "clf.fit(X_train, y_train)\n",
        "print(f\"Optimal Non-Categorical Accuracy: {clf.score(X_test, y_test)}\")"
      ],
      "execution_count": 0,
      "outputs": [
        {
          "output_type": "stream",
          "text": [
            "Optimal Non-Categorical Accuracy: 0.7987012987012987\n"
          ],
          "name": "stdout"
        }
      ]
    },
    {
      "cell_type": "markdown",
      "metadata": {
        "id": "C3kpmt6-mtZ4",
        "colab_type": "text"
      },
      "source": [
        "Print the confusion matrix. What does it mean?\n",
        "\n",
        "Hint: looking at `y_test.value_counts()` might help with the interpretation."
      ]
    },
    {
      "cell_type": "code",
      "metadata": {
        "id": "4InslPDzmvRN",
        "colab_type": "code",
        "outputId": "9ea8e1d2-0a61-4ed8-8d11-4e1a306e7a89",
        "colab": {
          "base_uri": "https://localhost:8080/",
          "height": 52
        }
      },
      "source": [
        "y_predicted = clf.predict(X_test)\n",
        "cm = confusion_matrix(y_predicted, y_test)\n",
        "print(cm)"
      ],
      "execution_count": 0,
      "outputs": [
        {
          "output_type": "stream",
          "text": [
            "[[83 22]\n",
            " [ 9 40]]\n"
          ],
          "name": "stdout"
        }
      ]
    },
    {
      "cell_type": "markdown",
      "metadata": {
        "id": "CKtEYXjNmvqo",
        "colab_type": "text"
      },
      "source": [
        "Finally, make a horizontal bar graph showing the fitted `RandomForest`'s `feature_importances_`, sorted in order of increasing importance.\n",
        "\n",
        "Hints: you used `feature_importances_` in the Warfarin exercises. You'll need to specify a `stat` to `geom_bar` and you'll need to modify the coordinate system to make the graphs horizontal."
      ]
    },
    {
      "cell_type": "code",
      "metadata": {
        "id": "XQS5qd8tTC31",
        "colab_type": "code",
        "outputId": "4ff0d8ab-2810-4ddf-aa24-58d50ff99a12",
        "colab": {
          "base_uri": "https://localhost:8080/",
          "height": 300
        }
      },
      "source": [
        "importances = pd.DataFrame({'Variable': X_train.keys(), 'Feature_Importance': clf.feature_importances_})\n",
        "importances"
      ],
      "execution_count": 0,
      "outputs": [
        {
          "output_type": "execute_result",
          "data": {
            "text/html": [
              "<div>\n",
              "<style scoped>\n",
              "    .dataframe tbody tr th:only-of-type {\n",
              "        vertical-align: middle;\n",
              "    }\n",
              "\n",
              "    .dataframe tbody tr th {\n",
              "        vertical-align: top;\n",
              "    }\n",
              "\n",
              "    .dataframe thead th {\n",
              "        text-align: right;\n",
              "    }\n",
              "</style>\n",
              "<table border=\"1\" class=\"dataframe\">\n",
              "  <thead>\n",
              "    <tr style=\"text-align: right;\">\n",
              "      <th></th>\n",
              "      <th>Variable</th>\n",
              "      <th>Feature_Importance</th>\n",
              "    </tr>\n",
              "  </thead>\n",
              "  <tbody>\n",
              "    <tr>\n",
              "      <th>0</th>\n",
              "      <td>children</td>\n",
              "      <td>0.045159</td>\n",
              "    </tr>\n",
              "    <tr>\n",
              "      <th>1</th>\n",
              "      <td>diabetespedigree</td>\n",
              "      <td>0.049930</td>\n",
              "    </tr>\n",
              "    <tr>\n",
              "      <th>2</th>\n",
              "      <td>diastolic</td>\n",
              "      <td>0.039643</td>\n",
              "    </tr>\n",
              "    <tr>\n",
              "      <th>3</th>\n",
              "      <td>seruminsulin</td>\n",
              "      <td>0.249238</td>\n",
              "    </tr>\n",
              "    <tr>\n",
              "      <th>4</th>\n",
              "      <td>glucose</td>\n",
              "      <td>0.247303</td>\n",
              "    </tr>\n",
              "    <tr>\n",
              "      <th>5</th>\n",
              "      <td>bmi</td>\n",
              "      <td>0.132287</td>\n",
              "    </tr>\n",
              "    <tr>\n",
              "      <th>6</th>\n",
              "      <td>age</td>\n",
              "      <td>0.144485</td>\n",
              "    </tr>\n",
              "    <tr>\n",
              "      <th>7</th>\n",
              "      <td>bicepskinthickness_cm</td>\n",
              "      <td>0.091956</td>\n",
              "    </tr>\n",
              "  </tbody>\n",
              "</table>\n",
              "</div>"
            ],
            "text/plain": [
              "                Variable  Feature_Importance\n",
              "0               children            0.045159\n",
              "1       diabetespedigree            0.049930\n",
              "2              diastolic            0.039643\n",
              "3           seruminsulin            0.249238\n",
              "4                glucose            0.247303\n",
              "5                    bmi            0.132287\n",
              "6                    age            0.144485\n",
              "7  bicepskinthickness_cm            0.091956"
            ]
          },
          "metadata": {
            "tags": []
          },
          "execution_count": 24
        }
      ]
    },
    {
      "cell_type": "code",
      "metadata": {
        "id": "H6HG-tRfnuGo",
        "colab_type": "code",
        "outputId": "b9a1cb79-6a94-41ca-ab57-011af3e15b1a",
        "colab": {
          "base_uri": "https://localhost:8080/",
          "height": 465
        }
      },
      "source": [
        "(\n",
        "    p9.ggplot(\n",
        "        importances,\n",
        "        p9.aes(x='Variable', y='Feature_Importance')\n",
        "    )\n",
        "    + p9.geom_bar(stat='identity')\n",
        "    + p9.coord_flip()\n",
        ")"
      ],
      "execution_count": 0,
      "outputs": [
        {
          "output_type": "display_data",
          "data": {
            "image/png": "[encoded data removed]",
            "text/plain": [
              "<Figure size 640x480 with 1 Axes>"
            ]
          },
          "metadata": {
            "tags": []
          }
        },
        {
          "output_type": "execute_result",
          "data": {
            "text/plain": [
              "<ggplot: (-9223363247974325998)>"
            ]
          },
          "metadata": {
            "tags": []
          },
          "execution_count": 25
        }
      ]
    }
  ]
}