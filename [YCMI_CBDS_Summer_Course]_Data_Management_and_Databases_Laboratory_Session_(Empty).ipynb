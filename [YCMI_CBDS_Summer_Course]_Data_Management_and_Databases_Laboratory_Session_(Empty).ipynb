{
  "nbformat": 4,
  "nbformat_minor": 0,
  "metadata": {
    "colab": {
      "name": "[YCMI_CBDS Summer Course] Data Management and Databases - Laboratory Session (Empty)",
      "provenance": [],
      "collapsed_sections": []
    },
    "kernelspec": {
      "name": "python3",
      "display_name": "Python 3"
    }
  },
  "cells": [
    {
      "cell_type": "markdown",
      "metadata": {
        "id": "tyVUG0hixL9y",
        "colab_type": "text"
      },
      "source": [
        "#Lab: Data Management and Databases"
      ]
    },
    {
      "cell_type": "markdown",
      "metadata": {
        "id": "hSz44cqTxSia",
        "colab_type": "text"
      },
      "source": [
        "#### 1. Import pandas and sqlite3 into this project"
      ]
    },
    {
      "cell_type": "code",
      "metadata": {
        "id": "edcFn2R8x-yv",
        "colab_type": "code",
        "colab": {}
      },
      "source": [
        ""
      ],
      "execution_count": 0,
      "outputs": []
    },
    {
      "cell_type": "markdown",
      "metadata": {
        "id": "nfHYSA_gyR0T",
        "colab_type": "text"
      },
      "source": [
        "#### 2. Mount the google drive folder storing the MIMIC III demo csv files"
      ]
    },
    {
      "cell_type": "code",
      "metadata": {
        "id": "DYIxZeepyd4m",
        "colab_type": "code",
        "colab": {}
      },
      "source": [
        ""
      ],
      "execution_count": 0,
      "outputs": []
    },
    {
      "cell_type": "markdown",
      "metadata": {
        "id": "OU1-yrffygtQ",
        "colab_type": "text"
      },
      "source": [
        "#### 3. Create variables that store the following csv files as pandas dataframes (along with any other csvs you might be interested in): \n",
        "\n",
        "*   PATIENTS.csv\n",
        "*   ADMISSIONS.csv\n",
        "*   PRESCRIPTIONS.csv\n",
        "*   SERVICES.csv\n",
        "*   D_ICD_DIAGNOSES.csv\n",
        "*   DIAGNOSES_ICD.csv"
      ]
    },
    {
      "cell_type": "code",
      "metadata": {
        "id": "B0YBr0-s3cwJ",
        "colab_type": "code",
        "colab": {}
      },
      "source": [
        ""
      ],
      "execution_count": 0,
      "outputs": []
    },
    {
      "cell_type": "markdown",
      "metadata": {
        "id": "GIj26pKz5Vsl",
        "colab_type": "text"
      },
      "source": [
        "#### 4. Add to the existing variable assignments below to create code that will establish a database connection (name the database \"lab.db\"), and create a database cursor."
      ]
    },
    {
      "cell_type": "code",
      "metadata": {
        "id": "qIDBNaIt5rKm",
        "colab_type": "code",
        "colab": {}
      },
      "source": [
        "conn = \n",
        "cursor = "
      ],
      "execution_count": 0,
      "outputs": []
    },
    {
      "cell_type": "markdown",
      "metadata": {
        "id": "TQUmLlpj5xOc",
        "colab_type": "text"
      },
      "source": [
        "#### 5. Add the csvs stored as variables in prompt 3 to lab.db using the .to_sql.() method"
      ]
    },
    {
      "cell_type": "code",
      "metadata": {
        "id": "yUnGCOx36DMJ",
        "colab_type": "code",
        "colab": {}
      },
      "source": [
        "patients\n",
        "admissions\n",
        "prescriptions\n",
        "services\n",
        "d_icd_diagnoses\n",
        "diagnoses_icd"
      ],
      "execution_count": 0,
      "outputs": []
    },
    {
      "cell_type": "markdown",
      "metadata": {
        "id": "q4Fm1buB7Wj_",
        "colab_type": "text"
      },
      "source": [
        "#### 6. Write an sql query that pulls the icd9_code and short_title columns from the table created from the d_icd_diagnoses csv."
      ]
    },
    {
      "cell_type": "code",
      "metadata": {
        "id": "WP13E8z07Xll",
        "colab_type": "code",
        "colab": {}
      },
      "source": [
        ""
      ],
      "execution_count": 0,
      "outputs": []
    },
    {
      "cell_type": "markdown",
      "metadata": {
        "id": "n13KUzy97X4A",
        "colab_type": "text"
      },
      "source": [
        "#### 7. Write a query that results in the number of subjects per each generic drug name, and order by route (descending). "
      ]
    },
    {
      "cell_type": "code",
      "metadata": {
        "id": "zqIth57ljHXq",
        "colab_type": "code",
        "colab": {}
      },
      "source": [
        ""
      ],
      "execution_count": 0,
      "outputs": []
    },
    {
      "cell_type": "markdown",
      "metadata": {
        "id": "T3UAsHuMjYA-",
        "colab_type": "text"
      },
      "source": [
        "#### 8. Surgury-related event (hint: surgeries are noted in the services table), find all of the diagonse names (short titles) tied to these events. Display only emergency admission types."
      ]
    },
    {
      "cell_type": "code",
      "metadata": {
        "id": "77pxYNe8lIUc",
        "colab_type": "code",
        "colab": {}
      },
      "source": [
        ""
      ],
      "execution_count": 0,
      "outputs": []
    },
    {
      "cell_type": "markdown",
      "metadata": {
        "id": "krggQrjwIYBt",
        "colab_type": "text"
      },
      "source": [
        "#### 9. Write a query that will return diagnoses that appear more than 15 times. "
      ]
    },
    {
      "cell_type": "code",
      "metadata": {
        "id": "zZZf-rAAIgw0",
        "colab_type": "code",
        "colab": {}
      },
      "source": [
        ""
      ],
      "execution_count": 0,
      "outputs": []
    },
    {
      "cell_type": "markdown",
      "metadata": {
        "id": "26eyFcJy2Xdb",
        "colab_type": "text"
      },
      "source": [
        "10. Write a query that compares ethnicity and insurance type in some way. Compare your inqueries and results with others in your working group."
      ]
    },
    {
      "cell_type": "code",
      "metadata": {
        "id": "qj5u-xJY3KfU",
        "colab_type": "code",
        "colab": {}
      },
      "source": [
        ""
      ],
      "execution_count": 0,
      "outputs": []
    }
  ]
}