{
  "nbformat": 4,
  "nbformat_minor": 0,
  "metadata": {
    "anaconda-cloud": {},
    "celltoolbar": "Slideshow",
    "kernelspec": {
      "display_name": "Python 3",
      "language": "python",
      "name": "python3"
    },
    "language_info": {
      "codemirror_mode": {
        "name": "ipython",
        "version": 3
      },
      "file_extension": ".py",
      "mimetype": "text/x-python",
      "name": "python",
      "nbconvert_exporter": "python",
      "pygments_lexer": "ipython3",
      "version": "3.6.3"
    },
    "nbpresent": {
      "slides": {
        "16df8b59-5bc2-4d5b-ba3f-a178744ac923": {
          "id": "16df8b59-5bc2-4d5b-ba3f-a178744ac923",
          "prev": "aa3ee3b4-556f-4ea8-b8a4-e51c983ca770",
          "regions": {
            "ab3fc3b2-a4b3-4943-9aa5-825ac7088ff5": {
              "attrs": {
                "height": 1,
                "width": 1,
                "x": 0,
                "y": 0
              },
              "content": {
                "cell": "1fd934b5-bc66-4e5d-b1f1-b761fd7c1b3b",
                "part": "source"
              },
              "id": "ab3fc3b2-a4b3-4943-9aa5-825ac7088ff5"
            }
          }
        },
        "30f3fb19-fbe3-4d69-abd5-7f8b7f40efd8": {
          "id": "30f3fb19-fbe3-4d69-abd5-7f8b7f40efd8",
          "prev": "16df8b59-5bc2-4d5b-ba3f-a178744ac923",
          "regions": {
            "4e25a3a0-2bae-441b-8b54-169061b9f3e3": {
              "attrs": {
                "height": 1,
                "width": 1,
                "x": 0,
                "y": 0
              },
              "content": {
                "cell": "695365a2-6432-4ccb-a0f7-102a4ada25a2",
                "part": "source"
              },
              "id": "4e25a3a0-2bae-441b-8b54-169061b9f3e3"
            }
          }
        },
        "7a2c2b31-a6ac-4207-9c14-d99373562671": {
          "id": "7a2c2b31-a6ac-4207-9c14-d99373562671",
          "prev": "b5748b9e-f422-4eb4-97d8-013656ea71ea",
          "regions": {
            "522b018f-71db-441b-acea-9bc6ac6e8fab": {
              "attrs": {
                "height": 0.8,
                "width": 0.45,
                "x": 0.05,
                "y": 0.1
              },
              "content": {
                "cell": "a3e854d4-afd1-407b-ad3b-3388adfa5c59",
                "part": "source"
              },
              "id": "522b018f-71db-441b-acea-9bc6ac6e8fab"
            },
            "75c3539a-d2df-44a7-9d7b-b782086041b6": {
              "attrs": {
                "height": 0.8,
                "width": 0.45,
                "x": 0.5,
                "y": 0.1
              },
              "content": {
                "cell": "39a062c0-53d9-4836-b7f2-d863557c3842",
                "part": "whole"
              },
              "id": "75c3539a-d2df-44a7-9d7b-b782086041b6"
            }
          }
        },
        "8ee2439b-8d0e-45af-a452-b807bd7d1cb0": {
          "id": "8ee2439b-8d0e-45af-a452-b807bd7d1cb0",
          "prev": null,
          "regions": {
            "ff2c3bf2-9512-4de8-a236-39de1db8813a": {
              "attrs": {
                "height": 0.8,
                "width": 0.45,
                "x": 0.05,
                "y": 0.1
              },
              "content": {
                "cell": "c8b3ec86-ac5d-44c9-a5c5-ea12c7ccb113",
                "part": "source"
              },
              "id": "ff2c3bf2-9512-4de8-a236-39de1db8813a"
            }
          }
        },
        "aa3ee3b4-556f-4ea8-b8a4-e51c983ca770": {
          "id": "aa3ee3b4-556f-4ea8-b8a4-e51c983ca770",
          "prev": "8ee2439b-8d0e-45af-a452-b807bd7d1cb0",
          "regions": {
            "18dde78c-c9d1-433b-b821-25954e65efc6": {
              "attrs": {
                "height": 1,
                "width": 1,
                "x": 0,
                "y": 0
              },
              "content": {
                "cell": "0c03e049-d629-440b-85bd-ef2883ca61ad",
                "part": "source"
              },
              "id": "18dde78c-c9d1-433b-b821-25954e65efc6"
            }
          }
        },
        "b5748b9e-f422-4eb4-97d8-013656ea71ea": {
          "id": "b5748b9e-f422-4eb4-97d8-013656ea71ea",
          "prev": "30f3fb19-fbe3-4d69-abd5-7f8b7f40efd8",
          "regions": {
            "cf8a6c53-278d-4d91-8131-8a73a4e6ef28": {
              "attrs": {
                "height": 1,
                "width": 1,
                "x": 0,
                "y": 0
              },
              "content": {
                "cell": "a3e854d4-afd1-407b-ad3b-3388adfa5c59",
                "part": "source"
              },
              "id": "cf8a6c53-278d-4d91-8131-8a73a4e6ef28"
            }
          }
        },
        "ffce2803-6b15-4098-9995-74f1fbbb9307": {
          "id": "ffce2803-6b15-4098-9995-74f1fbbb9307",
          "prev": "7a2c2b31-a6ac-4207-9c14-d99373562671",
          "regions": {
            "0f1c7dd4-d298-45cf-8c6a-57b877272ae8": {
              "attrs": {
                "height": 1,
                "width": 1,
                "x": 0,
                "y": 0
              },
              "content": {
                "cell": "39a062c0-53d9-4836-b7f2-d863557c3842",
                "part": "whole"
              },
              "id": "0f1c7dd4-d298-45cf-8c6a-57b877272ae8"
            }
          }
        }
      },
      "themes": {
        "default": "074f5102-975e-42ad-a86d-e888569a1bb0",
        "theme": {
          "074f5102-975e-42ad-a86d-e888569a1bb0": {
            "backgrounds": {
              "dc7afa04-bf90-40b1-82a5-726e3cff5267": {
                "background-color": "31af15d2-7e15-44c5-ab5e-e04b16a89eff",
                "id": "dc7afa04-bf90-40b1-82a5-726e3cff5267"
              }
            },
            "id": "074f5102-975e-42ad-a86d-e888569a1bb0",
            "palette": {
              "19cc588f-0593-49c9-9f4b-e4d7cc113b1c": {
                "id": "19cc588f-0593-49c9-9f4b-e4d7cc113b1c",
                "rgb": [
                  252,
                  252,
                  252
                ]
              },
              "31af15d2-7e15-44c5-ab5e-e04b16a89eff": {
                "id": "31af15d2-7e15-44c5-ab5e-e04b16a89eff",
                "rgb": [
                  68,
                  68,
                  68
                ]
              },
              "50f92c45-a630-455b-aec3-788680ec7410": {
                "id": "50f92c45-a630-455b-aec3-788680ec7410",
                "rgb": [
                  197,
                  226,
                  245
                ]
              },
              "c5cc3653-2ee1-402a-aba2-7caae1da4f6c": {
                "id": "c5cc3653-2ee1-402a-aba2-7caae1da4f6c",
                "rgb": [
                  43,
                  126,
                  184
                ]
              },
              "efa7f048-9acb-414c-8b04-a26811511a21": {
                "id": "efa7f048-9acb-414c-8b04-a26811511a21",
                "rgb": [
                  25.118061674008803,
                  73.60176211453744,
                  107.4819383259912
                ]
              }
            },
            "rules": {
              "a": {
                "color": "19cc588f-0593-49c9-9f4b-e4d7cc113b1c"
              },
              "blockquote": {
                "color": "50f92c45-a630-455b-aec3-788680ec7410",
                "font-size": 3
              },
              "code": {
                "font-family": "Anonymous Pro"
              },
              "h1": {
                "color": "19cc588f-0593-49c9-9f4b-e4d7cc113b1c",
                "font-family": "Merriweather",
                "font-size": 8
              },
              "h2": {
                "color": "19cc588f-0593-49c9-9f4b-e4d7cc113b1c",
                "font-family": "Merriweather",
                "font-size": 6
              },
              "h3": {
                "color": "50f92c45-a630-455b-aec3-788680ec7410",
                "font-family": "Lato",
                "font-size": 5.5
              },
              "h4": {
                "color": "c5cc3653-2ee1-402a-aba2-7caae1da4f6c",
                "font-family": "Lato",
                "font-size": 5
              },
              "h5": {
                "font-family": "Lato"
              },
              "h6": {
                "font-family": "Lato"
              },
              "h7": {
                "font-family": "Lato"
              },
              "li": {
                "color": "50f92c45-a630-455b-aec3-788680ec7410",
                "font-size": 3.25
              },
              "pre": {
                "font-family": "Anonymous Pro",
                "font-size": 4
              }
            },
            "text-base": {
              "color": "19cc588f-0593-49c9-9f4b-e4d7cc113b1c",
              "font-family": "Lato",
              "font-size": 4
            }
          },
          "870622fb-0a9f-4a9f-9d04-a55735a537a8": {
            "id": "870622fb-0a9f-4a9f-9d04-a55735a537a8",
            "palette": {
              "19cc588f-0593-49c9-9f4b-e4d7cc113b1c": {
                "id": "19cc588f-0593-49c9-9f4b-e4d7cc113b1c",
                "rgb": [
                  252,
                  252,
                  252
                ]
              },
              "31af15d2-7e15-44c5-ab5e-e04b16a89eff": {
                "id": "31af15d2-7e15-44c5-ab5e-e04b16a89eff",
                "rgb": [
                  68,
                  68,
                  68
                ]
              },
              "50f92c45-a630-455b-aec3-788680ec7410": {
                "id": "50f92c45-a630-455b-aec3-788680ec7410",
                "rgb": [
                  155,
                  177,
                  192
                ]
              },
              "c5cc3653-2ee1-402a-aba2-7caae1da4f6c": {
                "id": "c5cc3653-2ee1-402a-aba2-7caae1da4f6c",
                "rgb": [
                  43,
                  126,
                  184
                ]
              },
              "efa7f048-9acb-414c-8b04-a26811511a21": {
                "id": "efa7f048-9acb-414c-8b04-a26811511a21",
                "rgb": [
                  25.118061674008803,
                  73.60176211453744,
                  107.4819383259912
                ]
              }
            },
            "rules": {
              "blockquote": {
                "color": "50f92c45-a630-455b-aec3-788680ec7410"
              },
              "code": {
                "font-family": "Anonymous Pro"
              },
              "h1": {
                "color": "c5cc3653-2ee1-402a-aba2-7caae1da4f6c",
                "font-family": "Lato",
                "font-size": 8
              },
              "h2": {
                "color": "c5cc3653-2ee1-402a-aba2-7caae1da4f6c",
                "font-family": "Lato",
                "font-size": 6
              },
              "h3": {
                "color": "50f92c45-a630-455b-aec3-788680ec7410",
                "font-family": "Lato",
                "font-size": 5.5
              },
              "h4": {
                "color": "c5cc3653-2ee1-402a-aba2-7caae1da4f6c",
                "font-family": "Lato",
                "font-size": 5
              },
              "h5": {
                "font-family": "Lato"
              },
              "h6": {
                "font-family": "Lato"
              },
              "h7": {
                "font-family": "Lato"
              },
              "pre": {
                "font-family": "Anonymous Pro",
                "font-size": 4
              }
            },
            "text-base": {
              "font-family": "Merriweather",
              "font-size": 4
            }
          }
        }
      }
    },
    "colab": {
      "name": "[YCMI_CBDS Summer Course] Text Mining and NLP - Laboratory Session (Solved)",
      "provenance": [],
      "collapsed_sections": [],
      "toc_visible": true
    }
  },
  "cells": [
    {
      "cell_type": "markdown",
      "metadata": {
        "nbpresent": {
          "id": "c8b3ec86-ac5d-44c9-a5c5-ea12c7ccb113"
        },
        "id": "jXGRzvCkJnIL",
        "colab_type": "text"
      },
      "source": [
        "# LAB \n",
        "##Text mining & Natural Language Processing\n",
        "\n",
        "In this lab, we'll experiemnt with the fundamental NLP concepts that we learned in the lucture. The structure of the lab is purposely designed as the lucture. I believe this resemblence will help emphasize the concepts learened. However, try to solve this lab on your own before looking back into the lucture notebook."
      ]
    },
    {
      "cell_type": "markdown",
      "metadata": {
        "id": "rBRZjHeGKrGH",
        "colab_type": "text"
      },
      "source": [
        "First step is to mount your google drive \n",
        "\n"
      ]
    },
    {
      "cell_type": "code",
      "metadata": {
        "id": "rE5yboOaOx8Q",
        "colab_type": "code",
        "outputId": "c569e8b5-d288-46e4-cc7a-ce3aaea58599",
        "colab": {
          "base_uri": "https://localhost:8080/",
          "height": 124
        }
      },
      "source": [
        "#mount google drive \n",
        "from google.colab import drive\n",
        "drive.mount('/content/gdrive')"
      ],
      "execution_count": 0,
      "outputs": [
        {
          "output_type": "stream",
          "text": [
            "Go to this URL in a browser: https://accounts.google.com/o/oauth2/auth?client_id=947318989803-6bn6qk8qdgf4n4g3pfee6491hc0brc4i.apps.googleusercontent.com&redirect_uri=urn%3aietf%3awg%3aoauth%3a2.0%3aoob&response_type=code&scope=email%20https%3a%2f%2fwww.googleapis.com%2fauth%2fdocs.test%20https%3a%2f%2fwww.googleapis.com%2fauth%2fdrive%20https%3a%2f%2fwww.googleapis.com%2fauth%2fdrive.photos.readonly%20https%3a%2f%2fwww.googleapis.com%2fauth%2fpeopleapi.readonly\n",
            "\n",
            "Enter your authorization code:\n",
            "··········\n",
            "Mounted at /content/gdrive\n"
          ],
          "name": "stdout"
        }
      ]
    },
    {
      "cell_type": "markdown",
      "metadata": {
        "id": "d0yl_1piTMmT",
        "colab_type": "text"
      },
      "source": [
        "Now load the MICROBIOLOGYEVENTS_M.csv file we used in the lucture "
      ]
    },
    {
      "cell_type": "code",
      "metadata": {
        "id": "YkfevUKostjA",
        "colab_type": "code",
        "colab": {}
      },
      "source": [
        "# load file into a dataframe....\n",
        "import pandas as pd\n",
        "data =pd.read_csv(\"/content/gdrive/My Drive/[YCMI_CBDS Summer Course] Data/mimic_iii/MICROBIOLOGYEVENTS_M.csv\")"
      ],
      "execution_count": 0,
      "outputs": []
    },
    {
      "cell_type": "markdown",
      "metadata": {
        "id": "6bSiP95M1j3D",
        "colab_type": "text"
      },
      "source": [
        "How many records/rows and columns are there in the file ....."
      ]
    },
    {
      "cell_type": "code",
      "metadata": {
        "id": "Rnqq4VJu1qWa",
        "colab_type": "code",
        "outputId": "66ce6763-9925-4683-ed53-43eb1a5291fe",
        "colab": {
          "base_uri": "https://localhost:8080/",
          "height": 34
        }
      },
      "source": [
        "# check dataframe size\n",
        "print (data.shape)"
      ],
      "execution_count": 0,
      "outputs": [
        {
          "output_type": "stream",
          "text": [
            "(2003, 18)\n"
          ],
          "name": "stdout"
        }
      ]
    },
    {
      "cell_type": "markdown",
      "metadata": {
        "id": "A4uY2N2H12w2",
        "colab_type": "text"
      },
      "source": [
        "What are the variables names - that describe the patients "
      ]
    },
    {
      "cell_type": "code",
      "metadata": {
        "id": "cAuAdFUu1-ra",
        "colab_type": "code",
        "outputId": "c4e00026-ac9a-4a9b-8bc8-7783bcab0194",
        "colab": {
          "base_uri": "https://localhost:8080/",
          "height": 330
        }
      },
      "source": [
        "#get the columns names then print each one on a row\n",
        "for e in data.columns:\n",
        "   print (e)"
      ],
      "execution_count": 0,
      "outputs": [
        {
          "output_type": "stream",
          "text": [
            "row_id\n",
            "subject_id\n",
            "hadm_id\n",
            "chartdate\n",
            "charttime\n",
            "spec_itemid\n",
            "spec_type_desc\n",
            "org_itemid\n",
            "org_name\n",
            "isolate_num\n",
            "ab_itemid\n",
            "ab_name\n",
            "dilution_text\n",
            "dilution_comparison\n",
            "dilution_value\n",
            "interpretation\n",
            "ab_interactions\n",
            "ab_class\n"
          ],
          "name": "stdout"
        }
      ]
    },
    {
      "cell_type": "markdown",
      "metadata": {
        "id": "nfD8NtcW2fXk",
        "colab_type": "text"
      },
      "source": [
        "Print the first 10 rows in the data"
      ]
    },
    {
      "cell_type": "code",
      "metadata": {
        "id": "7KQ12Y_h2aiF",
        "colab_type": "code",
        "outputId": "8f0202bf-0c51-4cf3-fdf9-9de0ef7bbb6b",
        "colab": {
          "base_uri": "https://localhost:8080/",
          "height": 156
        }
      },
      "source": [
        "#print 10 rows ...\n",
        "print (data.head(5))"
      ],
      "execution_count": 0,
      "outputs": [
        {
          "output_type": "stream",
          "text": [
            "   row_id  ...                                           ab_class\n",
            "0  134694  ...                                                NaN\n",
            "1  134695  ...  Diarrhea|Meningitis, Pneumococcal|Vancomycin|E...\n",
            "2  134696  ...  Central Nervous System Infections|Decreased Pr...\n",
            "3  134697  ...  Decreased DNA Integrity|Salmonella Infections|...\n",
            "4  134698  ...  Gram-Positive Bacterial Infections|Enzyme Acti...\n",
            "\n",
            "[5 rows x 18 columns]\n"
          ],
          "name": "stdout"
        }
      ]
    },
    {
      "cell_type": "markdown",
      "metadata": {
        "id": "41L1njI62koe",
        "colab_type": "text"
      },
      "source": [
        "Drop all rows that has any NaN value and check how many records left.\n",
        "\n",
        "NOTE: don't forget to reset the index"
      ]
    },
    {
      "cell_type": "code",
      "metadata": {
        "id": "DLr-ai9d6HYF",
        "colab_type": "code",
        "outputId": "43ca688d-eec8-4237-e94c-30f0742e31de",
        "colab": {
          "base_uri": "https://localhost:8080/",
          "height": 34
        }
      },
      "source": [
        "# Drop rows with NaN\n",
        "Edata = data.dropna()\n",
        "Edata.reset_index(inplace=True)\n",
        "print (\"Size of data after dropping null columns is: \",Edata.shape)"
      ],
      "execution_count": 0,
      "outputs": [
        {
          "output_type": "stream",
          "text": [
            "Size of data after dropping null columns is:  (915, 19)\n"
          ],
          "name": "stdout"
        }
      ]
    },
    {
      "cell_type": "markdown",
      "metadata": {
        "id": "eFCRUCg3F1Yx",
        "colab_type": "text"
      },
      "source": [
        "Extract the ab_interactions column from the data and save it in a new variable called \"text\" "
      ]
    },
    {
      "cell_type": "code",
      "metadata": {
        "id": "RN4V8DtGEmRq",
        "colab_type": "code",
        "outputId": "22e381c8-3ca7-4252-b216-07c040522204",
        "colab": {
          "base_uri": "https://localhost:8080/",
          "height": 225
        }
      },
      "source": [
        "#define text variable that has ab_interactions\n",
        "text = Edata['ab_interactions']\n",
        "print (text)"
      ],
      "execution_count": 0,
      "outputs": [
        {
          "output_type": "stream",
          "text": [
            "0      Leuprolide may decrease the excretion rate of ...\n",
            "1      Gentamicin may decrease the excretion rate of ...\n",
            "2      The risk or severity of QTc prolongation can b...\n",
            "3      Leuprolide may decrease the excretion rate of ...\n",
            "4      Leuprolide may decrease the excretion rate of ...\n",
            "                             ...                        \n",
            "910    The metabolism of Trimethoprim can be increase...\n",
            "911    The risk or severity of QTc prolongation can b...\n",
            "912    The metabolism of Clindamycin can be increased...\n",
            "913    The risk or severity of bleeding can be increa...\n",
            "914    Leuprolide may decrease the excretion rate of ...\n",
            "Name: ab_interactions, Length: 915, dtype: object\n"
          ],
          "name": "stdout"
        }
      ]
    },
    {
      "cell_type": "code",
      "metadata": {
        "id": "RLHWk_mNJnIy",
        "colab_type": "code",
        "outputId": "21bf2adc-cab1-4587-ee65-14fd81d9404a",
        "colab": {
          "base_uri": "https://localhost:8080/",
          "height": 34
        }
      },
      "source": [
        "# Exactly how many documents are there?\n",
        "len(text)"
      ],
      "execution_count": 0,
      "outputs": [
        {
          "output_type": "execute_result",
          "data": {
            "text/plain": [
              "915"
            ]
          },
          "metadata": {
            "tags": []
          },
          "execution_count": 8
        }
      ]
    },
    {
      "cell_type": "markdown",
      "metadata": {
        "id": "fYaNqXpaWX6g",
        "colab_type": "text"
      },
      "source": [
        "\n",
        "\n",
        "select the document at position 100 from the the list\n",
        "\n"
      ]
    },
    {
      "cell_type": "code",
      "metadata": {
        "id": "aHI2CbcMfO-6",
        "colab_type": "code",
        "outputId": "84d49417-bffe-4b8d-bac4-61f601ef9051",
        "colab": {
          "base_uri": "https://localhost:8080/",
          "height": 54
        }
      },
      "source": [
        "doc= text[100]\n",
        "print (doc)"
      ],
      "execution_count": 0,
      "outputs": [
        {
          "output_type": "stream",
          "text": [
            "The serum concentration of Moxifloxacin can be increased when it is combined with Phenoxymethylpenicillin. The therapeutic efficacy of Phenoxymethylpenicillin can be decreased when used in combination with Doxycycline. The therapeutic efficacy of Phenoxymethylpenicillin can be decreased when used in combination with Doxycycline. The therapeutic efficacy of Diethylstilbestrol can be decreased when used in combination with Phenoxymethylpenicillin. The therapeutic efficacy of Phenoxymethylpenicillin can be decreased when used in combination with Lymecycline. Phenoxymethylpenicillin may increase the anticoagulant activities of Dicoumarol. The therapeutic efficacy of Etonogestrel can be decreased when used in combination with Phenoxymethylpenicillin. The therapeutic efficacy of Desogestrel can be decreased when used in combination with Phenoxymethylpenicillin. The serum concentration of Capreomycin can be decreased when it is combined with Phenoxymethylpenicillin. The bioavailability of Atenolol can be decreased when combined with Phenoxymethylpenicillin. The therapeutic efficacy of Megestrol acetate can be decreased when used in combination with Phenoxymethylpenicillin. The serum concentration of Grepafloxacin can be increased when it is combined with Phenoxymethylpenicillin. The therapeutic efficacy of Levonorgestrel can be decreased when used in combination with Phenoxymethylpenicillin. The therapeutic efficacy of Progesterone can be decreased when used in combination with Phenoxymethylpenicillin. The therapeutic efficacy of Metocurine iodide can be increased when used in combination with Phenoxymethylpenicillin. The serum concentration of Medrogestone can be decreased when it is combined with Phenoxymethylpenicillin. The excretion of Methotrexate can be decreased when combined with Phenoxymethylpenicillin. The excretion of Phenoxymethylpenicillin can be decreased when combined with Probenecid. The therapeutic efficacy of Phenoxymethylpenicillin can be decreased when used in combination with Clomocycline. The therapeutic efficacy of Phenoxymethylpenicillin can be decreased when used in combination with Tigecycline. The therapeutic efficacy of Phenoxymethylpenicillin can be decreased when used in combination with Oxytetracycline. The therapeutic efficacy of Phenoxymethylpenicillin can be decreased when used in combination with Oxytetracycline. The therapeutic efficacy of Phenoxymethylpenicillin can be decreased when used in combination with Demeclocycline. The therapeutic efficacy of Phenoxymethylpenicillin can be decreased when used in combination with Tetracycline. The therapeutic efficacy of Phenoxymethylpenicillin can be decreased when used in combination with Metacycline. The therapeutic efficacy of Phenoxymethylpenicillin can be decreased when used in combination with Minocycline. The therapeutic efficacy of Phenoxymethylpenicillin can be decreased when used in combination with Rolitetracycline. The therapeutic efficacy of Phenoxymethylpenicillin can be decreased when used in combination with Sarecycline. The therapeutic efficacy of Phenoxymethylpenicillin can be decreased when used in combination with Eravacycline. The therapeutic efficacy of Phenoxymethylpenicillin can be decreased when used in combination with Omadacycline. The therapeutic efficacy of Phenoxymethylpenicillin can be decreased when used in combination with Meclocycline. The serum concentration of Mycophenolate mofetil can be decreased when it is combined with Phenoxymethylpenicillin. The serum concentration of Mycophenolic acid can be decreased when it is combined with Phenoxymethylpenicillin. The serum concentration of Mycophenolic acid can be decreased when it is combined with Phenoxymethylpenicillin. The therapeutic efficacy of Picosulfuric acid can be decreased when used in combination with Phenoxymethylpenicillin. Phenoxymethylpenicillin may increase the anticoagulant activities of Phenindione. Phenoxymethylpenicillin may increase the anticoagulant activities of Warfarin. Phenoxymethylpenicillin may increase the anticoagulant activities of Phenprocoumon. Phenoxymethylpenicillin may increase the anticoagulant activities of Acenocoumarol. Phenoxymethylpenicillin may increase the anticoagulant activities of Coumarin. Phenoxymethylpenicillin may increase the anticoagulant activities of Fluindione. Phenoxymethylpenicillin may increase the anticoagulant activities of Tioclomarol. The therapeutic efficacy of Medroxyprogesterone acetate can be decreased when used in combination with Phenoxymethylpenicillin. The therapeutic efficacy of Norethisterone can be decreased when used in combination with Phenoxymethylpenicillin. The therapeutic efficacy of Estradiol can be decreased when used in combination with Phenoxymethylpenicillin. The therapeutic efficacy of Ethynodiol diacetate can be decreased when used in combination with Phenoxymethylpenicillin. The therapeutic efficacy of Mifepristone can be decreased when used in combination with Phenoxymethylpenicillin. The therapeutic efficacy of Norgestimate can be decreased when used in combination with Phenoxymethylpenicillin. The therapeutic efficacy of Ethinylestradiol can be decreased when used in combination with Phenoxymethylpenicillin. The therapeutic efficacy of Nifedipine can be decreased when used in combination with Phenoxymethylpenicillin. The therapeutic efficacy of Mestranol can be decreased when used in combination with Phenoxymethylpenicillin. The therapeutic efficacy of Drospirenone can be decreased when used in combination with Phenoxymethylpenicillin. The therapeutic efficacy of Octylphenoxy polyethoxyethanol can be decreased when used in combination with Phenoxymethylpenicillin. The therapeutic efficacy of Cyproterone acetate can be decreased when used in combination with Phenoxymethylpenicillin. The therapeutic efficacy of Norelgestromin can be decreased when used in combination with Phenoxymethylpenicillin. The therapeutic efficacy of Gestodene can be decreased when used in combination with Phenoxymethylpenicillin. The therapeutic efficacy of Hydroxyprogesterone caproate can be decreased when used in combination with Phenoxymethylpenicillin. The therapeutic efficacy of Ulipristal can be decreased when used in combination with Phenoxymethylpenicillin. The therapeutic efficacy of Dienogest can be decreased when used in combination with Phenoxymethylpenicillin. The therapeutic efficacy of Norethynodrel can be decreased when used in combination with Phenoxymethylpenicillin. The therapeutic efficacy of Norgestrel can be decreased when used in combination with Phenoxymethylpenicillin. The therapeutic efficacy of Isosorbide can be decreased when used in combination with Phenoxymethylpenicillin. The therapeutic efficacy of Cloprostenol can be decreased when used in combination with Phenoxymethylpenicillin. The therapeutic efficacy of Gestrinone can be decreased when used in combination with Phenoxymethylpenicillin. The therapeutic efficacy of Nomegestrol can be decreased when used in combination with Phenoxymethylpenicillin. The therapeutic efficacy of Lynestrenol can be decreased when used in combination with Phenoxymethylpenicillin. The therapeutic efficacy of Chlormadinone can be decreased when used in combination with Phenoxymethylpenicillin. The therapeutic efficacy of Norgestrienone can be decreased when used in combination with Phenoxymethylpenicillin. The therapeutic efficacy of Demegestone can be decreased when used in combination with Phenoxymethylpenicillin. The therapeutic efficacy of Etynodiol can be decreased when used in combination with Phenoxymethylpenicillin. The therapeutic efficacy of Testosterone enanthate can be decreased when used in combination with Phenoxymethylpenicillin. The therapeutic efficacy of Estradiol benzoate can be decreased when used in combination with Phenoxymethylpenicillin. The therapeutic efficacy of Estradiol cypionate can be decreased when used in combination with Phenoxymethylpenicillin. The therapeutic efficacy of Estradiol valerate can be decreased when used in combination with Phenoxymethylpenicillin. The therapeutic efficacy of Nomegestrol acetate can be decreased when used in combination with Phenoxymethylpenicillin. The therapeutic efficacy of Norethindrone enanthate can be decreased when used in combination with Phenoxymethylpenicillin. The serum concentration of Framycetin can be decreased when it is combined with Phenoxymethylpenicillin. The serum concentration of Amikacin can be decreased when it is combined with Phenoxymethylpenicillin. The serum concentration of Tobramycin can be decreased when it is combined with Phenoxymethylpenicillin. The serum concentration of Gentamicin can be decreased when it is combined with Phenoxymethylpenicillin. The serum concentration of Netilmicin can be decreased when it is combined with Phenoxymethylpenicillin. The serum concentration of Neomycin can be decreased when it is combined with Phenoxymethylpenicillin. The serum concentration of Streptomycin can be decreased when it is combined with Phenoxymethylpenicillin. The serum concentration of Kanamycin can be decreased when it is combined with Phenoxymethylpenicillin. The serum concentration of Kanamycin can be decreased when it is combined with Phenoxymethylpenicillin. The serum concentration of Paromomycin can be decreased when it is combined with Phenoxymethylpenicillin. The serum concentration of Arbekacin can be decreased when it is combined with Phenoxymethylpenicillin. The serum concentration of Dihydrostreptomycin can be decreased when it is combined with Phenoxymethylpenicillin. The serum concentration of Hygromycin B can be decreased when it is combined with Phenoxymethylpenicillin. The serum concentration of Sisomicin can be decreased when it is combined with Phenoxymethylpenicillin. The serum concentration of Plazomicin can be decreased when it is combined with Phenoxymethylpenicillin. The serum concentration of Dibekacin can be decreased when it is combined with Phenoxymethylpenicillin. The serum concentration of Micronomicin can be decreased when it is combined with Phenoxymethylpenicillin. Acemetacin may decrease the excretion rate of Phenoxymethylpenicillin which could result in a higher serum level. The therapeutic efficacy of Gallamine triethiodide can be increased when used in combination with Phenoxymethylpenicillin. The therapeutic efficacy of Cisatracurium can be increased when used in combination with Phenoxymethylpenicillin. The therapeutic efficacy of Rocuronium can be increased when used in combination with Phenoxymethylpenicillin. The therapeutic efficacy of Atracurium besylate can be increased when used in combination with Phenoxymethylpenicillin. The therapeutic efficacy of Doxacurium can be increased when used in combination with Phenoxymethylpenicillin. The therapeutic efficacy of Tubocurarine can be increased when used in combination with Phenoxymethylpenicillin. The therapeutic efficacy of Mivacurium can be increased when used in combination with Phenoxymethylpenicillin. The therapeutic efficacy of Metocurine can be increased when used in combination with Phenoxymethylpenicillin. The therapeutic efficacy of Pancuronium can be increased when used in combination with Phenoxymethylpenicillin. The therapeutic efficacy of Pipecuronium can be increased when used in combination with Phenoxymethylpenicillin. The therapeutic efficacy of Vecuronium can be increased when used in combination with Phenoxymethylpenicillin. The therapeutic efficacy of Vecuronium can be increased when used in combination with Phenoxymethylpenicillin. The therapeutic efficacy of Rapacuronium can be increased when used in combination with Phenoxymethylpenicillin. The therapeutic efficacy of Atracurium can be increased when used in combination with Phenoxymethylpenicillin. The therapeutic efficacy of Gallamine can be increased when used in combination with Phenoxymethylpenicillin. The therapeutic efficacy of Alcuronium can be increased when used in combination with Phenoxymethylpenicillin. The serum concentration of Enoxacin can be increased when it is combined with Phenoxymethylpenicillin. The serum concentration of Pefloxacin can be increased when it is combined with Phenoxymethylpenicillin. The serum concentration of Ciprofloxacin can be increased when it is combined with Phenoxymethylpenicillin. The serum concentration of Trovafloxacin can be increased when it is combined with Phenoxymethylpenicillin. The serum concentration of Nalidixic acid can be increased when it is combined with Phenoxymethylpenicillin. The serum concentration of Rosoxacin can be increased when it is combined with Phenoxymethylpenicillin. The serum concentration of Cinoxacin can be increased when it is combined with Phenoxymethylpenicillin. The serum concentration of Lomefloxacin can be increased when it is combined with Phenoxymethylpenicillin. The serum concentration of Gatifloxacin can be increased when it is combined with Phenoxymethylpenicillin. The serum concentration of Gatifloxacin can be increased when it is combined with Phenoxymethylpenicillin. The serum concentration of Norfloxacin can be increased when it is combined with Phenoxymethylpenicillin. The serum concentration of Levofloxacin can be increased when it is combined with Phenoxymethylpenicillin. The serum concentration of Levofloxacin can be increased when it is combined with Phenoxymethylpenicillin. The serum concentration of Gemifloxacin can be increased when it is combined with Phenoxymethylpenicillin. The serum concentration of Ofloxacin can be increased when it is combined with Phenoxymethylpenicillin. The serum concentration of Sparfloxacin can be increased when it is combined with Phenoxymethylpenicillin. The serum concentration of Temafloxacin can be increased when it is combined with Phenoxymethylpenicillin. The serum concentration of Fleroxacin can be increased when it is combined with Phenoxymethylpenicillin. The serum concentration of Flumequine can be increased when it is combined with Phenoxymethylpenicillin. The serum concentration of Enrofloxacin can be increased when it is combined with Phenoxymethylpenicillin. The serum concentration of Orbifloxacin can be increased when it is combined with Phenoxymethylpenicillin. The serum concentration of Delafloxacin can be increased when it is combined with Phenoxymethylpenicillin. The serum concentration of Oxolinic acid can be increased when it is combined with Phenoxymethylpenicillin. The serum concentration of Pipemidic acid can be increased when it is combined with Phenoxymethylpenicillin. The therapeutic efficacy of Lactulose can be decreased when used in combination with Phenoxymethylpenicillin.\n"
          ],
          "name": "stdout"
        }
      ]
    },
    {
      "cell_type": "markdown",
      "metadata": {
        "id": "8ormMXqNrUeV",
        "colab_type": "text"
      },
      "source": [
        "Do the following in order:\n",
        "- Split the sentences in the document\n",
        "- how many sentences are there in the document?\n",
        "- print them each on a line\n",
        "\n"
      ]
    },
    {
      "cell_type": "code",
      "metadata": {
        "id": "PP7XoMTeJnI2",
        "colab_type": "code",
        "outputId": "0fd56cb7-0379-4adc-89f2-7f538664ac3d",
        "colab": {
          "base_uri": "https://localhost:8080/",
          "height": 1000
        }
      },
      "source": [
        " import nltk\n",
        "nltk.download('punkt')\n",
        "\n",
        "# split the sentence using nltk.sent_tokenize(doc)\n",
        "sents = nltk.sent_tokenize(doc)\n",
        "print (f'There are {len(sents)} sentences in this document ')\n",
        "for i, s in enumerate(sents):\n",
        "    print (30*\"-\", f\"sentence {i}\", 50*\"-\")\n",
        "    print (s)"
      ],
      "execution_count": 0,
      "outputs": [
        {
          "output_type": "stream",
          "text": [
            "[nltk_data] Downloading package punkt to /root/nltk_data...\n",
            "[nltk_data]   Unzipping tokenizers/punkt.zip.\n",
            "There are 135 sentences in this document \n",
            "------------------------------ sentence 0 --------------------------------------------------\n",
            "The serum concentration of Moxifloxacin can be increased when it is combined with Phenoxymethylpenicillin.\n",
            "------------------------------ sentence 1 --------------------------------------------------\n",
            "The therapeutic efficacy of Phenoxymethylpenicillin can be decreased when used in combination with Doxycycline.\n",
            "------------------------------ sentence 2 --------------------------------------------------\n",
            "The therapeutic efficacy of Phenoxymethylpenicillin can be decreased when used in combination with Doxycycline.\n",
            "------------------------------ sentence 3 --------------------------------------------------\n",
            "The therapeutic efficacy of Diethylstilbestrol can be decreased when used in combination with Phenoxymethylpenicillin.\n",
            "------------------------------ sentence 4 --------------------------------------------------\n",
            "The therapeutic efficacy of Phenoxymethylpenicillin can be decreased when used in combination with Lymecycline.\n",
            "------------------------------ sentence 5 --------------------------------------------------\n",
            "Phenoxymethylpenicillin may increase the anticoagulant activities of Dicoumarol.\n",
            "------------------------------ sentence 6 --------------------------------------------------\n",
            "The therapeutic efficacy of Etonogestrel can be decreased when used in combination with Phenoxymethylpenicillin.\n",
            "------------------------------ sentence 7 --------------------------------------------------\n",
            "The therapeutic efficacy of Desogestrel can be decreased when used in combination with Phenoxymethylpenicillin.\n",
            "------------------------------ sentence 8 --------------------------------------------------\n",
            "The serum concentration of Capreomycin can be decreased when it is combined with Phenoxymethylpenicillin.\n",
            "------------------------------ sentence 9 --------------------------------------------------\n",
            "The bioavailability of Atenolol can be decreased when combined with Phenoxymethylpenicillin.\n",
            "------------------------------ sentence 10 --------------------------------------------------\n",
            "The therapeutic efficacy of Megestrol acetate can be decreased when used in combination with Phenoxymethylpenicillin.\n",
            "------------------------------ sentence 11 --------------------------------------------------\n",
            "The serum concentration of Grepafloxacin can be increased when it is combined with Phenoxymethylpenicillin.\n",
            "------------------------------ sentence 12 --------------------------------------------------\n",
            "The therapeutic efficacy of Levonorgestrel can be decreased when used in combination with Phenoxymethylpenicillin.\n",
            "------------------------------ sentence 13 --------------------------------------------------\n",
            "The therapeutic efficacy of Progesterone can be decreased when used in combination with Phenoxymethylpenicillin.\n",
            "------------------------------ sentence 14 --------------------------------------------------\n",
            "The therapeutic efficacy of Metocurine iodide can be increased when used in combination with Phenoxymethylpenicillin.\n",
            "------------------------------ sentence 15 --------------------------------------------------\n",
            "The serum concentration of Medrogestone can be decreased when it is combined with Phenoxymethylpenicillin.\n",
            "------------------------------ sentence 16 --------------------------------------------------\n",
            "The excretion of Methotrexate can be decreased when combined with Phenoxymethylpenicillin.\n",
            "------------------------------ sentence 17 --------------------------------------------------\n",
            "The excretion of Phenoxymethylpenicillin can be decreased when combined with Probenecid.\n",
            "------------------------------ sentence 18 --------------------------------------------------\n",
            "The therapeutic efficacy of Phenoxymethylpenicillin can be decreased when used in combination with Clomocycline.\n",
            "------------------------------ sentence 19 --------------------------------------------------\n",
            "The therapeutic efficacy of Phenoxymethylpenicillin can be decreased when used in combination with Tigecycline.\n",
            "------------------------------ sentence 20 --------------------------------------------------\n",
            "The therapeutic efficacy of Phenoxymethylpenicillin can be decreased when used in combination with Oxytetracycline.\n",
            "------------------------------ sentence 21 --------------------------------------------------\n",
            "The therapeutic efficacy of Phenoxymethylpenicillin can be decreased when used in combination with Oxytetracycline.\n",
            "------------------------------ sentence 22 --------------------------------------------------\n",
            "The therapeutic efficacy of Phenoxymethylpenicillin can be decreased when used in combination with Demeclocycline.\n",
            "------------------------------ sentence 23 --------------------------------------------------\n",
            "The therapeutic efficacy of Phenoxymethylpenicillin can be decreased when used in combination with Tetracycline.\n",
            "------------------------------ sentence 24 --------------------------------------------------\n",
            "The therapeutic efficacy of Phenoxymethylpenicillin can be decreased when used in combination with Metacycline.\n",
            "------------------------------ sentence 25 --------------------------------------------------\n",
            "The therapeutic efficacy of Phenoxymethylpenicillin can be decreased when used in combination with Minocycline.\n",
            "------------------------------ sentence 26 --------------------------------------------------\n",
            "The therapeutic efficacy of Phenoxymethylpenicillin can be decreased when used in combination with Rolitetracycline.\n",
            "------------------------------ sentence 27 --------------------------------------------------\n",
            "The therapeutic efficacy of Phenoxymethylpenicillin can be decreased when used in combination with Sarecycline.\n",
            "------------------------------ sentence 28 --------------------------------------------------\n",
            "The therapeutic efficacy of Phenoxymethylpenicillin can be decreased when used in combination with Eravacycline.\n",
            "------------------------------ sentence 29 --------------------------------------------------\n",
            "The therapeutic efficacy of Phenoxymethylpenicillin can be decreased when used in combination with Omadacycline.\n",
            "------------------------------ sentence 30 --------------------------------------------------\n",
            "The therapeutic efficacy of Phenoxymethylpenicillin can be decreased when used in combination with Meclocycline.\n",
            "------------------------------ sentence 31 --------------------------------------------------\n",
            "The serum concentration of Mycophenolate mofetil can be decreased when it is combined with Phenoxymethylpenicillin.\n",
            "------------------------------ sentence 32 --------------------------------------------------\n",
            "The serum concentration of Mycophenolic acid can be decreased when it is combined with Phenoxymethylpenicillin.\n",
            "------------------------------ sentence 33 --------------------------------------------------\n",
            "The serum concentration of Mycophenolic acid can be decreased when it is combined with Phenoxymethylpenicillin.\n",
            "------------------------------ sentence 34 --------------------------------------------------\n",
            "The therapeutic efficacy of Picosulfuric acid can be decreased when used in combination with Phenoxymethylpenicillin.\n",
            "------------------------------ sentence 35 --------------------------------------------------\n",
            "Phenoxymethylpenicillin may increase the anticoagulant activities of Phenindione.\n",
            "------------------------------ sentence 36 --------------------------------------------------\n",
            "Phenoxymethylpenicillin may increase the anticoagulant activities of Warfarin.\n",
            "------------------------------ sentence 37 --------------------------------------------------\n",
            "Phenoxymethylpenicillin may increase the anticoagulant activities of Phenprocoumon.\n",
            "------------------------------ sentence 38 --------------------------------------------------\n",
            "Phenoxymethylpenicillin may increase the anticoagulant activities of Acenocoumarol.\n",
            "------------------------------ sentence 39 --------------------------------------------------\n",
            "Phenoxymethylpenicillin may increase the anticoagulant activities of Coumarin.\n",
            "------------------------------ sentence 40 --------------------------------------------------\n",
            "Phenoxymethylpenicillin may increase the anticoagulant activities of Fluindione.\n",
            "------------------------------ sentence 41 --------------------------------------------------\n",
            "Phenoxymethylpenicillin may increase the anticoagulant activities of Tioclomarol.\n",
            "------------------------------ sentence 42 --------------------------------------------------\n",
            "The therapeutic efficacy of Medroxyprogesterone acetate can be decreased when used in combination with Phenoxymethylpenicillin.\n",
            "------------------------------ sentence 43 --------------------------------------------------\n",
            "The therapeutic efficacy of Norethisterone can be decreased when used in combination with Phenoxymethylpenicillin.\n",
            "------------------------------ sentence 44 --------------------------------------------------\n",
            "The therapeutic efficacy of Estradiol can be decreased when used in combination with Phenoxymethylpenicillin.\n",
            "------------------------------ sentence 45 --------------------------------------------------\n",
            "The therapeutic efficacy of Ethynodiol diacetate can be decreased when used in combination with Phenoxymethylpenicillin.\n",
            "------------------------------ sentence 46 --------------------------------------------------\n",
            "The therapeutic efficacy of Mifepristone can be decreased when used in combination with Phenoxymethylpenicillin.\n",
            "------------------------------ sentence 47 --------------------------------------------------\n",
            "The therapeutic efficacy of Norgestimate can be decreased when used in combination with Phenoxymethylpenicillin.\n",
            "------------------------------ sentence 48 --------------------------------------------------\n",
            "The therapeutic efficacy of Ethinylestradiol can be decreased when used in combination with Phenoxymethylpenicillin.\n",
            "------------------------------ sentence 49 --------------------------------------------------\n",
            "The therapeutic efficacy of Nifedipine can be decreased when used in combination with Phenoxymethylpenicillin.\n",
            "------------------------------ sentence 50 --------------------------------------------------\n",
            "The therapeutic efficacy of Mestranol can be decreased when used in combination with Phenoxymethylpenicillin.\n",
            "------------------------------ sentence 51 --------------------------------------------------\n",
            "The therapeutic efficacy of Drospirenone can be decreased when used in combination with Phenoxymethylpenicillin.\n",
            "------------------------------ sentence 52 --------------------------------------------------\n",
            "The therapeutic efficacy of Octylphenoxy polyethoxyethanol can be decreased when used in combination with Phenoxymethylpenicillin.\n",
            "------------------------------ sentence 53 --------------------------------------------------\n",
            "The therapeutic efficacy of Cyproterone acetate can be decreased when used in combination with Phenoxymethylpenicillin.\n",
            "------------------------------ sentence 54 --------------------------------------------------\n",
            "The therapeutic efficacy of Norelgestromin can be decreased when used in combination with Phenoxymethylpenicillin.\n",
            "------------------------------ sentence 55 --------------------------------------------------\n",
            "The therapeutic efficacy of Gestodene can be decreased when used in combination with Phenoxymethylpenicillin.\n",
            "------------------------------ sentence 56 --------------------------------------------------\n",
            "The therapeutic efficacy of Hydroxyprogesterone caproate can be decreased when used in combination with Phenoxymethylpenicillin.\n",
            "------------------------------ sentence 57 --------------------------------------------------\n",
            "The therapeutic efficacy of Ulipristal can be decreased when used in combination with Phenoxymethylpenicillin.\n",
            "------------------------------ sentence 58 --------------------------------------------------\n",
            "The therapeutic efficacy of Dienogest can be decreased when used in combination with Phenoxymethylpenicillin.\n",
            "------------------------------ sentence 59 --------------------------------------------------\n",
            "The therapeutic efficacy of Norethynodrel can be decreased when used in combination with Phenoxymethylpenicillin.\n",
            "------------------------------ sentence 60 --------------------------------------------------\n",
            "The therapeutic efficacy of Norgestrel can be decreased when used in combination with Phenoxymethylpenicillin.\n",
            "------------------------------ sentence 61 --------------------------------------------------\n",
            "The therapeutic efficacy of Isosorbide can be decreased when used in combination with Phenoxymethylpenicillin.\n",
            "------------------------------ sentence 62 --------------------------------------------------\n",
            "The therapeutic efficacy of Cloprostenol can be decreased when used in combination with Phenoxymethylpenicillin.\n",
            "------------------------------ sentence 63 --------------------------------------------------\n",
            "The therapeutic efficacy of Gestrinone can be decreased when used in combination with Phenoxymethylpenicillin.\n",
            "------------------------------ sentence 64 --------------------------------------------------\n",
            "The therapeutic efficacy of Nomegestrol can be decreased when used in combination with Phenoxymethylpenicillin.\n",
            "------------------------------ sentence 65 --------------------------------------------------\n",
            "The therapeutic efficacy of Lynestrenol can be decreased when used in combination with Phenoxymethylpenicillin.\n",
            "------------------------------ sentence 66 --------------------------------------------------\n",
            "The therapeutic efficacy of Chlormadinone can be decreased when used in combination with Phenoxymethylpenicillin.\n",
            "------------------------------ sentence 67 --------------------------------------------------\n",
            "The therapeutic efficacy of Norgestrienone can be decreased when used in combination with Phenoxymethylpenicillin.\n",
            "------------------------------ sentence 68 --------------------------------------------------\n",
            "The therapeutic efficacy of Demegestone can be decreased when used in combination with Phenoxymethylpenicillin.\n",
            "------------------------------ sentence 69 --------------------------------------------------\n",
            "The therapeutic efficacy of Etynodiol can be decreased when used in combination with Phenoxymethylpenicillin.\n",
            "------------------------------ sentence 70 --------------------------------------------------\n",
            "The therapeutic efficacy of Testosterone enanthate can be decreased when used in combination with Phenoxymethylpenicillin.\n",
            "------------------------------ sentence 71 --------------------------------------------------\n",
            "The therapeutic efficacy of Estradiol benzoate can be decreased when used in combination with Phenoxymethylpenicillin.\n",
            "------------------------------ sentence 72 --------------------------------------------------\n",
            "The therapeutic efficacy of Estradiol cypionate can be decreased when used in combination with Phenoxymethylpenicillin.\n",
            "------------------------------ sentence 73 --------------------------------------------------\n",
            "The therapeutic efficacy of Estradiol valerate can be decreased when used in combination with Phenoxymethylpenicillin.\n",
            "------------------------------ sentence 74 --------------------------------------------------\n",
            "The therapeutic efficacy of Nomegestrol acetate can be decreased when used in combination with Phenoxymethylpenicillin.\n",
            "------------------------------ sentence 75 --------------------------------------------------\n",
            "The therapeutic efficacy of Norethindrone enanthate can be decreased when used in combination with Phenoxymethylpenicillin.\n",
            "------------------------------ sentence 76 --------------------------------------------------\n",
            "The serum concentration of Framycetin can be decreased when it is combined with Phenoxymethylpenicillin.\n",
            "------------------------------ sentence 77 --------------------------------------------------\n",
            "The serum concentration of Amikacin can be decreased when it is combined with Phenoxymethylpenicillin.\n",
            "------------------------------ sentence 78 --------------------------------------------------\n",
            "The serum concentration of Tobramycin can be decreased when it is combined with Phenoxymethylpenicillin.\n",
            "------------------------------ sentence 79 --------------------------------------------------\n",
            "The serum concentration of Gentamicin can be decreased when it is combined with Phenoxymethylpenicillin.\n",
            "------------------------------ sentence 80 --------------------------------------------------\n",
            "The serum concentration of Netilmicin can be decreased when it is combined with Phenoxymethylpenicillin.\n",
            "------------------------------ sentence 81 --------------------------------------------------\n",
            "The serum concentration of Neomycin can be decreased when it is combined with Phenoxymethylpenicillin.\n",
            "------------------------------ sentence 82 --------------------------------------------------\n",
            "The serum concentration of Streptomycin can be decreased when it is combined with Phenoxymethylpenicillin.\n",
            "------------------------------ sentence 83 --------------------------------------------------\n",
            "The serum concentration of Kanamycin can be decreased when it is combined with Phenoxymethylpenicillin.\n",
            "------------------------------ sentence 84 --------------------------------------------------\n",
            "The serum concentration of Kanamycin can be decreased when it is combined with Phenoxymethylpenicillin.\n",
            "------------------------------ sentence 85 --------------------------------------------------\n",
            "The serum concentration of Paromomycin can be decreased when it is combined with Phenoxymethylpenicillin.\n",
            "------------------------------ sentence 86 --------------------------------------------------\n",
            "The serum concentration of Arbekacin can be decreased when it is combined with Phenoxymethylpenicillin.\n",
            "------------------------------ sentence 87 --------------------------------------------------\n",
            "The serum concentration of Dihydrostreptomycin can be decreased when it is combined with Phenoxymethylpenicillin.\n",
            "------------------------------ sentence 88 --------------------------------------------------\n",
            "The serum concentration of Hygromycin B can be decreased when it is combined with Phenoxymethylpenicillin.\n",
            "------------------------------ sentence 89 --------------------------------------------------\n",
            "The serum concentration of Sisomicin can be decreased when it is combined with Phenoxymethylpenicillin.\n",
            "------------------------------ sentence 90 --------------------------------------------------\n",
            "The serum concentration of Plazomicin can be decreased when it is combined with Phenoxymethylpenicillin.\n",
            "------------------------------ sentence 91 --------------------------------------------------\n",
            "The serum concentration of Dibekacin can be decreased when it is combined with Phenoxymethylpenicillin.\n",
            "------------------------------ sentence 92 --------------------------------------------------\n",
            "The serum concentration of Micronomicin can be decreased when it is combined with Phenoxymethylpenicillin.\n",
            "------------------------------ sentence 93 --------------------------------------------------\n",
            "Acemetacin may decrease the excretion rate of Phenoxymethylpenicillin which could result in a higher serum level.\n",
            "------------------------------ sentence 94 --------------------------------------------------\n",
            "The therapeutic efficacy of Gallamine triethiodide can be increased when used in combination with Phenoxymethylpenicillin.\n",
            "------------------------------ sentence 95 --------------------------------------------------\n",
            "The therapeutic efficacy of Cisatracurium can be increased when used in combination with Phenoxymethylpenicillin.\n",
            "------------------------------ sentence 96 --------------------------------------------------\n",
            "The therapeutic efficacy of Rocuronium can be increased when used in combination with Phenoxymethylpenicillin.\n",
            "------------------------------ sentence 97 --------------------------------------------------\n",
            "The therapeutic efficacy of Atracurium besylate can be increased when used in combination with Phenoxymethylpenicillin.\n",
            "------------------------------ sentence 98 --------------------------------------------------\n",
            "The therapeutic efficacy of Doxacurium can be increased when used in combination with Phenoxymethylpenicillin.\n",
            "------------------------------ sentence 99 --------------------------------------------------\n",
            "The therapeutic efficacy of Tubocurarine can be increased when used in combination with Phenoxymethylpenicillin.\n",
            "------------------------------ sentence 100 --------------------------------------------------\n",
            "The therapeutic efficacy of Mivacurium can be increased when used in combination with Phenoxymethylpenicillin.\n",
            "------------------------------ sentence 101 --------------------------------------------------\n",
            "The therapeutic efficacy of Metocurine can be increased when used in combination with Phenoxymethylpenicillin.\n",
            "------------------------------ sentence 102 --------------------------------------------------\n",
            "The therapeutic efficacy of Pancuronium can be increased when used in combination with Phenoxymethylpenicillin.\n",
            "------------------------------ sentence 103 --------------------------------------------------\n",
            "The therapeutic efficacy of Pipecuronium can be increased when used in combination with Phenoxymethylpenicillin.\n",
            "------------------------------ sentence 104 --------------------------------------------------\n",
            "The therapeutic efficacy of Vecuronium can be increased when used in combination with Phenoxymethylpenicillin.\n",
            "------------------------------ sentence 105 --------------------------------------------------\n",
            "The therapeutic efficacy of Vecuronium can be increased when used in combination with Phenoxymethylpenicillin.\n",
            "------------------------------ sentence 106 --------------------------------------------------\n",
            "The therapeutic efficacy of Rapacuronium can be increased when used in combination with Phenoxymethylpenicillin.\n",
            "------------------------------ sentence 107 --------------------------------------------------\n",
            "The therapeutic efficacy of Atracurium can be increased when used in combination with Phenoxymethylpenicillin.\n",
            "------------------------------ sentence 108 --------------------------------------------------\n",
            "The therapeutic efficacy of Gallamine can be increased when used in combination with Phenoxymethylpenicillin.\n",
            "------------------------------ sentence 109 --------------------------------------------------\n",
            "The therapeutic efficacy of Alcuronium can be increased when used in combination with Phenoxymethylpenicillin.\n",
            "------------------------------ sentence 110 --------------------------------------------------\n",
            "The serum concentration of Enoxacin can be increased when it is combined with Phenoxymethylpenicillin.\n",
            "------------------------------ sentence 111 --------------------------------------------------\n",
            "The serum concentration of Pefloxacin can be increased when it is combined with Phenoxymethylpenicillin.\n",
            "------------------------------ sentence 112 --------------------------------------------------\n",
            "The serum concentration of Ciprofloxacin can be increased when it is combined with Phenoxymethylpenicillin.\n",
            "------------------------------ sentence 113 --------------------------------------------------\n",
            "The serum concentration of Trovafloxacin can be increased when it is combined with Phenoxymethylpenicillin.\n",
            "------------------------------ sentence 114 --------------------------------------------------\n",
            "The serum concentration of Nalidixic acid can be increased when it is combined with Phenoxymethylpenicillin.\n",
            "------------------------------ sentence 115 --------------------------------------------------\n",
            "The serum concentration of Rosoxacin can be increased when it is combined with Phenoxymethylpenicillin.\n",
            "------------------------------ sentence 116 --------------------------------------------------\n",
            "The serum concentration of Cinoxacin can be increased when it is combined with Phenoxymethylpenicillin.\n",
            "------------------------------ sentence 117 --------------------------------------------------\n",
            "The serum concentration of Lomefloxacin can be increased when it is combined with Phenoxymethylpenicillin.\n",
            "------------------------------ sentence 118 --------------------------------------------------\n",
            "The serum concentration of Gatifloxacin can be increased when it is combined with Phenoxymethylpenicillin.\n",
            "------------------------------ sentence 119 --------------------------------------------------\n",
            "The serum concentration of Gatifloxacin can be increased when it is combined with Phenoxymethylpenicillin.\n",
            "------------------------------ sentence 120 --------------------------------------------------\n",
            "The serum concentration of Norfloxacin can be increased when it is combined with Phenoxymethylpenicillin.\n",
            "------------------------------ sentence 121 --------------------------------------------------\n",
            "The serum concentration of Levofloxacin can be increased when it is combined with Phenoxymethylpenicillin.\n",
            "------------------------------ sentence 122 --------------------------------------------------\n",
            "The serum concentration of Levofloxacin can be increased when it is combined with Phenoxymethylpenicillin.\n",
            "------------------------------ sentence 123 --------------------------------------------------\n",
            "The serum concentration of Gemifloxacin can be increased when it is combined with Phenoxymethylpenicillin.\n",
            "------------------------------ sentence 124 --------------------------------------------------\n",
            "The serum concentration of Ofloxacin can be increased when it is combined with Phenoxymethylpenicillin.\n",
            "------------------------------ sentence 125 --------------------------------------------------\n",
            "The serum concentration of Sparfloxacin can be increased when it is combined with Phenoxymethylpenicillin.\n",
            "------------------------------ sentence 126 --------------------------------------------------\n",
            "The serum concentration of Temafloxacin can be increased when it is combined with Phenoxymethylpenicillin.\n",
            "------------------------------ sentence 127 --------------------------------------------------\n",
            "The serum concentration of Fleroxacin can be increased when it is combined with Phenoxymethylpenicillin.\n",
            "------------------------------ sentence 128 --------------------------------------------------\n",
            "The serum concentration of Flumequine can be increased when it is combined with Phenoxymethylpenicillin.\n",
            "------------------------------ sentence 129 --------------------------------------------------\n",
            "The serum concentration of Enrofloxacin can be increased when it is combined with Phenoxymethylpenicillin.\n",
            "------------------------------ sentence 130 --------------------------------------------------\n",
            "The serum concentration of Orbifloxacin can be increased when it is combined with Phenoxymethylpenicillin.\n",
            "------------------------------ sentence 131 --------------------------------------------------\n",
            "The serum concentration of Delafloxacin can be increased when it is combined with Phenoxymethylpenicillin.\n",
            "------------------------------ sentence 132 --------------------------------------------------\n",
            "The serum concentration of Oxolinic acid can be increased when it is combined with Phenoxymethylpenicillin.\n",
            "------------------------------ sentence 133 --------------------------------------------------\n",
            "The serum concentration of Pipemidic acid can be increased when it is combined with Phenoxymethylpenicillin.\n",
            "------------------------------ sentence 134 --------------------------------------------------\n",
            "The therapeutic efficacy of Lactulose can be decreased when used in combination with Phenoxymethylpenicillin.\n"
          ],
          "name": "stdout"
        }
      ]
    },
    {
      "cell_type": "code",
      "metadata": {
        "id": "tC9Y6aukJnI5",
        "colab_type": "code",
        "outputId": "32698369-22b0-44a3-94a1-63a63b3c43f8",
        "colab": {
          "base_uri": "https://localhost:8080/",
          "height": 54
        }
      },
      "source": [
        "# select the 10th sentence for subsequent analysis\n",
        "sent = sents[10]\n",
        "print (sent)"
      ],
      "execution_count": 0,
      "outputs": [
        {
          "output_type": "stream",
          "text": [
            "The therapeutic efficacy of Megestrol acetate can be decreased when used in combination with Phenoxymethylpenicillin.\n"
          ],
          "name": "stdout"
        }
      ]
    },
    {
      "cell_type": "markdown",
      "metadata": {
        "id": "02Nx85zdSSuC",
        "colab_type": "text"
      },
      "source": [
        "tokenize the sentence using nltk.word_tokenize(sent) and save it in the \"tokens\""
      ]
    },
    {
      "cell_type": "code",
      "metadata": {
        "id": "GwUh4yrUJnI-",
        "colab_type": "code",
        "outputId": "ff51699b-bc33-4b99-8f40-e2d3dd09cede",
        "colab": {
          "base_uri": "https://localhost:8080/",
          "height": 295
        }
      },
      "source": [
        "#tokenization\n",
        "tokens = nltk.word_tokenize(sent)\n",
        "tokens"
      ],
      "execution_count": 0,
      "outputs": [
        {
          "output_type": "execute_result",
          "data": {
            "text/plain": [
              "['The',\n",
              " 'therapeutic',\n",
              " 'efficacy',\n",
              " 'of',\n",
              " 'Megestrol',\n",
              " 'acetate',\n",
              " 'can',\n",
              " 'be',\n",
              " 'decreased',\n",
              " 'when',\n",
              " 'used',\n",
              " 'in',\n",
              " 'combination',\n",
              " 'with',\n",
              " 'Phenoxymethylpenicillin',\n",
              " '.']"
            ]
          },
          "metadata": {
            "tags": []
          },
          "execution_count": 12
        }
      ]
    },
    {
      "cell_type": "markdown",
      "metadata": {
        "id": "i6F4DXSIszMe",
        "colab_type": "text"
      },
      "source": [
        "Apply the \"lower()\" function on each token in the sentence "
      ]
    },
    {
      "cell_type": "code",
      "metadata": {
        "nbpresent": {
          "id": "6fb55d7f-7914-481b-a29d-e3bd13d5bd05"
        },
        "id": "svUmJ2pMJnJE",
        "colab_type": "code",
        "colab": {}
      },
      "source": [
        "# Normalize the tokens and store them in the \"normalized_tokens\" variable. Then print the tokens\n",
        "\n",
        "normalized_tokens = []\n",
        "for t in tokens:\n",
        "  normalized_tokens.append(t.lower())"
      ],
      "execution_count": 0,
      "outputs": []
    },
    {
      "cell_type": "markdown",
      "metadata": {
        "id": "ZCS00V7RuPac",
        "colab_type": "text"
      },
      "source": [
        "stem the tokens using nltk.PorterStemmer().stem(token)\n",
        "how many tokens have changed?"
      ]
    },
    {
      "cell_type": "code",
      "metadata": {
        "nbpresent": {
          "id": "4250095f-31e1-42eb-aa38-ae055ab6b97b"
        },
        "id": "w6djj8AqJnJK",
        "colab_type": "code",
        "outputId": "26426816-dae5-40de-c938-25e120024307",
        "colab": {
          "base_uri": "https://localhost:8080/",
          "height": 72
        }
      },
      "source": [
        "# stem the tokens\n",
        "print (normalized_tokens)\n",
        "\n",
        "normalized_tokens_stemmed = []\n",
        "for t in normalized_tokens:\n",
        "  normalized_tokens_stemmed.append(nltk.PorterStemmer().stem(t))\n",
        "print (normalized_tokens_stemmed)"
      ],
      "execution_count": 0,
      "outputs": [
        {
          "output_type": "stream",
          "text": [
            "['the', 'therapeutic', 'efficacy', 'of', 'megestrol', 'acetate', 'can', 'be', 'decreased', 'when', 'used', 'in', 'combination', 'with', 'phenoxymethylpenicillin', '.']\n",
            "['the', 'therapeut', 'efficaci', 'of', 'megestrol', 'acet', 'can', 'be', 'decreas', 'when', 'use', 'in', 'combin', 'with', 'phenoxymethylpenicillin', '.']\n"
          ],
          "name": "stdout"
        }
      ]
    },
    {
      "cell_type": "markdown",
      "metadata": {
        "id": "VsfZjKG4TkxS",
        "colab_type": "text"
      },
      "source": [
        "Lemmatize the normalized tokens. You need to:\n",
        "- download the dictionary 'wordnet' file from NLTK\n",
        "- import the WordNetLemmatizer()\n",
        "- check if any words changed after lemmatization"
      ]
    },
    {
      "cell_type": "code",
      "metadata": {
        "id": "hN2xS5YlTpKh",
        "colab_type": "code",
        "outputId": "f1f2a9bb-a960-472e-853c-4c777b155eb3",
        "colab": {
          "base_uri": "https://localhost:8080/",
          "height": 159
        }
      },
      "source": [
        "nltk.download('wordnet')\n",
        "from nltk.stem import WordNetLemmatizer \n",
        "lemmatizer = WordNetLemmatizer() \n",
        "\n",
        "print ('normaized tokens BEFORE lemmatization ')\n",
        "print (normalized_tokens)\n",
        "print ('\\nnormaized tokens AFTER lemmatization')\n",
        "normalized_tokens_lemmatized = []\n",
        "for t in normalized_tokens:\n",
        "  normalized_tokens_lemmatized.append(WordNetLemmatizer().lemmatize(t,pos='v'))\n",
        "print (normalized_tokens_lemmatized)\n"
      ],
      "execution_count": 0,
      "outputs": [
        {
          "output_type": "stream",
          "text": [
            "[nltk_data] Downloading package wordnet to /root/nltk_data...\n",
            "[nltk_data]   Unzipping corpora/wordnet.zip.\n",
            "normaized tokens BEFORE lemmatization \n",
            "['the', 'therapeutic', 'efficacy', 'of', 'megestrol', 'acetate', 'can', 'be', 'decreased', 'when', 'used', 'in', 'combination', 'with', 'phenoxymethylpenicillin', '.']\n",
            "\n",
            "normaized tokens AFTER lemmatization\n",
            "['the', 'therapeutic', 'efficacy', 'of', 'megestrol', 'acetate', 'can', 'be', 'decrease', 'when', 'use', 'in', 'combination', 'with', 'phenoxymethylpenicillin', '.']\n"
          ],
          "name": "stdout"
        }
      ]
    },
    {
      "cell_type": "markdown",
      "metadata": {
        "id": "e_M9ScOzi2nH",
        "colab_type": "text"
      },
      "source": [
        "Generate the words distribution of all the words in the documents. All documents are stored in the \"text\" dataframe."
      ]
    },
    {
      "cell_type": "code",
      "metadata": {
        "id": "InHK5AW5JnJR",
        "colab_type": "code",
        "outputId": "e993bedc-85f9-43f3-89ff-8318a5532eaf",
        "colab": {
          "base_uri": "https://localhost:8080/",
          "height": 34
        }
      },
      "source": [
        "# First, tokenize all documents. this should result in a list of all documents \n",
        "# where each document is tokenized and store it in \"tokens_of_Documents\"\n",
        "tokens_of_Documents = []\n",
        "for doc in text:\n",
        "  tokens_of_Documents.append(nltk.word_tokenize(doc))\n",
        "\n",
        "\n",
        "# Next, combine all the tokens in all documents into a list of tokens\n",
        "#and store in the variable \"tokens_all\"\n",
        "tokens_all = []\n",
        "for tokens in tokens_of_Documents:\n",
        "  tokens_all += tokens\n",
        "print (len(tokens_all))"
      ],
      "execution_count": 0,
      "outputs": [
        {
          "output_type": "stream",
          "text": [
            "19668419\n"
          ],
          "name": "stdout"
        }
      ]
    },
    {
      "cell_type": "markdown",
      "metadata": {
        "id": "Ba-AZ_apnXZ7",
        "colab_type": "text"
      },
      "source": [
        "Lowercase all tokens in the list for normalization. How many tokens in total are there?"
      ]
    },
    {
      "cell_type": "code",
      "metadata": {
        "id": "ODdDEmPUJnJV",
        "colab_type": "code",
        "outputId": "76f6f1b9-5337-449e-9e54-7401b53df76d",
        "colab": {
          "base_uri": "https://localhost:8080/",
          "height": 34
        }
      },
      "source": [
        "# apply lowercase to each token and store results in final_tokens\n",
        "tokens_all_lowercase = []\n",
        "for t in tokens_all:\n",
        "  tokens_all_lowercase.append(t.lower())\n",
        "final_tokens = nltk.Text(tokens_all_lowercase)\n",
        "print(f\"The text comprises {len(final_tokens)} normalized tokens.\")"
      ],
      "execution_count": 0,
      "outputs": [
        {
          "output_type": "stream",
          "text": [
            "The text comprises 19668419 normalized tokens.\n"
          ],
          "name": "stdout"
        }
      ]
    },
    {
      "cell_type": "markdown",
      "metadata": {
        "id": "ny8FwZ65rxPO",
        "colab_type": "text"
      },
      "source": [
        "Compute the frequency distribution  of words"
      ]
    },
    {
      "cell_type": "code",
      "metadata": {
        "id": "UQcL-Hd7JnJd",
        "colab_type": "code",
        "colab": {}
      },
      "source": [
        "# import the FreqDist\n",
        "from nltk import FreqDist\n",
        "fdist = FreqDist(final_tokens)"
      ],
      "execution_count": 0,
      "outputs": []
    },
    {
      "cell_type": "markdown",
      "metadata": {
        "id": "oQejTSjsaHwM",
        "colab_type": "text"
      },
      "source": [
        "print the 10 most frequent words ..."
      ]
    },
    {
      "cell_type": "code",
      "metadata": {
        "id": "fLGIoDFXJnJi",
        "colab_type": "code",
        "outputId": "6d79ffb6-ab55-49c0-a6a3-12411932511e",
        "colab": {
          "base_uri": "https://localhost:8080/",
          "height": 191
        }
      },
      "source": [
        "fdist.most_common(10)"
      ],
      "execution_count": 0,
      "outputs": [
        {
          "output_type": "execute_result",
          "data": {
            "text/plain": [
              "[('of', 1183859),\n",
              " ('the', 1183793),\n",
              " ('.', 1182580),\n",
              " ('serum', 867861),\n",
              " ('in', 857224),\n",
              " ('a', 800246),\n",
              " ('excretion', 746545),\n",
              " ('may', 736704),\n",
              " ('rate', 720140),\n",
              " ('which', 720140)]"
            ]
          },
          "metadata": {
            "tags": []
          },
          "execution_count": 19
        }
      ]
    },
    {
      "cell_type": "code",
      "metadata": {
        "id": "iDBLQI38JnJl",
        "colab_type": "code",
        "outputId": "1b575ac3-b5d2-4141-d74e-e25200fa9ebb",
        "colab": {
          "base_uri": "https://localhost:8080/",
          "height": 511
        }
      },
      "source": [
        "# plot the frequency distribution of the top 20 tokens\n",
        "import plotnine as p9\n",
        "# Frequency plot of tokens (the x-axis is the words and the y-axis is the frequency). \n",
        "#We show the top 30 words only\n",
        "K = 20\n",
        "#dataframe of K most common words (K=30)\n",
        "thirty_most_frequent_words = pd.DataFrame(fdist.most_common(K),columns=['word','frequency'])\n",
        "#add index to dataframe\n",
        "thirty_most_frequent_words['idx'] = list(thirty_most_frequent_words.index)\n",
        "#plot via ggplot\n",
        "p9.ggplot(thirty_most_frequent_words) + p9.geom_line(p9.aes(x=\"idx\",y=\"frequency\",group=1),color='blue') + p9.scale_x_continuous(breaks=thirty_most_frequent_words['idx'],labels=thirty_most_frequent_words['word']) + p9.theme(axis_text_x=p9.element_text(angle=90))"
      ],
      "execution_count": 0,
      "outputs": [
        {
          "output_type": "display_data",
          "data": {
            "image/png": "[encoded data removed]",
            "text/plain": [
              "<Figure size 640x480 with 1 Axes>"
            ]
          },
          "metadata": {
            "tags": []
          }
        },
        {
          "output_type": "execute_result",
          "data": {
            "text/plain": [
              "<ggplot: (8773224787541)>"
            ]
          },
          "metadata": {
            "tags": []
          },
          "execution_count": 20
        }
      ]
    },
    {
      "cell_type": "markdown",
      "metadata": {
        "id": "eargr4OUvq3H",
        "colab_type": "text"
      },
      "source": [
        "Remove the stop words. what si the size of the vocabulary befroe and after removing the stop words."
      ]
    },
    {
      "cell_type": "code",
      "metadata": {
        "id": "51o4Fu3qwRf-",
        "colab_type": "code",
        "outputId": "342ca1ba-37d4-4e93-bd78-436c2d533faa",
        "colab": {
          "base_uri": "https://localhost:8080/",
          "height": 86
        }
      },
      "source": [
        "from nltk.corpus import stopwords\n",
        "nltk.download('stopwords')\n",
        "stop_words = set(stopwords.words('english'))\n",
        "\n",
        "tokens_withno_stopwords = []\n",
        "for w in final_tokens: \n",
        "    if w not in stop_words: \n",
        "        tokens_withno_stopwords.append(w)   \n",
        "\n",
        "print (f\"The number of tokens is {len(final_tokens)} ; BEFORE stop words removel\")            \n",
        "print (f\"The number of tokens is {len(tokens_withno_stopwords)} ; AFTER stop words removel\")"
      ],
      "execution_count": 0,
      "outputs": [
        {
          "output_type": "stream",
          "text": [
            "[nltk_data] Downloading package stopwords to /root/nltk_data...\n",
            "[nltk_data]   Unzipping corpora/stopwords.zip.\n",
            "The number of tokens is 19668419 ; BEFORE stop words removel\n",
            "The number of tokens is 12558717 ; AFTER stop words removel\n"
          ],
          "name": "stdout"
        }
      ]
    },
    {
      "cell_type": "markdown",
      "metadata": {
        "id": "1XfBd2lXzpkl",
        "colab_type": "text"
      },
      "source": [
        "compute the frequency distribution after you removed the stop words. Then plot the freq. dist. graph for the top 20 words and compare both graphs"
      ]
    },
    {
      "cell_type": "code",
      "metadata": {
        "id": "LUM6vTTczf6o",
        "colab_type": "code",
        "outputId": "c4b5c5e2-bd23-40a1-e117-b2d993813846",
        "colab": {
          "base_uri": "https://localhost:8080/",
          "height": 536
        }
      },
      "source": [
        "fdist = FreqDist(tokens_withno_stopwords)\n",
        "fdist.most_common(10)\n",
        "# Frequency plot of tokens (the x-axis is the words and the y-axis is the frequency). \n",
        "#We show the top 30 words only\n",
        "K = 20\n",
        "#dataframe of K most common words (K=30)\n",
        "thirty_most_frequent_words = pd.DataFrame(fdist.most_common(K),columns=['word','frequency'])\n",
        "#add index to dataframe\n",
        "thirty_most_frequent_words['idx'] = list(thirty_most_frequent_words.index)\n",
        "#plot via ggplot\n",
        "p9.ggplot(thirty_most_frequent_words) + p9.geom_line(p9.aes(x=\"idx\",y=\"frequency\",group=1),color='blue') + p9.scale_x_continuous(breaks=thirty_most_frequent_words['idx'],labels=thirty_most_frequent_words['word']) + p9.theme(axis_text_x=p9.element_text(angle=90))"
      ],
      "execution_count": 0,
      "outputs": [
        {
          "output_type": "display_data",
          "data": {
            "image/png": "[encoded data removed]",
            "text/plain": [
              "<Figure size 640x480 with 1 Axes>"
            ]
          },
          "metadata": {
            "tags": []
          }
        },
        {
          "output_type": "execute_result",
          "data": {
            "text/plain": [
              "<ggplot: (-9223363263631601008)>"
            ]
          },
          "metadata": {
            "tags": []
          },
          "execution_count": 22
        }
      ]
    },
    {
      "cell_type": "markdown",
      "metadata": {
        "nbpresent": {
          "id": "c4ce09e6-fc3a-48f4-bad1-ba4b0af6f4a4"
        },
        "id": "LVT3kI5vJnJ2",
        "colab_type": "text"
      },
      "source": [
        "print 10 rows that have the word \"disoproxil\" in their context using the concordence method "
      ]
    },
    {
      "cell_type": "code",
      "metadata": {
        "nbpresent": {
          "id": "3670c0dd-2246-4644-8886-fddbbf0b33dc"
        },
        "id": "PMHa_OGMJnJ3",
        "colab_type": "code",
        "outputId": "1c18c7e4-015f-4a2d-903b-85a1ffd80123",
        "colab": {
          "base_uri": "https://localhost:8080/",
          "height": 121
        }
      },
      "source": [
        "final_tokens.concordance('disoproxil',lines=5,width=80)"
      ],
      "execution_count": 0,
      "outputs": [
        {
          "output_type": "stream",
          "text": [
            "Displaying 5 of 1240 matches:\n",
            "n a higher serum level . tenofovir disoproxil may decrease the excretion rate of\n",
            "ephrotoxic activities of tenofovir disoproxil . the serum concentration of genta\n",
            "n a higher serum level . tenofovir disoproxil may decrease the excretion rate of\n",
            "n a higher serum level . tenofovir disoproxil may decrease the excretion rate of\n",
            "n a higher serum level . tenofovir disoproxil may decrease the excretion rate of\n"
          ],
          "name": "stdout"
        }
      ]
    },
    {
      "cell_type": "markdown",
      "metadata": {
        "nbpresent": {
          "id": "38d4dcba-bbb0-46c8-8f70-574214bcc25a"
        },
        "id": "HnCsoWwLJnJ7",
        "colab_type": "text"
      },
      "source": [
        "Apply Part of speech tagging to the tokens of the sentence \"sent\"  (which you defined earlier by selecting the tenth sentence from the 100th document). First print the sentence to make sure it is a valid variable, toknize it, apply POS, then print the items and their POS."
      ]
    },
    {
      "cell_type": "code",
      "metadata": {
        "id": "akw7xUI_9fWB",
        "colab_type": "code",
        "outputId": "1b4b577d-f116-4e03-d02d-654cc36ae8e6",
        "colab": {
          "base_uri": "https://localhost:8080/",
          "height": 347
        }
      },
      "source": [
        "#download related files\n",
        "nltk.download('averaged_perceptron_tagger')\n",
        "\n",
        "#tokenize the sentence ....\n",
        "tokens = nltk.word_tokenize(sent)\n",
        "\n",
        "#apply nltk.pos_tag()\n",
        "pos_tokens = nltk.pos_tag(tokens)\n",
        "\n",
        "#print the tagged tokens\n",
        "for item in pos_tokens:\n",
        "    print (item)"
      ],
      "execution_count": 0,
      "outputs": [
        {
          "output_type": "stream",
          "text": [
            "[nltk_data] Downloading package averaged_perceptron_tagger to\n",
            "[nltk_data]     /root/nltk_data...\n",
            "[nltk_data]   Unzipping taggers/averaged_perceptron_tagger.zip.\n",
            "('The', 'DT')\n",
            "('therapeutic', 'JJ')\n",
            "('efficacy', 'NN')\n",
            "('of', 'IN')\n",
            "('Megestrol', 'NNP')\n",
            "('acetate', 'NN')\n",
            "('can', 'MD')\n",
            "('be', 'VB')\n",
            "('decreased', 'VBN')\n",
            "('when', 'WRB')\n",
            "('used', 'VBN')\n",
            "('in', 'IN')\n",
            "('combination', 'NN')\n",
            "('with', 'IN')\n",
            "('Phenoxymethylpenicillin', 'NNP')\n",
            "('.', '.')\n"
          ],
          "name": "stdout"
        }
      ]
    },
    {
      "cell_type": "markdown",
      "metadata": {
        "nbpresent": {
          "id": "f2efe0b8-df46-4958-b7fc-50806e79ad35"
        },
        "id": "qusI0zgRJnKJ",
        "colab_type": "text"
      },
      "source": [
        "### 6. **Named Entity Recognition (NER)**"
      ]
    },
    {
      "cell_type": "markdown",
      "metadata": {
        "id": "N5WrefF-CuNb",
        "colab_type": "text"
      },
      "source": [
        "Classify the tagged tokens/entities based on their categories (person names, organizations, locations, medical codes, time expressions) using \"maxent_ne_chunker\". Then print the entities.\n",
        "\n",
        "note: the input to the maxent_ne_chunker is the tagged tokens with their part of speech"
      ]
    },
    {
      "cell_type": "code",
      "metadata": {
        "id": "QFRiaQ2-CwNU",
        "colab_type": "code",
        "outputId": "a43cf6c7-dc25-4ce2-c8d0-9ed66a56cfde",
        "colab": {
          "base_uri": "https://localhost:8080/",
          "height": 399
        }
      },
      "source": [
        "#download related files (maxent_ne_chunker and words)\n",
        "nltk.download('maxent_ne_chunker')\n",
        "nltk.download('words')\n",
        "\n",
        "#use the nltk.ne_chunck module\n",
        "chunked_sentence = nltk.ne_chunk(pos_tokens)\n",
        "print (chunked_sentence)"
      ],
      "execution_count": 0,
      "outputs": [
        {
          "output_type": "stream",
          "text": [
            "[nltk_data] Downloading package maxent_ne_chunker to\n",
            "[nltk_data]     /root/nltk_data...\n",
            "[nltk_data]   Unzipping chunkers/maxent_ne_chunker.zip.\n",
            "[nltk_data] Downloading package words to /root/nltk_data...\n",
            "[nltk_data]   Unzipping corpora/words.zip.\n",
            "(S\n",
            "  The/DT\n",
            "  therapeutic/JJ\n",
            "  efficacy/NN\n",
            "  of/IN\n",
            "  (GPE Megestrol/NNP)\n",
            "  acetate/NN\n",
            "  can/MD\n",
            "  be/VB\n",
            "  decreased/VBN\n",
            "  when/WRB\n",
            "  used/VBN\n",
            "  in/IN\n",
            "  combination/NN\n",
            "  with/IN\n",
            "  (PERSON Phenoxymethylpenicillin/NNP)\n",
            "  ./.)\n"
          ],
          "name": "stdout"
        }
      ]
    },
    {
      "cell_type": "markdown",
      "metadata": {
        "id": "mx_HGm1-Gc54",
        "colab_type": "text"
      },
      "source": [
        "Does the output include any named entity? which category does it belong to?"
      ]
    },
    {
      "cell_type": "markdown",
      "metadata": {
        "id": "ruL490H2UVJ7",
        "colab_type": "text"
      },
      "source": [
        "\n",
        "\n",
        "\n",
        "\n",
        "\n",
        "# **Mining text data**\n",
        "\n"
      ]
    },
    {
      "cell_type": "markdown",
      "metadata": {
        "id": "Q0uT8D9DSzfb",
        "colab_type": "text"
      },
      "source": [
        "Generate a binary class using the \"ab_class\" column such that patients with Sepsis are the true class and patients without it are the negative class. Print the Calss variable\n",
        "\n",
        "\n",
        "---\n",
        "\n"
      ]
    },
    {
      "cell_type": "code",
      "metadata": {
        "id": "a0-d7sWSVAmH",
        "colab_type": "code",
        "outputId": "4ccfa49d-b3e3-4713-d637-0e4a4f43d3d8",
        "colab": {
          "base_uri": "https://localhost:8080/",
          "height": 260
        }
      },
      "source": [
        "# greate a new variable Class that has the values (True, False)\n",
        "#hint . use the .str.contains method\n",
        "Class = Edata['ab_class'].str.contains('Sepsis')\n",
        "print (Class.head(10))\n",
        "\n",
        "#count how many in each class using .value_counts()\n",
        "print (Class.value_counts())\n"
      ],
      "execution_count": 0,
      "outputs": [
        {
          "output_type": "stream",
          "text": [
            "0    False\n",
            "1     True\n",
            "2    False\n",
            "3     True\n",
            "4    False\n",
            "5    False\n",
            "6     True\n",
            "7    False\n",
            "8     True\n",
            "9    False\n",
            "Name: ab_class, dtype: bool\n",
            "True     459\n",
            "False    456\n",
            "Name: ab_class, dtype: int64\n"
          ],
          "name": "stdout"
        }
      ]
    },
    {
      "cell_type": "markdown",
      "metadata": {
        "id": "d2h9vJ1RWEas",
        "colab_type": "text"
      },
      "source": [
        "replace the boolean values with integer such that True =1 and False=0"
      ]
    },
    {
      "cell_type": "code",
      "metadata": {
        "id": "av6cE7tZUcDc",
        "colab_type": "code",
        "outputId": "7cfd2b65-99d1-4400-f060-2bc7aa25fbdc",
        "colab": {
          "base_uri": "https://localhost:8080/",
          "height": 225
        }
      },
      "source": [
        "#use .replace method\n",
        "import numpy as np\n",
        "Y= Class.replace(True,1)\n",
        "Y=  Y.astype(int)\n",
        "print (Y)"
      ],
      "execution_count": 0,
      "outputs": [
        {
          "output_type": "stream",
          "text": [
            "0      0\n",
            "1      1\n",
            "2      0\n",
            "3      1\n",
            "4      0\n",
            "      ..\n",
            "910    0\n",
            "911    0\n",
            "912    0\n",
            "913    0\n",
            "914    1\n",
            "Name: ab_class, Length: 915, dtype: int64\n"
          ],
          "name": "stdout"
        }
      ]
    },
    {
      "cell_type": "markdown",
      "metadata": {
        "id": "B-WISUn4VHEF",
        "colab_type": "text"
      },
      "source": [
        "Display the first 5 documents in your \"text\" variable (that holds all the documents!)"
      ]
    },
    {
      "cell_type": "code",
      "metadata": {
        "id": "fZLbsr0xVLvo",
        "colab_type": "code",
        "outputId": "fce9ba84-920f-4b16-ddeb-525661bdc7a2",
        "colab": {
          "base_uri": "https://localhost:8080/",
          "height": 121
        }
      },
      "source": [
        "print (text.head(5))"
      ],
      "execution_count": 0,
      "outputs": [
        {
          "output_type": "stream",
          "text": [
            "0    Leuprolide may decrease the excretion rate of ...\n",
            "1    Gentamicin may decrease the excretion rate of ...\n",
            "2    The risk or severity of QTc prolongation can b...\n",
            "3    Leuprolide may decrease the excretion rate of ...\n",
            "4    Leuprolide may decrease the excretion rate of ...\n",
            "Name: ab_interactions, dtype: object\n"
          ],
          "name": "stdout"
        }
      ]
    },
    {
      "cell_type": "markdown",
      "metadata": {
        "id": "JeuVMMsFUzd4",
        "colab_type": "text"
      },
      "source": [
        "**Feature extraction using CountVectorizer**\n",
        "\n",
        "-import the CounterVectorizer from sklearn.feature_extraction.text module. \n",
        "\n",
        "-define a new variable tf_vectorizer and set the parameters of the CounterVectorizer such that:  max features =40, ngram_range =(1,3) , stop_words ='english'\n",
        "\n",
        "-apply the model to the \"text\" data\n"
      ]
    },
    {
      "cell_type": "code",
      "metadata": {
        "id": "-7pjSiktU8q4",
        "colab_type": "code",
        "outputId": "86dece5e-6d8e-4eac-800f-96c3bde0c77c",
        "colab": {
          "base_uri": "https://localhost:8080/",
          "height": 538
        }
      },
      "source": [
        "from sklearn.feature_extraction.text import CountVectorizer\n",
        "\n",
        "# define the model by setting the parameters to desired values\n",
        "tf_vectorizer = CountVectorizer(max_features=30,\n",
        "                                ngram_range=(1, 3), \n",
        "                                stop_words='english' )\n",
        "\n",
        "# apply the vectorizer to the \"text\" data\n",
        "tf = tf_vectorizer.fit_transform(text)\n",
        "\n",
        "#print the features\n",
        "tf_vectorizer.get_feature_names()"
      ],
      "execution_count": 0,
      "outputs": [
        {
          "output_type": "execute_result",
          "data": {
            "text/plain": [
              "['ampicillin',\n",
              " 'ceftazidime',\n",
              " 'ciprofloxacin',\n",
              " 'combined',\n",
              " 'concentration',\n",
              " 'decrease',\n",
              " 'decrease excretion',\n",
              " 'decrease excretion rate',\n",
              " 'decreased',\n",
              " 'decreased combined',\n",
              " 'efficacy',\n",
              " 'excretion',\n",
              " 'excretion rate',\n",
              " 'higher',\n",
              " 'higher serum',\n",
              " 'higher serum level',\n",
              " 'increased',\n",
              " 'increased combined',\n",
              " 'level',\n",
              " 'levofloxacin',\n",
              " 'rate',\n",
              " 'result',\n",
              " 'result higher',\n",
              " 'result higher serum',\n",
              " 'risk',\n",
              " 'risk severity',\n",
              " 'serum',\n",
              " 'serum concentration',\n",
              " 'serum level',\n",
              " 'severity']"
            ]
          },
          "metadata": {
            "tags": []
          },
          "execution_count": 29
        }
      ]
    },
    {
      "cell_type": "markdown",
      "metadata": {
        "id": "uqVTUYSQXIND",
        "colab_type": "text"
      },
      "source": [
        "print the matrix representation of the data using **dataFrame**. The purpose here is to better visualize the data but does not affect classification"
      ]
    },
    {
      "cell_type": "code",
      "metadata": {
        "id": "4dEtegD1XPDJ",
        "colab_type": "code",
        "outputId": "34ab794f-b56c-4eb3-ec9c-614a923c79a3",
        "colab": {
          "base_uri": "https://localhost:8080/",
          "height": 478
        }
      },
      "source": [
        "#transform the vectorizeroutput into a dense representation\n",
        "pd.DataFrame(tf.todense(),columns=tf_vectorizer.get_feature_names())"
      ],
      "execution_count": 0,
      "outputs": [
        {
          "output_type": "execute_result",
          "data": {
            "text/html": [
              "<div>\n",
              "<style scoped>\n",
              "    .dataframe tbody tr th:only-of-type {\n",
              "        vertical-align: middle;\n",
              "    }\n",
              "\n",
              "    .dataframe tbody tr th {\n",
              "        vertical-align: top;\n",
              "    }\n",
              "\n",
              "    .dataframe thead th {\n",
              "        text-align: right;\n",
              "    }\n",
              "</style>\n",
              "<table border=\"1\" class=\"dataframe\">\n",
              "  <thead>\n",
              "    <tr style=\"text-align: right;\">\n",
              "      <th></th>\n",
              "      <th>ampicillin</th>\n",
              "      <th>ceftazidime</th>\n",
              "      <th>ciprofloxacin</th>\n",
              "      <th>combined</th>\n",
              "      <th>concentration</th>\n",
              "      <th>decrease</th>\n",
              "      <th>decrease excretion</th>\n",
              "      <th>decrease excretion rate</th>\n",
              "      <th>decreased</th>\n",
              "      <th>decreased combined</th>\n",
              "      <th>efficacy</th>\n",
              "      <th>excretion</th>\n",
              "      <th>excretion rate</th>\n",
              "      <th>higher</th>\n",
              "      <th>higher serum</th>\n",
              "      <th>higher serum level</th>\n",
              "      <th>increased</th>\n",
              "      <th>increased combined</th>\n",
              "      <th>level</th>\n",
              "      <th>levofloxacin</th>\n",
              "      <th>rate</th>\n",
              "      <th>result</th>\n",
              "      <th>result higher</th>\n",
              "      <th>result higher serum</th>\n",
              "      <th>risk</th>\n",
              "      <th>risk severity</th>\n",
              "      <th>serum</th>\n",
              "      <th>serum concentration</th>\n",
              "      <th>serum level</th>\n",
              "      <th>severity</th>\n",
              "    </tr>\n",
              "  </thead>\n",
              "  <tbody>\n",
              "    <tr>\n",
              "      <th>0</th>\n",
              "      <td>2</td>\n",
              "      <td>2</td>\n",
              "      <td>1</td>\n",
              "      <td>59</td>\n",
              "      <td>0</td>\n",
              "      <td>673</td>\n",
              "      <td>673</td>\n",
              "      <td>673</td>\n",
              "      <td>6</td>\n",
              "      <td>0</td>\n",
              "      <td>62</td>\n",
              "      <td>713</td>\n",
              "      <td>713</td>\n",
              "      <td>673</td>\n",
              "      <td>673</td>\n",
              "      <td>673</td>\n",
              "      <td>75</td>\n",
              "      <td>0</td>\n",
              "      <td>713</td>\n",
              "      <td>2</td>\n",
              "      <td>713</td>\n",
              "      <td>713</td>\n",
              "      <td>673</td>\n",
              "      <td>673</td>\n",
              "      <td>59</td>\n",
              "      <td>59</td>\n",
              "      <td>713</td>\n",
              "      <td>0</td>\n",
              "      <td>713</td>\n",
              "      <td>59</td>\n",
              "    </tr>\n",
              "    <tr>\n",
              "      <th>1</th>\n",
              "      <td>2</td>\n",
              "      <td>2</td>\n",
              "      <td>1</td>\n",
              "      <td>269</td>\n",
              "      <td>42</td>\n",
              "      <td>511</td>\n",
              "      <td>511</td>\n",
              "      <td>511</td>\n",
              "      <td>72</td>\n",
              "      <td>49</td>\n",
              "      <td>41</td>\n",
              "      <td>527</td>\n",
              "      <td>511</td>\n",
              "      <td>511</td>\n",
              "      <td>511</td>\n",
              "      <td>511</td>\n",
              "      <td>238</td>\n",
              "      <td>9</td>\n",
              "      <td>511</td>\n",
              "      <td>2</td>\n",
              "      <td>511</td>\n",
              "      <td>511</td>\n",
              "      <td>511</td>\n",
              "      <td>511</td>\n",
              "      <td>211</td>\n",
              "      <td>211</td>\n",
              "      <td>553</td>\n",
              "      <td>42</td>\n",
              "      <td>511</td>\n",
              "      <td>211</td>\n",
              "    </tr>\n",
              "    <tr>\n",
              "      <th>2</th>\n",
              "      <td>4</td>\n",
              "      <td>4</td>\n",
              "      <td>2</td>\n",
              "      <td>1748</td>\n",
              "      <td>940</td>\n",
              "      <td>1312</td>\n",
              "      <td>972</td>\n",
              "      <td>972</td>\n",
              "      <td>488</td>\n",
              "      <td>480</td>\n",
              "      <td>364</td>\n",
              "      <td>1100</td>\n",
              "      <td>1032</td>\n",
              "      <td>972</td>\n",
              "      <td>972</td>\n",
              "      <td>972</td>\n",
              "      <td>1394</td>\n",
              "      <td>766</td>\n",
              "      <td>1032</td>\n",
              "      <td>3092</td>\n",
              "      <td>1032</td>\n",
              "      <td>1032</td>\n",
              "      <td>972</td>\n",
              "      <td>972</td>\n",
              "      <td>502</td>\n",
              "      <td>502</td>\n",
              "      <td>1972</td>\n",
              "      <td>940</td>\n",
              "      <td>1032</td>\n",
              "      <td>502</td>\n",
              "    </tr>\n",
              "    <tr>\n",
              "      <th>3</th>\n",
              "      <td>2</td>\n",
              "      <td>2</td>\n",
              "      <td>1</td>\n",
              "      <td>42</td>\n",
              "      <td>39</td>\n",
              "      <td>657</td>\n",
              "      <td>657</td>\n",
              "      <td>657</td>\n",
              "      <td>65</td>\n",
              "      <td>20</td>\n",
              "      <td>102</td>\n",
              "      <td>699</td>\n",
              "      <td>697</td>\n",
              "      <td>657</td>\n",
              "      <td>657</td>\n",
              "      <td>657</td>\n",
              "      <td>39</td>\n",
              "      <td>22</td>\n",
              "      <td>697</td>\n",
              "      <td>2</td>\n",
              "      <td>697</td>\n",
              "      <td>697</td>\n",
              "      <td>657</td>\n",
              "      <td>657</td>\n",
              "      <td>0</td>\n",
              "      <td>0</td>\n",
              "      <td>736</td>\n",
              "      <td>39</td>\n",
              "      <td>697</td>\n",
              "      <td>0</td>\n",
              "    </tr>\n",
              "    <tr>\n",
              "      <th>4</th>\n",
              "      <td>2</td>\n",
              "      <td>2</td>\n",
              "      <td>1</td>\n",
              "      <td>622</td>\n",
              "      <td>502</td>\n",
              "      <td>691</td>\n",
              "      <td>543</td>\n",
              "      <td>543</td>\n",
              "      <td>261</td>\n",
              "      <td>219</td>\n",
              "      <td>166</td>\n",
              "      <td>619</td>\n",
              "      <td>575</td>\n",
              "      <td>543</td>\n",
              "      <td>543</td>\n",
              "      <td>543</td>\n",
              "      <td>421</td>\n",
              "      <td>367</td>\n",
              "      <td>575</td>\n",
              "      <td>2</td>\n",
              "      <td>575</td>\n",
              "      <td>575</td>\n",
              "      <td>543</td>\n",
              "      <td>543</td>\n",
              "      <td>36</td>\n",
              "      <td>36</td>\n",
              "      <td>1077</td>\n",
              "      <td>502</td>\n",
              "      <td>575</td>\n",
              "      <td>36</td>\n",
              "    </tr>\n",
              "    <tr>\n",
              "      <th>...</th>\n",
              "      <td>...</td>\n",
              "      <td>...</td>\n",
              "      <td>...</td>\n",
              "      <td>...</td>\n",
              "      <td>...</td>\n",
              "      <td>...</td>\n",
              "      <td>...</td>\n",
              "      <td>...</td>\n",
              "      <td>...</td>\n",
              "      <td>...</td>\n",
              "      <td>...</td>\n",
              "      <td>...</td>\n",
              "      <td>...</td>\n",
              "      <td>...</td>\n",
              "      <td>...</td>\n",
              "      <td>...</td>\n",
              "      <td>...</td>\n",
              "      <td>...</td>\n",
              "      <td>...</td>\n",
              "      <td>...</td>\n",
              "      <td>...</td>\n",
              "      <td>...</td>\n",
              "      <td>...</td>\n",
              "      <td>...</td>\n",
              "      <td>...</td>\n",
              "      <td>...</td>\n",
              "      <td>...</td>\n",
              "      <td>...</td>\n",
              "      <td>...</td>\n",
              "      <td>...</td>\n",
              "    </tr>\n",
              "    <tr>\n",
              "      <th>910</th>\n",
              "      <td>2</td>\n",
              "      <td>2</td>\n",
              "      <td>1</td>\n",
              "      <td>835</td>\n",
              "      <td>286</td>\n",
              "      <td>496</td>\n",
              "      <td>496</td>\n",
              "      <td>496</td>\n",
              "      <td>221</td>\n",
              "      <td>217</td>\n",
              "      <td>32</td>\n",
              "      <td>525</td>\n",
              "      <td>524</td>\n",
              "      <td>496</td>\n",
              "      <td>496</td>\n",
              "      <td>496</td>\n",
              "      <td>618</td>\n",
              "      <td>307</td>\n",
              "      <td>524</td>\n",
              "      <td>2</td>\n",
              "      <td>524</td>\n",
              "      <td>524</td>\n",
              "      <td>496</td>\n",
              "      <td>496</td>\n",
              "      <td>311</td>\n",
              "      <td>311</td>\n",
              "      <td>810</td>\n",
              "      <td>286</td>\n",
              "      <td>524</td>\n",
              "      <td>311</td>\n",
              "    </tr>\n",
              "    <tr>\n",
              "      <th>911</th>\n",
              "      <td>4</td>\n",
              "      <td>4</td>\n",
              "      <td>2</td>\n",
              "      <td>1748</td>\n",
              "      <td>940</td>\n",
              "      <td>1312</td>\n",
              "      <td>972</td>\n",
              "      <td>972</td>\n",
              "      <td>488</td>\n",
              "      <td>480</td>\n",
              "      <td>364</td>\n",
              "      <td>1100</td>\n",
              "      <td>1032</td>\n",
              "      <td>972</td>\n",
              "      <td>972</td>\n",
              "      <td>972</td>\n",
              "      <td>1394</td>\n",
              "      <td>766</td>\n",
              "      <td>1032</td>\n",
              "      <td>3092</td>\n",
              "      <td>1032</td>\n",
              "      <td>1032</td>\n",
              "      <td>972</td>\n",
              "      <td>972</td>\n",
              "      <td>502</td>\n",
              "      <td>502</td>\n",
              "      <td>1972</td>\n",
              "      <td>940</td>\n",
              "      <td>1032</td>\n",
              "      <td>502</td>\n",
              "    </tr>\n",
              "    <tr>\n",
              "      <th>912</th>\n",
              "      <td>0</td>\n",
              "      <td>0</td>\n",
              "      <td>1</td>\n",
              "      <td>519</td>\n",
              "      <td>12</td>\n",
              "      <td>4</td>\n",
              "      <td>0</td>\n",
              "      <td>0</td>\n",
              "      <td>258</td>\n",
              "      <td>255</td>\n",
              "      <td>23</td>\n",
              "      <td>0</td>\n",
              "      <td>0</td>\n",
              "      <td>0</td>\n",
              "      <td>0</td>\n",
              "      <td>0</td>\n",
              "      <td>282</td>\n",
              "      <td>191</td>\n",
              "      <td>0</td>\n",
              "      <td>2</td>\n",
              "      <td>0</td>\n",
              "      <td>0</td>\n",
              "      <td>0</td>\n",
              "      <td>0</td>\n",
              "      <td>73</td>\n",
              "      <td>73</td>\n",
              "      <td>12</td>\n",
              "      <td>12</td>\n",
              "      <td>0</td>\n",
              "      <td>73</td>\n",
              "    </tr>\n",
              "    <tr>\n",
              "      <th>913</th>\n",
              "      <td>0</td>\n",
              "      <td>0</td>\n",
              "      <td>1</td>\n",
              "      <td>904</td>\n",
              "      <td>350</td>\n",
              "      <td>21</td>\n",
              "      <td>21</td>\n",
              "      <td>21</td>\n",
              "      <td>198</td>\n",
              "      <td>190</td>\n",
              "      <td>10</td>\n",
              "      <td>50</td>\n",
              "      <td>23</td>\n",
              "      <td>21</td>\n",
              "      <td>21</td>\n",
              "      <td>21</td>\n",
              "      <td>715</td>\n",
              "      <td>390</td>\n",
              "      <td>23</td>\n",
              "      <td>2</td>\n",
              "      <td>23</td>\n",
              "      <td>23</td>\n",
              "      <td>21</td>\n",
              "      <td>21</td>\n",
              "      <td>324</td>\n",
              "      <td>324</td>\n",
              "      <td>373</td>\n",
              "      <td>350</td>\n",
              "      <td>23</td>\n",
              "      <td>324</td>\n",
              "    </tr>\n",
              "    <tr>\n",
              "      <th>914</th>\n",
              "      <td>2</td>\n",
              "      <td>2</td>\n",
              "      <td>1</td>\n",
              "      <td>42</td>\n",
              "      <td>39</td>\n",
              "      <td>657</td>\n",
              "      <td>657</td>\n",
              "      <td>657</td>\n",
              "      <td>65</td>\n",
              "      <td>20</td>\n",
              "      <td>102</td>\n",
              "      <td>699</td>\n",
              "      <td>697</td>\n",
              "      <td>657</td>\n",
              "      <td>657</td>\n",
              "      <td>657</td>\n",
              "      <td>39</td>\n",
              "      <td>22</td>\n",
              "      <td>697</td>\n",
              "      <td>2</td>\n",
              "      <td>697</td>\n",
              "      <td>697</td>\n",
              "      <td>657</td>\n",
              "      <td>657</td>\n",
              "      <td>0</td>\n",
              "      <td>0</td>\n",
              "      <td>736</td>\n",
              "      <td>39</td>\n",
              "      <td>697</td>\n",
              "      <td>0</td>\n",
              "    </tr>\n",
              "  </tbody>\n",
              "</table>\n",
              "<p>915 rows × 30 columns</p>\n",
              "</div>"
            ],
            "text/plain": [
              "     ampicillin  ceftazidime  ...  serum level  severity\n",
              "0             2            2  ...          713        59\n",
              "1             2            2  ...          511       211\n",
              "2             4            4  ...         1032       502\n",
              "3             2            2  ...          697         0\n",
              "4             2            2  ...          575        36\n",
              "..          ...          ...  ...          ...       ...\n",
              "910           2            2  ...          524       311\n",
              "911           4            4  ...         1032       502\n",
              "912           0            0  ...            0        73\n",
              "913           0            0  ...           23       324\n",
              "914           2            2  ...          697         0\n",
              "\n",
              "[915 rows x 30 columns]"
            ]
          },
          "metadata": {
            "tags": []
          },
          "execution_count": 30
        }
      ]
    },
    {
      "cell_type": "markdown",
      "metadata": {
        "id": "aSg4230rX9dN",
        "colab_type": "text"
      },
      "source": [
        "Do you see any 3-grams? "
      ]
    },
    {
      "cell_type": "markdown",
      "metadata": {
        "id": "40i8A9YfXBBP",
        "colab_type": "text"
      },
      "source": [
        "**Classification**\n",
        "\n",
        "Calssify patients using theur text data. Split the data into train and test, use SVM as classifier, then report accuracy"
      ]
    },
    {
      "cell_type": "code",
      "metadata": {
        "id": "SrtqMeUaX2mk",
        "colab_type": "code",
        "outputId": "20b956be-eb36-4d83-d24a-340fa1cb1da3",
        "colab": {
          "base_uri": "https://localhost:8080/",
          "height": 34
        }
      },
      "source": [
        "from sklearn.svm import SVC\n",
        "from sklearn.metrics import  accuracy_score\n",
        "from sklearn.model_selection import train_test_split\n",
        "\n",
        "# assuming you learned this in the machine learning module\n",
        "#split the data into 2/3 training and 1/3 test\n",
        "X_train, X_test, y_train, y_test = train_test_split(tf, Y, test_size=0.30, random_state=42)\n",
        "#define classifier\n",
        "clf = SVC()\n",
        "#train model on training data\n",
        "model = clf.fit(X_train, y_train)\n",
        "#apply model to test data\n",
        "predicted = model.predict(X_test)  \n",
        "#compute accuracy  \n",
        "acc =  accuracy_score (predicted,y_test)\n",
        "print(f'Accuracy of the classification model is {acc}')"
      ],
      "execution_count": 0,
      "outputs": [
        {
          "output_type": "stream",
          "text": [
            "Accuracy of the classification model is 0.9345454545454546\n"
          ],
          "name": "stdout"
        }
      ]
    },
    {
      "cell_type": "markdown",
      "metadata": {
        "id": "vD9O7CMAY9z2",
        "colab_type": "text"
      },
      "source": [
        "###Why is text mining important?\n",
        "\n",
        "We obtained 90% accuracy when we used (1,2)-grams as features. Do you observe better accuracy here as a result of adding 3-grams to the fearue set? \n",
        "\n",
        "The answer is **YES**. This is basically the goal of doing NLP and Text mining. if you have time, play with the other parameters; increase max-features, use 4-grams...and see how it affects accuracy!"
      ]
    }
  ]
}