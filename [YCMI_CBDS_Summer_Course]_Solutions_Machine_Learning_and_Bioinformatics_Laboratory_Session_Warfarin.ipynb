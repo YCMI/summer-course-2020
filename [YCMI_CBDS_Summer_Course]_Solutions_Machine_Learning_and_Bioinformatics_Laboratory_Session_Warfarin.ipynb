{
  "nbformat": 4,
  "nbformat_minor": 0,
  "metadata": {
    "kernelspec": {
      "display_name": "Python 3",
      "language": "python",
      "name": "python3"
    },
    "language_info": {
      "codemirror_mode": {
        "name": "ipython",
        "version": 3
      },
      "file_extension": ".py",
      "mimetype": "text/x-python",
      "name": "python",
      "nbconvert_exporter": "python",
      "pygments_lexer": "ipython3",
      "version": "3.6.5"
    },
    "colab": {
      "name": "[YCMI_CBDS Summer Course] Solutions Machine Learning and Bioinformatics - Laboratory Session - Warfarin ",
      "provenance": [],
      "collapsed_sections": []
    }
  },
  "cells": [
    {
      "cell_type": "markdown",
      "metadata": {
        "id": "6Csf30RyxlDt",
        "colab_type": "text"
      },
      "source": [
        "# Lab Assignment: (A) Predictive Modeling of Drug Dosage"
      ]
    },
    {
      "cell_type": "markdown",
      "metadata": {
        "id": "YLfcxvywxlD2",
        "colab_type": "text"
      },
      "source": [
        "In this exercise, you will learn to predict the most likely efficacious drug dosage based on several patient factors, such as height, weight, age and the genotypes at certain genes. This exercise is based on the results of The International Warfarin Pharmacogenetics Consortium __2009__, \"Estimation of the Warfarin Dose with Clinical and Pharmacogenetic Data\", _N. Engl. J. Med_, 360, Pgs. 753-764 (data was downloaded from https://www.pharmgkb.org/downloads). The authors create a model for warfarin dosage predictions based on clinical data and the genotypes of individuals at two genes. \n",
        "\n",
        "The lab assignment will explore preprocessing of the data, the creation of a predictive model based on linear regression and regularization "
      ]
    },
    {
      "cell_type": "markdown",
      "metadata": {
        "id": "QjWKyvRdxlD7",
        "colab_type": "text"
      },
      "source": [
        "## Preprocessing of the data"
      ]
    },
    {
      "cell_type": "code",
      "metadata": {
        "id": "rm5eDrLCxlD-",
        "colab_type": "code",
        "colab": {}
      },
      "source": [
        "from sklearn import preprocessing,decomposition,linear_model\n",
        "import plotnine as p9\n",
        "import pandas as pd"
      ],
      "execution_count": 0,
      "outputs": []
    },
    {
      "cell_type": "code",
      "metadata": {
        "id": "Ou0psI4-SA7p",
        "colab_type": "code",
        "outputId": "ef20a8af-118c-414b-d11c-4950628dbc37",
        "colab": {
          "base_uri": "https://localhost:8080/",
          "height": 122
        }
      },
      "source": [
        "#google drive connection\n",
        "from google.colab import drive\n",
        "drive.mount(\"/content/gdrive\")"
      ],
      "execution_count": 0,
      "outputs": [
        {
          "output_type": "stream",
          "text": [
            "Go to this URL in a browser: https://accounts.google.com/o/oauth2/auth?client_id=947318989803-6bn6qk8qdgf4n4g3pfee6491hc0brc4i.apps.googleusercontent.com&redirect_uri=urn%3aietf%3awg%3aoauth%3a2.0%3aoob&response_type=code&scope=email%20https%3a%2f%2fwww.googleapis.com%2fauth%2fdocs.test%20https%3a%2f%2fwww.googleapis.com%2fauth%2fdrive%20https%3a%2f%2fwww.googleapis.com%2fauth%2fdrive.photos.readonly%20https%3a%2f%2fwww.googleapis.com%2fauth%2fpeopleapi.readonly\n",
            "\n",
            "Enter your authorization code:\n",
            "··········\n",
            "Mounted at /content/gdrive\n"
          ],
          "name": "stdout"
        }
      ]
    },
    {
      "cell_type": "markdown",
      "metadata": {
        "id": "pbWL-I17xlEN",
        "colab_type": "text"
      },
      "source": [
        "### Examine the data\n",
        "First, take a look at the original data file to get a sense of the unprocessed data columns."
      ]
    },
    {
      "cell_type": "code",
      "metadata": {
        "id": "PX-Jk8ztxlEQ",
        "colab_type": "code",
        "outputId": "d82a8a6c-ee98-4d31-a692-f98758db0bfd",
        "colab": {
          "base_uri": "https://localhost:8080/",
          "height": 462
        }
      },
      "source": [
        "data_unprocessed = pd.read_csv(\"/content/gdrive/My Drive/[YCMI_CBDS Summer Course] Data/bioinformatics/Warfarin_Study.txt\", sep=\"\\t\")\n",
        "data_unprocessed.head()"
      ],
      "execution_count": 0,
      "outputs": [
        {
          "output_type": "execute_result",
          "data": {
            "text/html": [
              "<div>\n",
              "<style scoped>\n",
              "    .dataframe tbody tr th:only-of-type {\n",
              "        vertical-align: middle;\n",
              "    }\n",
              "\n",
              "    .dataframe tbody tr th {\n",
              "        vertical-align: top;\n",
              "    }\n",
              "\n",
              "    .dataframe thead th {\n",
              "        text-align: right;\n",
              "    }\n",
              "</style>\n",
              "<table border=\"1\" class=\"dataframe\">\n",
              "  <thead>\n",
              "    <tr style=\"text-align: right;\">\n",
              "      <th></th>\n",
              "      <th>PharmGKB Subject ID</th>\n",
              "      <th>Gender</th>\n",
              "      <th>Race (Reported)</th>\n",
              "      <th>Race (OMB)</th>\n",
              "      <th>Project Site</th>\n",
              "      <th>Ethnicity (OMB)</th>\n",
              "      <th>Age</th>\n",
              "      <th>Height (cm)</th>\n",
              "      <th>Weight (kg)</th>\n",
              "      <th>Comorbidities</th>\n",
              "      <th>Carbamazepine (Tegretol)</th>\n",
              "      <th>Simvastatin (Zocor)</th>\n",
              "      <th>Amiodarone (Cordarone)</th>\n",
              "      <th>Target INR</th>\n",
              "      <th>Subject Reached Stable Dose of Warfarin</th>\n",
              "      <th>Therapeutic Dose of Warfarin</th>\n",
              "      <th>INR on Reported Therapeutic Dose of Warfarin</th>\n",
              "      <th>Current Smoker</th>\n",
              "      <th>CYP2C9 consensus</th>\n",
              "      <th>VKORC1 -1639 consensus</th>\n",
              "      <th>Phenytoin (Dilantin)</th>\n",
              "      <th>Rifampin or Rifampicin</th>\n",
              "    </tr>\n",
              "  </thead>\n",
              "  <tbody>\n",
              "    <tr>\n",
              "      <th>0</th>\n",
              "      <td>PA135312261</td>\n",
              "      <td>male</td>\n",
              "      <td>White</td>\n",
              "      <td>White</td>\n",
              "      <td>1</td>\n",
              "      <td>not Hispanic or Latino</td>\n",
              "      <td>60 - 69</td>\n",
              "      <td>193.04</td>\n",
              "      <td>115.7</td>\n",
              "      <td>No Cancer</td>\n",
              "      <td>NaN</td>\n",
              "      <td>0.0</td>\n",
              "      <td>0.0</td>\n",
              "      <td>2.5</td>\n",
              "      <td>1.0</td>\n",
              "      <td>49.0</td>\n",
              "      <td>2.60</td>\n",
              "      <td>0.0</td>\n",
              "      <td>*1/*1</td>\n",
              "      <td>A/G</td>\n",
              "      <td>NaN</td>\n",
              "      <td>NaN</td>\n",
              "    </tr>\n",
              "    <tr>\n",
              "      <th>1</th>\n",
              "      <td>PA135312262</td>\n",
              "      <td>female</td>\n",
              "      <td>White</td>\n",
              "      <td>White</td>\n",
              "      <td>1</td>\n",
              "      <td>not Hispanic or Latino</td>\n",
              "      <td>50 - 59</td>\n",
              "      <td>176.53</td>\n",
              "      <td>144.2</td>\n",
              "      <td>Cancer</td>\n",
              "      <td>NaN</td>\n",
              "      <td>0.0</td>\n",
              "      <td>0.0</td>\n",
              "      <td>2.5</td>\n",
              "      <td>1.0</td>\n",
              "      <td>42.0</td>\n",
              "      <td>2.15</td>\n",
              "      <td>1.0</td>\n",
              "      <td>*1/*1</td>\n",
              "      <td>A/A</td>\n",
              "      <td>NaN</td>\n",
              "      <td>NaN</td>\n",
              "    </tr>\n",
              "    <tr>\n",
              "      <th>2</th>\n",
              "      <td>PA135312263</td>\n",
              "      <td>female</td>\n",
              "      <td>White</td>\n",
              "      <td>White</td>\n",
              "      <td>1</td>\n",
              "      <td>not Hispanic or Latino</td>\n",
              "      <td>40 - 49</td>\n",
              "      <td>162.56</td>\n",
              "      <td>77.1</td>\n",
              "      <td>No Cancer</td>\n",
              "      <td>NaN</td>\n",
              "      <td>0.0</td>\n",
              "      <td>0.0</td>\n",
              "      <td>2.5</td>\n",
              "      <td>1.0</td>\n",
              "      <td>53.0</td>\n",
              "      <td>1.90</td>\n",
              "      <td>0.0</td>\n",
              "      <td>*1/*1</td>\n",
              "      <td>G/G</td>\n",
              "      <td>NaN</td>\n",
              "      <td>NaN</td>\n",
              "    </tr>\n",
              "    <tr>\n",
              "      <th>3</th>\n",
              "      <td>PA135312264</td>\n",
              "      <td>male</td>\n",
              "      <td>White</td>\n",
              "      <td>White</td>\n",
              "      <td>1</td>\n",
              "      <td>not Hispanic or Latino</td>\n",
              "      <td>60 - 69</td>\n",
              "      <td>182.24</td>\n",
              "      <td>90.7</td>\n",
              "      <td>No Cancer</td>\n",
              "      <td>NaN</td>\n",
              "      <td>0.0</td>\n",
              "      <td>0.0</td>\n",
              "      <td>2.5</td>\n",
              "      <td>1.0</td>\n",
              "      <td>28.0</td>\n",
              "      <td>2.40</td>\n",
              "      <td>0.0</td>\n",
              "      <td>*1/*1</td>\n",
              "      <td>A/G</td>\n",
              "      <td>NaN</td>\n",
              "      <td>NaN</td>\n",
              "    </tr>\n",
              "    <tr>\n",
              "      <th>4</th>\n",
              "      <td>PA135312265</td>\n",
              "      <td>male</td>\n",
              "      <td>White</td>\n",
              "      <td>White</td>\n",
              "      <td>1</td>\n",
              "      <td>not Hispanic or Latino</td>\n",
              "      <td>50 - 59</td>\n",
              "      <td>167.64</td>\n",
              "      <td>72.6</td>\n",
              "      <td>No Cancer</td>\n",
              "      <td>NaN</td>\n",
              "      <td>0.0</td>\n",
              "      <td>0.0</td>\n",
              "      <td>2.5</td>\n",
              "      <td>1.0</td>\n",
              "      <td>42.0</td>\n",
              "      <td>1.90</td>\n",
              "      <td>0.0</td>\n",
              "      <td>*1/*3</td>\n",
              "      <td>A/G</td>\n",
              "      <td>NaN</td>\n",
              "      <td>NaN</td>\n",
              "    </tr>\n",
              "  </tbody>\n",
              "</table>\n",
              "</div>"
            ],
            "text/plain": [
              "  PharmGKB Subject ID  Gender  ... Phenytoin (Dilantin) Rifampin or Rifampicin\n",
              "0         PA135312261    male  ...                  NaN                    NaN\n",
              "1         PA135312262  female  ...                  NaN                    NaN\n",
              "2         PA135312263  female  ...                  NaN                    NaN\n",
              "3         PA135312264    male  ...                  NaN                    NaN\n",
              "4         PA135312265    male  ...                  NaN                    NaN\n",
              "\n",
              "[5 rows x 22 columns]"
            ]
          },
          "metadata": {
            "tags": []
          },
          "execution_count": 3
        }
      ]
    },
    {
      "cell_type": "markdown",
      "metadata": {
        "id": "S6fx5sFDxlEb",
        "colab_type": "text"
      },
      "source": [
        "Next, examine the processed data file."
      ]
    },
    {
      "cell_type": "code",
      "metadata": {
        "id": "94FIzzmrxlEe",
        "colab_type": "code",
        "outputId": "99b7eb05-38dc-44dd-891b-38343f56da7c",
        "colab": {
          "base_uri": "https://localhost:8080/",
          "height": 224
        }
      },
      "source": [
        "data_processed = pd.read_csv(\"/content/gdrive/My Drive/[YCMI_CBDS Summer Course] Data/bioinformatics/Warfarin_Study_train.txt\", sep=\"\\t\")\n",
        "data_processed.head()"
      ],
      "execution_count": 0,
      "outputs": [
        {
          "output_type": "execute_result",
          "data": {
            "text/html": [
              "<div>\n",
              "<style scoped>\n",
              "    .dataframe tbody tr th:only-of-type {\n",
              "        vertical-align: middle;\n",
              "    }\n",
              "\n",
              "    .dataframe tbody tr th {\n",
              "        vertical-align: top;\n",
              "    }\n",
              "\n",
              "    .dataframe thead th {\n",
              "        text-align: right;\n",
              "    }\n",
              "</style>\n",
              "<table border=\"1\" class=\"dataframe\">\n",
              "  <thead>\n",
              "    <tr style=\"text-align: right;\">\n",
              "      <th></th>\n",
              "      <th>Therapeutic.Dose.of.Warfarin</th>\n",
              "      <th>Height..cm.</th>\n",
              "      <th>Weight..kg.</th>\n",
              "      <th>Age_Decades</th>\n",
              "      <th>Amiodarone..Cordarone.</th>\n",
              "      <th>EnzymeInducer</th>\n",
              "      <th>Asian</th>\n",
              "      <th>AA</th>\n",
              "      <th>Unk</th>\n",
              "      <th>VKORC1_G_A</th>\n",
              "      <th>VKORC1_A_A</th>\n",
              "      <th>VKORC1_Missing</th>\n",
              "      <th>CYP2C9_1_2</th>\n",
              "      <th>CYP2C9_1_3</th>\n",
              "      <th>CYP2C9_2_2</th>\n",
              "      <th>CYP2C9_2_3</th>\n",
              "      <th>CYP2C9_3_3</th>\n",
              "      <th>CYP2C9_Missing</th>\n",
              "    </tr>\n",
              "  </thead>\n",
              "  <tbody>\n",
              "    <tr>\n",
              "      <th>0</th>\n",
              "      <td>23.0</td>\n",
              "      <td>160.02</td>\n",
              "      <td>63.5</td>\n",
              "      <td>6</td>\n",
              "      <td>0</td>\n",
              "      <td>0</td>\n",
              "      <td>0</td>\n",
              "      <td>0</td>\n",
              "      <td>0</td>\n",
              "      <td>0</td>\n",
              "      <td>0</td>\n",
              "      <td>0</td>\n",
              "      <td>0</td>\n",
              "      <td>0</td>\n",
              "      <td>0</td>\n",
              "      <td>1</td>\n",
              "      <td>0</td>\n",
              "      <td>0</td>\n",
              "    </tr>\n",
              "    <tr>\n",
              "      <th>1</th>\n",
              "      <td>49.0</td>\n",
              "      <td>181.61</td>\n",
              "      <td>108.9</td>\n",
              "      <td>7</td>\n",
              "      <td>0</td>\n",
              "      <td>0</td>\n",
              "      <td>0</td>\n",
              "      <td>1</td>\n",
              "      <td>0</td>\n",
              "      <td>0</td>\n",
              "      <td>0</td>\n",
              "      <td>0</td>\n",
              "      <td>0</td>\n",
              "      <td>0</td>\n",
              "      <td>0</td>\n",
              "      <td>0</td>\n",
              "      <td>0</td>\n",
              "      <td>0</td>\n",
              "    </tr>\n",
              "    <tr>\n",
              "      <th>2</th>\n",
              "      <td>30.0</td>\n",
              "      <td>173.99</td>\n",
              "      <td>79.4</td>\n",
              "      <td>7</td>\n",
              "      <td>0</td>\n",
              "      <td>0</td>\n",
              "      <td>0</td>\n",
              "      <td>0</td>\n",
              "      <td>0</td>\n",
              "      <td>0</td>\n",
              "      <td>0</td>\n",
              "      <td>0</td>\n",
              "      <td>1</td>\n",
              "      <td>0</td>\n",
              "      <td>0</td>\n",
              "      <td>0</td>\n",
              "      <td>0</td>\n",
              "      <td>0</td>\n",
              "    </tr>\n",
              "    <tr>\n",
              "      <th>3</th>\n",
              "      <td>56.0</td>\n",
              "      <td>172.72</td>\n",
              "      <td>88.0</td>\n",
              "      <td>2</td>\n",
              "      <td>0</td>\n",
              "      <td>0</td>\n",
              "      <td>0</td>\n",
              "      <td>0</td>\n",
              "      <td>0</td>\n",
              "      <td>0</td>\n",
              "      <td>0</td>\n",
              "      <td>0</td>\n",
              "      <td>0</td>\n",
              "      <td>0</td>\n",
              "      <td>0</td>\n",
              "      <td>0</td>\n",
              "      <td>0</td>\n",
              "      <td>0</td>\n",
              "    </tr>\n",
              "    <tr>\n",
              "      <th>4</th>\n",
              "      <td>51.0</td>\n",
              "      <td>182.88</td>\n",
              "      <td>104.3</td>\n",
              "      <td>5</td>\n",
              "      <td>0</td>\n",
              "      <td>0</td>\n",
              "      <td>0</td>\n",
              "      <td>0</td>\n",
              "      <td>0</td>\n",
              "      <td>0</td>\n",
              "      <td>0</td>\n",
              "      <td>0</td>\n",
              "      <td>0</td>\n",
              "      <td>0</td>\n",
              "      <td>0</td>\n",
              "      <td>0</td>\n",
              "      <td>0</td>\n",
              "      <td>0</td>\n",
              "    </tr>\n",
              "  </tbody>\n",
              "</table>\n",
              "</div>"
            ],
            "text/plain": [
              "   Therapeutic.Dose.of.Warfarin  Height..cm.  ...  CYP2C9_3_3  CYP2C9_Missing\n",
              "0                          23.0       160.02  ...           0               0\n",
              "1                          49.0       181.61  ...           0               0\n",
              "2                          30.0       173.99  ...           0               0\n",
              "3                          56.0       172.72  ...           0               0\n",
              "4                          51.0       182.88  ...           0               0\n",
              "\n",
              "[5 rows x 18 columns]"
            ]
          },
          "metadata": {
            "tags": []
          },
          "execution_count": 4
        }
      ]
    },
    {
      "cell_type": "markdown",
      "metadata": {
        "id": "npYK5mWGxlEo",
        "colab_type": "text"
      },
      "source": [
        "Note that many of the columns have been processed already in the interests of time. Especially pay attention to the recoding of the categorical variables associated with the genotypes. For example, the rs9923231 SNP associated with gene _VKORC1_ encodes a G -> A mutation, and so there are four possible genotypic categories (with no associated quantitative measure): G/G, G/A, A/A, Missing. If the non-mutated, homozygous state G/G is treated as the reference state, the others are encoded by a so-called \"one-hot\" enoding strategy. In this encoding, for $\\textit{N}$ categories, $\\textit{N-1}$ new variables are created for all the non-reference states; when a category is observed, the corresponding variable has a value of 1, while all the others are set to 0. When the reference category is observed, all the variables are set to 0.  \n"
      ]
    },
    {
      "cell_type": "markdown",
      "metadata": {
        "id": "o4XYGaFyxlEq",
        "colab_type": "text"
      },
      "source": [
        "### Shifting and Scaling of the data\n",
        "\n",
        "In this step, you will shift and scale the data in all the continuous-valued columns by two different transformations:\n",
        "\n",
        "First try \"Standard Scaling\":\n",
        "\\begin{equation*} x_{i} \\to \\frac{x_{i} - \\mu}{\\sigma}, \\end{equation*} where $\\mu$ is the mean and $\\sigma$ is the standard deviation of the data. This is done to ensure that the scales of all the expression values are about the same, and thus prevents biases in the weight attached to a given variable, simply because its magnitude happens to be larger or smaller on average. These shifted and rescaled values are the so-called Z-scores of the data.\n",
        "\n",
        "Next, try \"MinMax Scaling\":\n",
        "\\begin{equation*} x_{i} \\to \\frac{x_{i} - min(x_{i})}{max(x_{i}) - min(x_{i})}, \\end{equation*} where $max(x_{i})$ is the maximum value of the data series and $min(x_{i})$ is the minimum value of the data series.\n",
        "\n",
        "These are two different ways of scaling. The \"standardization\" procedure in the first method is very commonly used, but distorts the distribution a little bit. The min-max scaling procedure retains the distribution, and confines the range to be within 0 and 1. There is no definitive prescription for what is best, so trying both can be helpful. "
      ]
    },
    {
      "cell_type": "code",
      "metadata": {
        "id": "2vuibABTMFIn",
        "colab_type": "code",
        "colab": {}
      },
      "source": [
        "# load the training data, with the y matrix being assigned the 'Therapeutic.Dose.of.Warfarin' data, and the x matrix being assigned\n",
        "# all the other columns except for 'Therapeutic.Dose.of.Warfarin' \n",
        "trainset = pd.read_csv(\"/content/gdrive/My Drive/[YCMI_CBDS Summer Course] Data/bioinformatics/Warfarin_Study_train.txt\", sep=\"\\t\")\n",
        "y_train = trainset['Therapeutic.Dose.of.Warfarin']\n",
        "x_train = trainset.drop('Therapeutic.Dose.of.Warfarin', axis=1)\n",
        "\n",
        "# load the test data, with the y matrix being assigned the 'Therapeutic.Dose.of.Warfarin' data, and the x matrix being assigned\n",
        "# all the other columns except for 'Therapeutic.Dose.of.Warfarin' \n",
        "testset = pd.read_csv(\"/content/gdrive/My Drive/[YCMI_CBDS Summer Course] Data/bioinformatics/Warfarin_Study_test.txt\",sep=\"\\t\")\n",
        "y_test = testset['Therapeutic.Dose.of.Warfarin']\n",
        "x_test = testset.drop('Therapeutic.Dose.of.Warfarin', axis=1)\n"
      ],
      "execution_count": 0,
      "outputs": []
    },
    {
      "cell_type": "code",
      "metadata": {
        "id": "GXAKqxwlOQZT",
        "colab_type": "code",
        "colab": {}
      },
      "source": [
        "#### Create a 'StandardScaler()' object\n",
        "####------>\n",
        "scaler_obj = preprocessing.StandardScaler()\n",
        "\n",
        "# Create a list of the columns you want to normalize\n",
        "to_normalize = ['Height..cm.', 'Weight..kg.', 'Age_Decades']\n",
        "\n",
        "####Here we create a separate copy of the original training and test data, so that any modifications\n",
        "#### to the new copy are not transferred back to the original matrix \n",
        "####(this would happen if we set the x_ss_train = x_train)\n",
        "x_ss_train = x_train.copy()\n",
        "x_ss_train[to_normalize] = scaler_obj.fit_transform(x_ss_train[to_normalize])\n",
        "\n",
        "x_ss_test = x_test.copy()\n",
        "x_ss_test[to_normalize] = scaler_obj.fit_transform(x_ss_test[to_normalize])"
      ],
      "execution_count": 0,
      "outputs": []
    },
    {
      "cell_type": "code",
      "metadata": {
        "id": "WrvMUZvdxlEt",
        "colab_type": "code",
        "colab": {}
      },
      "source": [
        "#### Run MinMax Scaling\n",
        "minmax_obj = preprocessing.MinMaxScaler()\n",
        "x_mm_train = x_train.copy()\n",
        "x_mm_train[to_normalize] = minmax_obj.fit_transform(x_mm_train[to_normalize])\n",
        "\n",
        "x_mm_test = x_test.copy()\n",
        "x_mm_test[to_normalize] = minmax_obj.fit_transform(x_mm_test[to_normalize])"
      ],
      "execution_count": 0,
      "outputs": []
    },
    {
      "cell_type": "markdown",
      "metadata": {
        "id": "DVmi6zsHxlE3",
        "colab_type": "text"
      },
      "source": [
        "### Linear regression model"
      ]
    },
    {
      "cell_type": "markdown",
      "metadata": {
        "id": "KMjhENH_xlE5",
        "colab_type": "text"
      },
      "source": [
        "#### Unscaled data"
      ]
    },
    {
      "cell_type": "code",
      "metadata": {
        "id": "lZg4Dg2KRyK_",
        "colab_type": "code",
        "outputId": "fa2af579-d2af-4c77-fa1b-93c1ac106b6d",
        "colab": {
          "base_uri": "https://localhost:8080/",
          "height": 86
        }
      },
      "source": [
        "#### Create a 'LinearRegression()' object from the 'linear_model' class\n",
        "regr = linear_model.LinearRegression()\n",
        "\n",
        "####Fit the x_train_arr data to the square root of the y_train_arr data using the 'fit' function\n",
        "####In this case, we chose to take the square root of the target output data to match the\n",
        "#### method of the original paper; in general, you may consider transforming your target data and feature \n",
        "#### data in different ways to better fit the model\n",
        "####------>\n",
        "regr.fit(x_train, y_train ** (1./2))\n",
        "\n",
        "####Print out the fit coefficients and intercept\n",
        "print(regr.coef_)\n",
        "print(regr.intercept_)"
      ],
      "execution_count": 0,
      "outputs": [
        {
          "output_type": "stream",
          "text": [
            "[ 0.01187106  0.01317074 -0.23686162 -0.57034589  1.16519373 -0.16687181\n",
            " -0.15441854 -0.18021427 -0.84610236 -1.68836373 -0.63966833 -0.48231671\n",
            " -0.8303828  -0.99716393 -1.93056185 -2.09245817 -0.49839203]\n",
            "4.903674669504408\n"
          ],
          "name": "stdout"
        }
      ]
    },
    {
      "cell_type": "code",
      "metadata": {
        "id": "dSx6z4LJSPzH",
        "colab_type": "code",
        "outputId": "a6c04358-65c7-4acc-b642-8392fc431599",
        "colab": {
          "base_uri": "https://localhost:8080/",
          "height": 34
        }
      },
      "source": [
        "#### Test the model by finding the score using the 'score' function; remember to use the square root of \n",
        "####the test set\n",
        "####------>\n",
        "regression_score = regr.score(x_test, y_test ** (1./2))\n",
        "print(regression_score)\n",
        "\n",
        "####Find the prediction values of the model explicitly; this step is mainly for the plotting function below.\n",
        "y_predict = regr.predict(x_test)"
      ],
      "execution_count": 0,
      "outputs": [
        {
          "output_type": "stream",
          "text": [
            "0.429307232660645\n"
          ],
          "name": "stdout"
        }
      ]
    },
    {
      "cell_type": "markdown",
      "metadata": {
        "id": "75kuZQNPxlFL",
        "colab_type": "text"
      },
      "source": [
        "#### Standard Scaling"
      ]
    },
    {
      "cell_type": "code",
      "metadata": {
        "id": "oCfQMS_OS3Jg",
        "colab_type": "code",
        "outputId": "3c25e821-b87f-4a10-e8f6-ab9dce3c3d91",
        "colab": {
          "base_uri": "https://localhost:8080/",
          "height": 86
        }
      },
      "source": [
        "#### Create a 'LinearRegression()' object from the 'linear_model' class\n",
        "regr = linear_model.LinearRegression()\n",
        "\n",
        "#### Fit the x_train_arr data to the square root of the y_train_arr data using the 'fit' function\n",
        "#### In this case, we chose to take the square root of the target output data to match the\n",
        "#### method of the original paper; in general, you may consider transforming your target data and feature \n",
        "#### data in different ways to better fit the model\n",
        "####------>\n",
        "regr.fit(x_ss_train, y_train ** (1./2))\n",
        "\n",
        "####Print out the fit coefficients and intercept\n",
        "print(regr.coef_)\n",
        "print(regr.intercept_)"
      ],
      "execution_count": 0,
      "outputs": [
        {
          "output_type": "stream",
          "text": [
            "[ 0.12830048  0.29267718 -0.34494393 -0.57034589  1.16519373 -0.16687181\n",
            " -0.15441854 -0.18021427 -0.84610236 -1.68836373 -0.63966833 -0.48231671\n",
            " -0.8303828  -0.99716393 -1.93056185 -2.09245817 -0.49839203]\n",
            "6.526938003775576\n"
          ],
          "name": "stdout"
        }
      ]
    },
    {
      "cell_type": "code",
      "metadata": {
        "id": "ybSqd4foxlFU",
        "colab_type": "code",
        "outputId": "b5e0ea78-6891-4880-e785-6410b4622794",
        "colab": {
          "base_uri": "https://localhost:8080/",
          "height": 34
        }
      },
      "source": [
        "#### Test the model by finding the score using the 'score' function; remember to use the square root of \n",
        "####the test set\n",
        "####------>\n",
        "regression_score = regr.score(x_ss_test, y_test ** (1./2))\n",
        "print(regression_score)\n",
        "\n",
        "####Find the prediction values of the model explicitly; this step is mainly for the plotting function below. \n",
        "y_ss_predict = regr.predict(x_ss_test)"
      ],
      "execution_count": 0,
      "outputs": [
        {
          "output_type": "stream",
          "text": [
            "0.4290141910849038\n"
          ],
          "name": "stdout"
        }
      ]
    },
    {
      "cell_type": "markdown",
      "metadata": {
        "id": "wj1j43NPxlFb",
        "colab_type": "text"
      },
      "source": [
        "#### **(Optional)** MinMax Scaling"
      ]
    },
    {
      "cell_type": "code",
      "metadata": {
        "id": "lTs3xGQdxlFe",
        "colab_type": "code",
        "outputId": "291843f4-83ea-425b-fe65-be3548a2b7e8",
        "colab": {
          "base_uri": "https://localhost:8080/",
          "height": 86
        }
      },
      "source": [
        "#### Create a 'LinearRegression()' object from the 'linear_model' class\n",
        "regr = linear_model.LinearRegression()\n",
        "\n",
        "####Fit the x_train_arr data to the square root of the y_train_arr data using the 'fit' function\n",
        "####In this case, we chose to take the square root of the target output data to match the\n",
        "#### method of the original paper; in general, you may consider transforming your target data and feature \n",
        "#### data in different ways to better fit the model\n",
        "regr.fit(x_mm_train, y_train ** (1./2))\n",
        "\n",
        "\n",
        "####Print out the fit coefficients and intercept\n",
        "print(regr.coef_)\n",
        "print(regr.intercept_)"
      ],
      "execution_count": 0,
      "outputs": [
        {
          "output_type": "stream",
          "text": [
            "[ 0.91442811  2.7355627  -1.89489293 -0.57034589  1.16519373 -0.16687181\n",
            " -0.15441854 -0.18021427 -0.84610236 -1.68836373 -0.63966833 -0.48231671\n",
            " -0.8303828  -0.99716393 -1.93056185 -2.09245817 -0.49839203]\n",
            "6.545462209702442\n"
          ],
          "name": "stdout"
        }
      ]
    },
    {
      "cell_type": "code",
      "metadata": {
        "id": "7pu9n7S3xlFl",
        "colab_type": "code",
        "outputId": "b1d43102-4bb0-42d0-de74-d443a78c7189",
        "colab": {
          "base_uri": "https://localhost:8080/",
          "height": 34
        }
      },
      "source": [
        "#### Test the model by finding the score using the 'score' function; remember to use the square root of \n",
        "####the test set\n",
        "####------>\n",
        "regression_score = regr.score(x_mm_test, y_test ** (1./2))\n",
        "print(regression_score)\n",
        "\n",
        "####Find the prediction values of the model explicitly; this step is mainly for the plotting function below. \n",
        "y_mm_predict = regr.predict(x_mm_test)"
      ],
      "execution_count": 0,
      "outputs": [
        {
          "output_type": "stream",
          "text": [
            "0.4117745843836391\n"
          ],
          "name": "stdout"
        }
      ]
    },
    {
      "cell_type": "markdown",
      "metadata": {
        "id": "eOVn0c5dxlFr",
        "colab_type": "text"
      },
      "source": [
        "### Plot the results: first plot the fit to the original dosage, without the square root transformation; then plot the fit to the transformed dosage data."
      ]
    },
    {
      "cell_type": "code",
      "metadata": {
        "id": "maD16DOFV26V",
        "colab_type": "code",
        "outputId": "3d2fa7d6-69d5-4aeb-e040-b829186b70c2",
        "colab": {
          "base_uri": "https://localhost:8080/",
          "height": 527
        }
      },
      "source": [
        "(\n",
        "    p9.ggplot(pd.DataFrame({\"y_predict**2\": y_predict ** 2, \"y_test\": y_test}))\n",
        "      + p9.geom_point(p9.aes(x=\"y_predict**2\",y=\"y_test\"), color=\"black\")\n",
        "      + p9.geom_abline(intercept=0, slope=1, color='blue')\n",
        "      + p9.ggtitle('Weekly dosage')\n",
        "      + p9.xlim(0, 120)\n",
        "      + p9.ylim(0, 120)\n",
        ")"
      ],
      "execution_count": 0,
      "outputs": [
        {
          "output_type": "stream",
          "text": [
            "/usr/local/lib/python3.6/dist-packages/plotnine/layer.py:452: PlotnineWarning: geom_point : Removed 3 rows containing missing values.\n",
            "  self.data = self.geom.handle_na(self.data)\n"
          ],
          "name": "stderr"
        },
        {
          "output_type": "display_data",
          "data": {
            "image/png": "[encoded data removed]",
            "text/plain": [
              "<Figure size 640x480 with 1 Axes>"
            ]
          },
          "metadata": {
            "tags": []
          }
        },
        {
          "output_type": "execute_result",
          "data": {
            "text/plain": [
              "<ggplot: (8787019805995)>"
            ]
          },
          "metadata": {
            "tags": []
          },
          "execution_count": 17
        }
      ]
    },
    {
      "cell_type": "code",
      "metadata": {
        "id": "OWyzRYpBX2K_",
        "colab_type": "code",
        "outputId": "bd22ca82-2f3c-4803-a52e-63267e1dee44",
        "colab": {
          "base_uri": "https://localhost:8080/",
          "height": 492
        }
      },
      "source": [
        "(\n",
        "    p9.ggplot(pd.DataFrame({\"y_predict\": y_predict, \"y_test**(1./2)\": y_test**(1./2)}))\n",
        "      + p9.geom_point(p9.aes(x=\"y_predict\",y=\"y_test**(1./2)\"), color=\"black\")\n",
        "      + p9.geom_abline(intercept=0, slope=1, color='blue')\n",
        "      + p9.ggtitle('Square Root of Weekly dosage')\n",
        "      + p9.xlim(0, 18)\n",
        "      + p9.ylim(0, 18)\n",
        ")"
      ],
      "execution_count": 0,
      "outputs": [
        {
          "output_type": "display_data",
          "data": {
            "image/png": "[encoded data removed]",
            "text/plain": [
              "<Figure size 640x480 with 1 Axes>"
            ]
          },
          "metadata": {
            "tags": []
          }
        },
        {
          "output_type": "execute_result",
          "data": {
            "text/plain": [
              "<ggplot: (-9223363249835328964)>"
            ]
          },
          "metadata": {
            "tags": []
          },
          "execution_count": 18
        }
      ]
    },
    {
      "cell_type": "markdown",
      "metadata": {
        "id": "kpUW7qE8xlF0",
        "colab_type": "text"
      },
      "source": [
        "# Lab Assignment: (B) Multiclass Classification"
      ]
    },
    {
      "cell_type": "markdown",
      "metadata": {
        "id": "xdGdlsdbxlF2",
        "colab_type": "text"
      },
      "source": [
        "We will now explore a multiclass classification problem using data from PsychENCODE.  The following example is based on RNAseq gene expression data from post-mortem Prefrontal Cortex samples of control subjects, and subjects with Schizophrenia, Bipolar disorder and Autism."
      ]
    },
    {
      "cell_type": "markdown",
      "metadata": {
        "id": "CaXksjpyxlF3",
        "colab_type": "text"
      },
      "source": [
        "## Import the necessary libraries"
      ]
    },
    {
      "cell_type": "code",
      "metadata": {
        "id": "9svzklZxxlF4",
        "colab_type": "code",
        "colab": {}
      },
      "source": [
        "from sklearn.ensemble import RandomForestClassifier"
      ],
      "execution_count": 0,
      "outputs": []
    },
    {
      "cell_type": "markdown",
      "metadata": {
        "id": "zeXRcBU8xlF-",
        "colab_type": "text"
      },
      "source": [
        "## Load the PsychENCODE data"
      ]
    },
    {
      "cell_type": "code",
      "metadata": {
        "id": "mi0z54JTxlGA",
        "colab_type": "code",
        "colab": {}
      },
      "source": [
        "train = pd.read_csv(\"/content/gdrive/My Drive/[YCMI_CBDS Summer Course] Data/bioinformatics/pec_traindata.csv\", header=None)\n",
        "test = pd.read_csv(\"/content/gdrive/My Drive/[YCMI_CBDS Summer Course] Data/bioinformatics/pec_testdata.csv\", header=None)"
      ],
      "execution_count": 0,
      "outputs": []
    },
    {
      "cell_type": "markdown",
      "metadata": {
        "id": "tpm6INkVxlGE",
        "colab_type": "text"
      },
      "source": [
        "## Extract training data, and learn a Random Forest classifier\n",
        "\n",
        "The training and test data matrices each contain 200 predictor genes (columns 0-199) and class labels 0-3 in the final column.  Classes are: 0 = Controls, 1 = Schizophrenia, 2 = Bipolar, 3 = Autism.  15 subjects from each class are included in training and testing sets.  Use a forest with 20 trees of maximum depth 4."
      ]
    },
    {
      "cell_type": "code",
      "metadata": {
        "id": "K3QO91mzY3NH",
        "colab_type": "code",
        "outputId": "9e5858f6-175b-441d-be9e-fac5c6db3d88",
        "colab": {
          "base_uri": "https://localhost:8080/",
          "height": 253
        }
      },
      "source": [
        "test.head()"
      ],
      "execution_count": 0,
      "outputs": [
        {
          "output_type": "execute_result",
          "data": {
            "text/html": [
              "<div>\n",
              "<style scoped>\n",
              "    .dataframe tbody tr th:only-of-type {\n",
              "        vertical-align: middle;\n",
              "    }\n",
              "\n",
              "    .dataframe tbody tr th {\n",
              "        vertical-align: top;\n",
              "    }\n",
              "\n",
              "    .dataframe thead th {\n",
              "        text-align: right;\n",
              "    }\n",
              "</style>\n",
              "<table border=\"1\" class=\"dataframe\">\n",
              "  <thead>\n",
              "    <tr style=\"text-align: right;\">\n",
              "      <th></th>\n",
              "      <th>0</th>\n",
              "      <th>1</th>\n",
              "      <th>2</th>\n",
              "      <th>3</th>\n",
              "      <th>4</th>\n",
              "      <th>5</th>\n",
              "      <th>6</th>\n",
              "      <th>7</th>\n",
              "      <th>8</th>\n",
              "      <th>9</th>\n",
              "      <th>10</th>\n",
              "      <th>11</th>\n",
              "      <th>12</th>\n",
              "      <th>13</th>\n",
              "      <th>14</th>\n",
              "      <th>15</th>\n",
              "      <th>16</th>\n",
              "      <th>17</th>\n",
              "      <th>18</th>\n",
              "      <th>19</th>\n",
              "      <th>20</th>\n",
              "      <th>21</th>\n",
              "      <th>22</th>\n",
              "      <th>23</th>\n",
              "      <th>24</th>\n",
              "      <th>25</th>\n",
              "      <th>26</th>\n",
              "      <th>27</th>\n",
              "      <th>28</th>\n",
              "      <th>29</th>\n",
              "      <th>30</th>\n",
              "      <th>31</th>\n",
              "      <th>32</th>\n",
              "      <th>33</th>\n",
              "      <th>34</th>\n",
              "      <th>35</th>\n",
              "      <th>36</th>\n",
              "      <th>37</th>\n",
              "      <th>38</th>\n",
              "      <th>39</th>\n",
              "      <th>...</th>\n",
              "      <th>161</th>\n",
              "      <th>162</th>\n",
              "      <th>163</th>\n",
              "      <th>164</th>\n",
              "      <th>165</th>\n",
              "      <th>166</th>\n",
              "      <th>167</th>\n",
              "      <th>168</th>\n",
              "      <th>169</th>\n",
              "      <th>170</th>\n",
              "      <th>171</th>\n",
              "      <th>172</th>\n",
              "      <th>173</th>\n",
              "      <th>174</th>\n",
              "      <th>175</th>\n",
              "      <th>176</th>\n",
              "      <th>177</th>\n",
              "      <th>178</th>\n",
              "      <th>179</th>\n",
              "      <th>180</th>\n",
              "      <th>181</th>\n",
              "      <th>182</th>\n",
              "      <th>183</th>\n",
              "      <th>184</th>\n",
              "      <th>185</th>\n",
              "      <th>186</th>\n",
              "      <th>187</th>\n",
              "      <th>188</th>\n",
              "      <th>189</th>\n",
              "      <th>190</th>\n",
              "      <th>191</th>\n",
              "      <th>192</th>\n",
              "      <th>193</th>\n",
              "      <th>194</th>\n",
              "      <th>195</th>\n",
              "      <th>196</th>\n",
              "      <th>197</th>\n",
              "      <th>198</th>\n",
              "      <th>199</th>\n",
              "      <th>200</th>\n",
              "    </tr>\n",
              "  </thead>\n",
              "  <tbody>\n",
              "    <tr>\n",
              "      <th>0</th>\n",
              "      <td>0.729270</td>\n",
              "      <td>-0.61931</td>\n",
              "      <td>-0.681020</td>\n",
              "      <td>-1.114600</td>\n",
              "      <td>-0.355030</td>\n",
              "      <td>-0.10202</td>\n",
              "      <td>0.086386</td>\n",
              "      <td>-0.48257</td>\n",
              "      <td>0.3898</td>\n",
              "      <td>1.332500</td>\n",
              "      <td>-1.08380</td>\n",
              "      <td>0.50161</td>\n",
              "      <td>0.20778</td>\n",
              "      <td>0.938810</td>\n",
              "      <td>1.08730</td>\n",
              "      <td>0.22504</td>\n",
              "      <td>0.83498</td>\n",
              "      <td>1.22800</td>\n",
              "      <td>-1.64790</td>\n",
              "      <td>0.32000</td>\n",
              "      <td>0.59590</td>\n",
              "      <td>0.57817</td>\n",
              "      <td>0.48111</td>\n",
              "      <td>1.585600</td>\n",
              "      <td>0.87424</td>\n",
              "      <td>-0.30298</td>\n",
              "      <td>0.97993</td>\n",
              "      <td>0.23303</td>\n",
              "      <td>0.3385</td>\n",
              "      <td>0.13927</td>\n",
              "      <td>-0.18925</td>\n",
              "      <td>0.86383</td>\n",
              "      <td>-0.83040</td>\n",
              "      <td>-0.2739</td>\n",
              "      <td>-2.143300</td>\n",
              "      <td>2.41980</td>\n",
              "      <td>-1.055000</td>\n",
              "      <td>0.261800</td>\n",
              "      <td>-0.56595</td>\n",
              "      <td>-0.20645</td>\n",
              "      <td>...</td>\n",
              "      <td>1.543700</td>\n",
              "      <td>0.57511</td>\n",
              "      <td>0.305700</td>\n",
              "      <td>1.33720</td>\n",
              "      <td>0.93881</td>\n",
              "      <td>-0.54025</td>\n",
              "      <td>1.54150</td>\n",
              "      <td>1.51650</td>\n",
              "      <td>0.765290</td>\n",
              "      <td>-0.90410</td>\n",
              "      <td>1.558800</td>\n",
              "      <td>-0.75835</td>\n",
              "      <td>-0.65668</td>\n",
              "      <td>0.20645</td>\n",
              "      <td>0.164210</td>\n",
              "      <td>0.58432</td>\n",
              "      <td>1.00430</td>\n",
              "      <td>0.089642</td>\n",
              "      <td>-0.99471</td>\n",
              "      <td>0.60133</td>\n",
              "      <td>0.69499</td>\n",
              "      <td>0.18595</td>\n",
              "      <td>-0.02076</td>\n",
              "      <td>-0.233700</td>\n",
              "      <td>0.86666</td>\n",
              "      <td>0.37027</td>\n",
              "      <td>-0.17738</td>\n",
              "      <td>-0.66152</td>\n",
              "      <td>0.55532</td>\n",
              "      <td>0.36472</td>\n",
              "      <td>0.28132</td>\n",
              "      <td>-0.40524</td>\n",
              "      <td>0.023356</td>\n",
              "      <td>-0.55835</td>\n",
              "      <td>0.21441</td>\n",
              "      <td>0.41441</td>\n",
              "      <td>-0.39821</td>\n",
              "      <td>1.1243</td>\n",
              "      <td>0.631140</td>\n",
              "      <td>0</td>\n",
              "    </tr>\n",
              "    <tr>\n",
              "      <th>1</th>\n",
              "      <td>-2.060600</td>\n",
              "      <td>0.81312</td>\n",
              "      <td>-0.127490</td>\n",
              "      <td>1.684300</td>\n",
              "      <td>-0.791640</td>\n",
              "      <td>-1.28070</td>\n",
              "      <td>-1.154100</td>\n",
              "      <td>-1.38980</td>\n",
              "      <td>-1.0826</td>\n",
              "      <td>-0.049322</td>\n",
              "      <td>-0.25308</td>\n",
              "      <td>-0.65990</td>\n",
              "      <td>-0.48111</td>\n",
              "      <td>-0.433580</td>\n",
              "      <td>1.04040</td>\n",
              "      <td>-0.13338</td>\n",
              "      <td>0.89148</td>\n",
              "      <td>-1.31840</td>\n",
              "      <td>0.89535</td>\n",
              "      <td>-0.78191</td>\n",
              "      <td>2.37400</td>\n",
              "      <td>-0.96846</td>\n",
              "      <td>-0.51194</td>\n",
              "      <td>2.419800</td>\n",
              "      <td>-0.82765</td>\n",
              "      <td>1.43550</td>\n",
              "      <td>0.16355</td>\n",
              "      <td>-0.34813</td>\n",
              "      <td>1.0932</td>\n",
              "      <td>-1.14280</td>\n",
              "      <td>0.84421</td>\n",
              "      <td>1.75840</td>\n",
              "      <td>0.56900</td>\n",
              "      <td>1.5458</td>\n",
              "      <td>-0.053220</td>\n",
              "      <td>-0.11312</td>\n",
              "      <td>0.376530</td>\n",
              "      <td>0.498670</td>\n",
              "      <td>0.52232</td>\n",
              "      <td>-1.52890</td>\n",
              "      <td>...</td>\n",
              "      <td>-0.010380</td>\n",
              "      <td>-1.11950</td>\n",
              "      <td>0.033739</td>\n",
              "      <td>-0.61695</td>\n",
              "      <td>-1.01190</td>\n",
              "      <td>1.34680</td>\n",
              "      <td>-0.13273</td>\n",
              "      <td>-1.25600</td>\n",
              "      <td>-0.667990</td>\n",
              "      <td>-1.75240</td>\n",
              "      <td>1.802700</td>\n",
              "      <td>0.25174</td>\n",
              "      <td>0.74801</td>\n",
              "      <td>-0.33438</td>\n",
              "      <td>0.018814</td>\n",
              "      <td>0.51712</td>\n",
              "      <td>1.04600</td>\n",
              "      <td>-0.596670</td>\n",
              "      <td>-0.34262</td>\n",
              "      <td>1.52890</td>\n",
              "      <td>-0.98729</td>\n",
              "      <td>-0.80951</td>\n",
              "      <td>-1.09670</td>\n",
              "      <td>-0.892450</td>\n",
              "      <td>-2.31330</td>\n",
              "      <td>0.81132</td>\n",
              "      <td>-0.31864</td>\n",
              "      <td>1.47290</td>\n",
              "      <td>-1.02280</td>\n",
              "      <td>1.82970</td>\n",
              "      <td>0.73605</td>\n",
              "      <td>-1.37630</td>\n",
              "      <td>-1.081400</td>\n",
              "      <td>-0.77927</td>\n",
              "      <td>1.20890</td>\n",
              "      <td>-1.14280</td>\n",
              "      <td>1.04040</td>\n",
              "      <td>0.4293</td>\n",
              "      <td>-0.097461</td>\n",
              "      <td>0</td>\n",
              "    </tr>\n",
              "    <tr>\n",
              "      <th>2</th>\n",
              "      <td>0.620090</td>\n",
              "      <td>1.31690</td>\n",
              "      <td>-0.324790</td>\n",
              "      <td>-0.385600</td>\n",
              "      <td>-0.831310</td>\n",
              "      <td>-1.20220</td>\n",
              "      <td>-0.870440</td>\n",
              "      <td>-1.11950</td>\n",
              "      <td>1.7061</td>\n",
              "      <td>0.664750</td>\n",
              "      <td>-0.48403</td>\n",
              "      <td>-0.62876</td>\n",
              "      <td>0.34124</td>\n",
              "      <td>-0.666370</td>\n",
              "      <td>-0.20049</td>\n",
              "      <td>-0.33712</td>\n",
              "      <td>0.85351</td>\n",
              "      <td>0.15895</td>\n",
              "      <td>0.17211</td>\n",
              "      <td>-0.36541</td>\n",
              "      <td>1.02060</td>\n",
              "      <td>-0.88091</td>\n",
              "      <td>-1.07680</td>\n",
              "      <td>0.775760</td>\n",
              "      <td>-0.88763</td>\n",
              "      <td>-1.41930</td>\n",
              "      <td>-1.76450</td>\n",
              "      <td>-0.42788</td>\n",
              "      <td>1.1146</td>\n",
              "      <td>-1.05280</td>\n",
              "      <td>1.36300</td>\n",
              "      <td>0.98413</td>\n",
              "      <td>-0.16290</td>\n",
              "      <td>1.1158</td>\n",
              "      <td>-0.101370</td>\n",
              "      <td>-1.26320</td>\n",
              "      <td>-0.263810</td>\n",
              "      <td>-0.317270</td>\n",
              "      <td>-0.37932</td>\n",
              "      <td>-1.71730</td>\n",
              "      <td>...</td>\n",
              "      <td>2.235800</td>\n",
              "      <td>-1.11220</td>\n",
              "      <td>-1.585600</td>\n",
              "      <td>1.80940</td>\n",
              "      <td>-1.07680</td>\n",
              "      <td>1.04940</td>\n",
              "      <td>1.18370</td>\n",
              "      <td>-1.17720</td>\n",
              "      <td>-0.062317</td>\n",
              "      <td>-0.45218</td>\n",
              "      <td>0.654270</td>\n",
              "      <td>-0.64386</td>\n",
              "      <td>-2.95710</td>\n",
              "      <td>-0.66313</td>\n",
              "      <td>0.522320</td>\n",
              "      <td>0.17013</td>\n",
              "      <td>0.69747</td>\n",
              "      <td>-0.344000</td>\n",
              "      <td>-1.39320</td>\n",
              "      <td>-0.94792</td>\n",
              "      <td>-0.89148</td>\n",
              "      <td>-1.15410</td>\n",
              "      <td>0.76442</td>\n",
              "      <td>0.648650</td>\n",
              "      <td>-1.41580</td>\n",
              "      <td>0.24973</td>\n",
              "      <td>1.51650</td>\n",
              "      <td>-0.25576</td>\n",
              "      <td>-0.27525</td>\n",
              "      <td>-1.11830</td>\n",
              "      <td>-0.98941</td>\n",
              "      <td>-1.16170</td>\n",
              "      <td>-1.069900</td>\n",
              "      <td>0.38141</td>\n",
              "      <td>1.32460</td>\n",
              "      <td>-1.05620</td>\n",
              "      <td>1.53730</td>\n",
              "      <td>1.4301</td>\n",
              "      <td>-0.734350</td>\n",
              "      <td>0</td>\n",
              "    </tr>\n",
              "    <tr>\n",
              "      <th>3</th>\n",
              "      <td>0.498670</td>\n",
              "      <td>-0.38281</td>\n",
              "      <td>-0.109200</td>\n",
              "      <td>-0.098113</td>\n",
              "      <td>-1.095500</td>\n",
              "      <td>-1.69510</td>\n",
              "      <td>-0.602890</td>\n",
              "      <td>-0.48111</td>\n",
              "      <td>1.0140</td>\n",
              "      <td>0.053869</td>\n",
              "      <td>-0.70744</td>\n",
              "      <td>-0.46226</td>\n",
              "      <td>-2.27720</td>\n",
              "      <td>-1.541500</td>\n",
              "      <td>-0.69913</td>\n",
              "      <td>-0.32889</td>\n",
              "      <td>-0.23837</td>\n",
              "      <td>-1.67360</td>\n",
              "      <td>-0.12488</td>\n",
              "      <td>0.42859</td>\n",
              "      <td>0.74801</td>\n",
              "      <td>-1.38980</td>\n",
              "      <td>-0.37444</td>\n",
              "      <td>-0.022707</td>\n",
              "      <td>-0.56291</td>\n",
              "      <td>0.62797</td>\n",
              "      <td>-1.08840</td>\n",
              "      <td>-0.58278</td>\n",
              "      <td>1.7117</td>\n",
              "      <td>-1.56540</td>\n",
              "      <td>-0.14255</td>\n",
              "      <td>-0.12488</td>\n",
              "      <td>-0.82765</td>\n",
              "      <td>0.4601</td>\n",
              "      <td>0.883790</td>\n",
              "      <td>-1.73460</td>\n",
              "      <td>0.098765</td>\n",
              "      <td>0.035038</td>\n",
              "      <td>-1.14660</td>\n",
              "      <td>-1.30010</td>\n",
              "      <td>...</td>\n",
              "      <td>0.024654</td>\n",
              "      <td>-0.23170</td>\n",
              "      <td>-1.263200</td>\n",
              "      <td>0.69087</td>\n",
              "      <td>-1.35000</td>\n",
              "      <td>0.11704</td>\n",
              "      <td>2.06060</td>\n",
              "      <td>0.31114</td>\n",
              "      <td>0.795190</td>\n",
              "      <td>0.73776</td>\n",
              "      <td>-0.050621</td>\n",
              "      <td>-0.14976</td>\n",
              "      <td>-1.83670</td>\n",
              "      <td>-0.77576</td>\n",
              "      <td>0.758350</td>\n",
              "      <td>-0.77576</td>\n",
              "      <td>-0.59049</td>\n",
              "      <td>-0.457940</td>\n",
              "      <td>-0.76877</td>\n",
              "      <td>1.40350</td>\n",
              "      <td>-1.43550</td>\n",
              "      <td>0.27727</td>\n",
              "      <td>-0.51490</td>\n",
              "      <td>-0.864770</td>\n",
              "      <td>-1.36800</td>\n",
              "      <td>1.42650</td>\n",
              "      <td>0.90312</td>\n",
              "      <td>1.26320</td>\n",
              "      <td>0.52083</td>\n",
              "      <td>1.34360</td>\n",
              "      <td>-0.88379</td>\n",
              "      <td>1.02610</td>\n",
              "      <td>-1.528900</td>\n",
              "      <td>-0.60289</td>\n",
              "      <td>0.39120</td>\n",
              "      <td>0.93680</td>\n",
              "      <td>0.63114</td>\n",
              "      <td>1.1668</td>\n",
              "      <td>-2.419800</td>\n",
              "      <td>0</td>\n",
              "    </tr>\n",
              "    <tr>\n",
              "      <th>4</th>\n",
              "      <td>-0.081829</td>\n",
              "      <td>1.93660</td>\n",
              "      <td>0.064917</td>\n",
              "      <td>-0.447160</td>\n",
              "      <td>-0.068818</td>\n",
              "      <td>-0.95200</td>\n",
              "      <td>0.254420</td>\n",
              "      <td>-0.79697</td>\n",
              "      <td>2.0943</td>\n",
              "      <td>-0.437140</td>\n",
              "      <td>-0.49720</td>\n",
              "      <td>-0.48841</td>\n",
              "      <td>-0.52678</td>\n",
              "      <td>0.087689</td>\n",
              "      <td>-0.38840</td>\n",
              "      <td>-0.54175</td>\n",
              "      <td>1.04710</td>\n",
              "      <td>0.45506</td>\n",
              "      <td>-0.89729</td>\n",
              "      <td>-0.15436</td>\n",
              "      <td>1.92410</td>\n",
              "      <td>-0.61460</td>\n",
              "      <td>-1.51040</td>\n",
              "      <td>1.097900</td>\n",
              "      <td>-1.67890</td>\n",
              "      <td>0.49134</td>\n",
              "      <td>-1.80940</td>\n",
              "      <td>-0.17079</td>\n",
              "      <td>1.2675</td>\n",
              "      <td>-0.79341</td>\n",
              "      <td>1.20490</td>\n",
              "      <td>1.19550</td>\n",
              "      <td>0.04088</td>\n",
              "      <td>1.4088</td>\n",
              "      <td>-0.005838</td>\n",
              "      <td>-1.02170</td>\n",
              "      <td>-1.102600</td>\n",
              "      <td>1.796200</td>\n",
              "      <td>-0.99471</td>\n",
              "      <td>-0.82765</td>\n",
              "      <td>...</td>\n",
              "      <td>0.704110</td>\n",
              "      <td>-0.89341</td>\n",
              "      <td>-1.241900</td>\n",
              "      <td>1.09320</td>\n",
              "      <td>-0.27525</td>\n",
              "      <td>-0.95098</td>\n",
              "      <td>0.62482</td>\n",
              "      <td>-0.93982</td>\n",
              "      <td>0.419370</td>\n",
              "      <td>0.31182</td>\n",
              "      <td>0.774010</td>\n",
              "      <td>-0.12618</td>\n",
              "      <td>-0.32479</td>\n",
              "      <td>-1.53730</td>\n",
              "      <td>0.294840</td>\n",
              "      <td>-0.07272</td>\n",
              "      <td>0.19520</td>\n",
              "      <td>-0.137960</td>\n",
              "      <td>-0.37027</td>\n",
              "      <td>-0.65427</td>\n",
              "      <td>-0.59667</td>\n",
              "      <td>-0.66475</td>\n",
              "      <td>1.05390</td>\n",
              "      <td>-0.024005</td>\n",
              "      <td>-0.96742</td>\n",
              "      <td>-0.10398</td>\n",
              "      <td>0.99047</td>\n",
              "      <td>-0.64226</td>\n",
              "      <td>-0.89341</td>\n",
              "      <td>-0.82218</td>\n",
              "      <td>-1.06990</td>\n",
              "      <td>0.13273</td>\n",
              "      <td>-2.156400</td>\n",
              "      <td>-1.82970</td>\n",
              "      <td>1.28210</td>\n",
              "      <td>-0.75662</td>\n",
              "      <td>1.95380</td>\n",
              "      <td>1.2266</td>\n",
              "      <td>0.111810</td>\n",
              "      <td>0</td>\n",
              "    </tr>\n",
              "  </tbody>\n",
              "</table>\n",
              "<p>5 rows × 201 columns</p>\n",
              "</div>"
            ],
            "text/plain": [
              "        0        1         2         3    ...      197     198       199  200\n",
              "0  0.729270 -0.61931 -0.681020 -1.114600  ... -0.39821  1.1243  0.631140    0\n",
              "1 -2.060600  0.81312 -0.127490  1.684300  ...  1.04040  0.4293 -0.097461    0\n",
              "2  0.620090  1.31690 -0.324790 -0.385600  ...  1.53730  1.4301 -0.734350    0\n",
              "3  0.498670 -0.38281 -0.109200 -0.098113  ...  0.63114  1.1668 -2.419800    0\n",
              "4 -0.081829  1.93660  0.064917 -0.447160  ...  1.95380  1.2266  0.111810    0\n",
              "\n",
              "[5 rows x 201 columns]"
            ]
          },
          "metadata": {
            "tags": []
          },
          "execution_count": 17
        }
      ]
    },
    {
      "cell_type": "code",
      "metadata": {
        "id": "Z0jmJ7EUxlGF",
        "colab_type": "code",
        "outputId": "1c4b3cee-538b-4654-8029-5737a2bf38ca",
        "colab": {
          "base_uri": "https://localhost:8080/",
          "height": 232
        }
      },
      "source": [
        "y = train[200]\n",
        "X = train.drop(200, axis=1)\n",
        "#### Initialize a RandomForestClassifier object, with 20 trees (n_estimators), each of maximum depth 4, while passing \n",
        "#### 'random_state=0' as an argument for repeatability.  \n",
        "####------> \n",
        "clf = RandomForestClassifier(n_estimators=20, max_depth=4, random_state=0)\n",
        "#### Then, call the 'fit' method on the classifier object to\n",
        "#### train it using X and y as above\n",
        "clf.fit(X, y)"
      ],
      "execution_count": 0,
      "outputs": [
        {
          "output_type": "error",
          "ename": "NameError",
          "evalue": "ignored",
          "traceback": [
            "\u001b[0;31m---------------------------------------------------------------------------\u001b[0m",
            "\u001b[0;31mNameError\u001b[0m                                 Traceback (most recent call last)",
            "\u001b[0;32m<ipython-input-18-75438b60994d>\u001b[0m in \u001b[0;36m<module>\u001b[0;34m()\u001b[0m\n\u001b[1;32m      4\u001b[0m \u001b[0;31m#### 'random_state=0' as an argument for repeatability.\u001b[0m\u001b[0;34m\u001b[0m\u001b[0;34m\u001b[0m\u001b[0;34m\u001b[0m\u001b[0m\n\u001b[1;32m      5\u001b[0m \u001b[0;31m####------>\u001b[0m\u001b[0;34m\u001b[0m\u001b[0;34m\u001b[0m\u001b[0;34m\u001b[0m\u001b[0m\n\u001b[0;32m----> 6\u001b[0;31m \u001b[0mclf\u001b[0m \u001b[0;34m=\u001b[0m \u001b[0mRandomForestClassifier\u001b[0m\u001b[0;34m(\u001b[0m\u001b[0mn_estimators\u001b[0m\u001b[0;34m=\u001b[0m\u001b[0;36m20\u001b[0m\u001b[0;34m,\u001b[0m \u001b[0mmax_depth\u001b[0m\u001b[0;34m=\u001b[0m\u001b[0;36m4\u001b[0m\u001b[0;34m,\u001b[0m \u001b[0mrandom_state\u001b[0m\u001b[0;34m=\u001b[0m\u001b[0;36m0\u001b[0m\u001b[0;34m)\u001b[0m\u001b[0;34m\u001b[0m\u001b[0;34m\u001b[0m\u001b[0m\n\u001b[0m\u001b[1;32m      7\u001b[0m \u001b[0;31m#### Then, call the 'fit' method on the classifier object to\u001b[0m\u001b[0;34m\u001b[0m\u001b[0;34m\u001b[0m\u001b[0;34m\u001b[0m\u001b[0m\n\u001b[1;32m      8\u001b[0m \u001b[0;31m#### train it using X and y as above\u001b[0m\u001b[0;34m\u001b[0m\u001b[0;34m\u001b[0m\u001b[0;34m\u001b[0m\u001b[0m\n",
            "\u001b[0;31mNameError\u001b[0m: name 'RandomForestClassifier' is not defined"
          ]
        }
      ]
    },
    {
      "cell_type": "markdown",
      "metadata": {
        "id": "xJYbfL_oxlGL",
        "colab_type": "text"
      },
      "source": [
        "## Extract test data, and apply classifier"
      ]
    },
    {
      "cell_type": "code",
      "metadata": {
        "id": "FOWqA-ZlxlGM",
        "colab_type": "code",
        "colab": {}
      },
      "source": [
        "X2 = test.drop(200, axis=1)\n",
        "y2 = test[200]\n",
        "#### Calculate predictions on the test set by calling the 'predict' method on the trained RandomForestClassifier \n",
        "####------> \n",
        "y_pred2 = clf.predict(X2)"
      ],
      "execution_count": 0,
      "outputs": []
    },
    {
      "cell_type": "markdown",
      "metadata": {
        "id": "X3HC166PxlGR",
        "colab_type": "text"
      },
      "source": [
        "## Generate and plot the confusion matrix, and calculate accuracy"
      ]
    },
    {
      "cell_type": "code",
      "metadata": {
        "colab_type": "code",
        "outputId": "46ca991f-b923-494c-d8b6-caffb3145179",
        "id": "1vx6NmwI1yTn",
        "colab": {
          "base_uri": "https://localhost:8080/",
          "height": 569
        }
      },
      "source": [
        "from sklearn.metrics import confusion_matrix\n",
        "#### Use the 'confusion_matrix' function to calculate the confusion matrix for the ground truth and predicted outputs\n",
        "#### on the test data\n",
        "####------> \n",
        "cm = confusion_matrix(y_pred2, y2)\n",
        "\n",
        "####Build a data frame to help the plotting below\n",
        "cm_melt = {\"variable\":[],\"variable2\":[],\"value\":[]}\n",
        "for column,value in pd.DataFrame(cm).items():\n",
        "    cm_melt['value']+=value.tolist()\n",
        "    cm_melt['variable2'] += range(len(value))\n",
        "    cm_melt['variable']+=[column]*len(value)\n",
        "cm_melt = pd.DataFrame(cm_melt)\n",
        "\n",
        "print(\"Confusion matrix:\")\n",
        "print(cm)\n",
        "\n",
        "#### Evaluate overall accuracy using the trace of the confusion matrix; the trace is the sum over the main diagonal elements\n",
        "####------>  \n",
        "acc = 0\n",
        "for i in range(len(cm)):\n",
        "  acc = acc + cm[i][i]\n",
        "\n",
        "####Normalize the trace by the total number of individuals in the study to get the accuracy\n",
        "acc = acc / len(train)\n",
        "print(\"Overall accuracy: \" + f\"{acc:.3f}\")\n",
        "\n",
        "(\n",
        "    p9.ggplot(cm_melt)\n",
        "      + p9.geom_tile(p9.aes(x = \"variable\", y = \"variable2\",fill=\"value\"))\n",
        "      + p9.scale_fill_continuous(\"Blues\")\n",
        "      + p9.scales.scale_y_reverse()\n",
        ")"
      ],
      "execution_count": 0,
      "outputs": [
        {
          "output_type": "stream",
          "text": [
            "Confusion matrix:\n",
            "[[5 3 4 0]\n",
            " [1 6 4 2]\n",
            " [4 3 6 4]\n",
            " [5 3 1 9]]\n",
            "Overall accuracy: 0.433\n"
          ],
          "name": "stdout"
        },
        {
          "output_type": "display_data",
          "data": {
            "image/png": "[encoded data removed]",
            "text/plain": [
              "<Figure size 640x480 with 1 Axes>"
            ]
          },
          "metadata": {
            "tags": []
          }
        },
        {
          "output_type": "execute_result",
          "data": {
            "text/plain": [
              "<ggplot: (8787016886732)>"
            ]
          },
          "metadata": {
            "tags": []
          },
          "execution_count": 24
        }
      ]
    },
    {
      "cell_type": "markdown",
      "metadata": {
        "id": "T8O6CYtgxlGY",
        "colab_type": "text"
      },
      "source": [
        "## Find most important genes, and plot per-class correlations\n",
        "\n",
        "Use the attribute 'feature_importances_' of the random forest classifier, and rank the genes by this value.  Use the .corr method to calculate the Pearson correlation of the top 10 genes with each class."
      ]
    },
    {
      "cell_type": "code",
      "metadata": {
        "id": "DvZAPQ1jhVWk",
        "colab_type": "code",
        "outputId": "01655c8b-8a72-4c8d-9403-c4bd504c9dc4",
        "colab": {
          "base_uri": "https://localhost:8080/",
          "height": 798
        }
      },
      "source": [
        "geneIds = pd.read_csv('/content/gdrive/My Drive/[YCMI_CBDS Summer Course] Data/bioinformatics/GeneNames_PEC_filtered.txt', header=None, names=['genes'])\n",
        "\n",
        "print(\"Most important genes:\")\n",
        "\n",
        "#### Use the method 'feature_importances_' from the RandomForestClassifier class to \n",
        "#### get the importance of each feature.\n",
        "####Take the absolute value of the feature importances \n",
        "geneIds['importance'] = abs(clf.feature_importances_)\n",
        "\n",
        "#### The values need to be ordered such that the genes with largest coefficients are listed first\n",
        "geneIds = geneIds.sort_values(by='importance', ascending=False).head(10)\n",
        "print(geneIds['genes'])\n",
        "\n",
        "#### Calculate the correlation between the expression of every one of the top 10 genes across individuals with a binary indicator vector\n",
        "#### (y==j) for class j.\n",
        "arr = {\"class\":[], \"corr\":[], \"gene\":[]}\n",
        "for i, data in geneIds.iterrows():\n",
        "    arr[\"gene\"] += [data['genes']]*4\n",
        "    arr[\"class\"] += range(4)\n",
        "    for j in range(4):\n",
        "      arr['corr'].append(X[i].corr(y==j))\n",
        "  \n",
        "# names for the class values\n",
        "class_names = {0:\"control\", 1:\"schizophrenia\", 2:\"bipolar\", 3:\"autism\"}\n",
        "\n",
        "(\n",
        "    p9.ggplot(pd.DataFrame(arr).replace({'class': class_names}))\n",
        "      + p9.geom_bar(p9.aes(x=\"gene\",y=\"corr\", fill=\"gene\"),stat=\"identity\")\n",
        "      + p9.labs(x=\"\", y=\"\")\n",
        "      + p9.facet_wrap(\"class\", nrow=1) \n",
        "      + p9.theme(axis_text_x = p9.element_text(angle = 90, hjust = 1))\n",
        ")"
      ],
      "execution_count": 0,
      "outputs": [
        {
          "output_type": "stream",
          "text": [
            "Most important genes:\n",
            "143     ENSG00000121594.7\n",
            "176     ENSG00000105879.7\n",
            "184     ENSG00000079459.8\n",
            "44     ENSG00000165973.13\n",
            "161     ENSG00000197914.2\n",
            "193     ENSG00000187690.2\n",
            "134     ENSG00000128322.6\n",
            "42      ENSG00000181001.1\n",
            "61      ENSG00000111537.4\n",
            "144    ENSG00000065534.14\n",
            "Name: genes, dtype: object\n"
          ],
          "name": "stdout"
        },
        {
          "output_type": "display_data",
          "data": {
            "image/png": "[encoded data removed]",
            "text/plain": [
              "<Figure size 640x480 with 4 Axes>"
            ]
          },
          "metadata": {
            "tags": []
          }
        },
        {
          "output_type": "execute_result",
          "data": {
            "text/plain": [
              "<ggplot: (8787016829893)>"
            ]
          },
          "metadata": {
            "tags": []
          },
          "execution_count": 25
        }
      ]
    }
  ]
}